{
 "cells": [
  {
   "cell_type": "markdown",
   "id": "cac83599",
   "metadata": {},
   "source": [
    "# <span style=\"color:#cd0057; font-weight:bold\">⬇️Step 1: Import Essential Libraries</span>\n",
    "<hr>"
   ]
  },
  {
   "cell_type": "code",
   "execution_count": 307,
   "id": "e86aa2cf",
   "metadata": {},
   "outputs": [],
   "source": [
    "import numpy as np              \n",
    "import pandas as pd              \n",
    "import matplotlib.pyplot as plt  \n",
    "import seaborn as sns \n",
    "import plotly.express as px "
   ]
  },
  {
   "cell_type": "markdown",
   "id": "187e08c9",
   "metadata": {},
   "source": [
    "# <span style=\"color:#cd0057; font-weight:bold\">🚚Step 2: Load Dataset</span>\n",
    "<hr>"
   ]
  },
  {
   "cell_type": "code",
   "execution_count": 251,
   "id": "9d925493",
   "metadata": {},
   "outputs": [],
   "source": [
    "# Show all columns and rows in output\n",
    "pd.set_option('display.max_rows', None) \n",
    "pd.set_option('display.max_columns', None) "
   ]
  },
  {
   "cell_type": "markdown",
   "id": "9988e0c8",
   "metadata": {},
   "source": [
    "### <span style=\"color:#0076cd; font-weight:bold\">load all csv files</span>"
   ]
  },
  {
   "cell_type": "code",
   "execution_count": 252,
   "id": "a46cdc54",
   "metadata": {},
   "outputs": [],
   "source": [
    "fact_table = pd.read_csv('csv_files/fact_table.csv', encoding='ISO-8859-1')\n",
    "time_table = pd.read_csv('csv_files/time_dim.csv', encoding='ISO-8859-1')\n",
    "store_table = pd.read_csv('csv_files/store_dim.csv', encoding='ISO-8859-1')\n",
    "item_table = pd.read_csv('csv_files/item_dim.csv', encoding='ISO-8859-1')"
   ]
  },
  {
   "cell_type": "code",
   "execution_count": 253,
   "id": "a89027e5",
   "metadata": {},
   "outputs": [
    {
     "data": {
      "text/html": [
       "<div>\n",
       "<style scoped>\n",
       "    .dataframe tbody tr th:only-of-type {\n",
       "        vertical-align: middle;\n",
       "    }\n",
       "\n",
       "    .dataframe tbody tr th {\n",
       "        vertical-align: top;\n",
       "    }\n",
       "\n",
       "    .dataframe thead th {\n",
       "        text-align: right;\n",
       "    }\n",
       "</style>\n",
       "<table border=\"1\" class=\"dataframe\">\n",
       "  <thead>\n",
       "    <tr style=\"text-align: right;\">\n",
       "      <th></th>\n",
       "      <th>payment_key</th>\n",
       "      <th>coustomer_key</th>\n",
       "      <th>time_key</th>\n",
       "      <th>item_key</th>\n",
       "      <th>store_key</th>\n",
       "      <th>quantity</th>\n",
       "      <th>unit</th>\n",
       "      <th>unit_price</th>\n",
       "      <th>total_price</th>\n",
       "    </tr>\n",
       "  </thead>\n",
       "  <tbody>\n",
       "    <tr>\n",
       "      <th>0</th>\n",
       "      <td>P026</td>\n",
       "      <td>C004510</td>\n",
       "      <td>T049189</td>\n",
       "      <td>I00177</td>\n",
       "      <td>S00307</td>\n",
       "      <td>1</td>\n",
       "      <td>ct</td>\n",
       "      <td>35.0</td>\n",
       "      <td>35.0</td>\n",
       "    </tr>\n",
       "    <tr>\n",
       "      <th>1</th>\n",
       "      <td>P022</td>\n",
       "      <td>C008967</td>\n",
       "      <td>T041209</td>\n",
       "      <td>I00248</td>\n",
       "      <td>S00595</td>\n",
       "      <td>1</td>\n",
       "      <td>rolls</td>\n",
       "      <td>26.0</td>\n",
       "      <td>26.0</td>\n",
       "    </tr>\n",
       "    <tr>\n",
       "      <th>2</th>\n",
       "      <td>P030</td>\n",
       "      <td>C007261</td>\n",
       "      <td>T03633</td>\n",
       "      <td>I00195</td>\n",
       "      <td>S00496</td>\n",
       "      <td>8</td>\n",
       "      <td>ct</td>\n",
       "      <td>12.5</td>\n",
       "      <td>100.0</td>\n",
       "    </tr>\n",
       "    <tr>\n",
       "      <th>3</th>\n",
       "      <td>P032</td>\n",
       "      <td>C007048</td>\n",
       "      <td>T084631</td>\n",
       "      <td>I00131</td>\n",
       "      <td>S0086</td>\n",
       "      <td>8</td>\n",
       "      <td>ct</td>\n",
       "      <td>14.0</td>\n",
       "      <td>112.0</td>\n",
       "    </tr>\n",
       "    <tr>\n",
       "      <th>4</th>\n",
       "      <td>P014</td>\n",
       "      <td>C006430</td>\n",
       "      <td>T071276</td>\n",
       "      <td>I00050</td>\n",
       "      <td>S00488</td>\n",
       "      <td>8</td>\n",
       "      <td>cans</td>\n",
       "      <td>8.0</td>\n",
       "      <td>64.0</td>\n",
       "    </tr>\n",
       "  </tbody>\n",
       "</table>\n",
       "</div>"
      ],
      "text/plain": [
       "  payment_key coustomer_key time_key item_key store_key  quantity   unit  \\\n",
       "0        P026       C004510  T049189   I00177    S00307         1     ct   \n",
       "1        P022       C008967  T041209   I00248    S00595         1  rolls   \n",
       "2        P030       C007261   T03633   I00195    S00496         8     ct   \n",
       "3        P032       C007048  T084631   I00131     S0086         8     ct   \n",
       "4        P014       C006430  T071276   I00050    S00488         8   cans   \n",
       "\n",
       "   unit_price  total_price  \n",
       "0        35.0         35.0  \n",
       "1        26.0         26.0  \n",
       "2        12.5        100.0  \n",
       "3        14.0        112.0  \n",
       "4         8.0         64.0  "
      ]
     },
     "execution_count": 253,
     "metadata": {},
     "output_type": "execute_result"
    }
   ],
   "source": [
    "fact_table.head()"
   ]
  },
  {
   "cell_type": "code",
   "execution_count": 254,
   "id": "8ed0eae4",
   "metadata": {},
   "outputs": [
    {
     "data": {
      "text/html": [
       "<div>\n",
       "<style scoped>\n",
       "    .dataframe tbody tr th:only-of-type {\n",
       "        vertical-align: middle;\n",
       "    }\n",
       "\n",
       "    .dataframe tbody tr th {\n",
       "        vertical-align: top;\n",
       "    }\n",
       "\n",
       "    .dataframe thead th {\n",
       "        text-align: right;\n",
       "    }\n",
       "</style>\n",
       "<table border=\"1\" class=\"dataframe\">\n",
       "  <thead>\n",
       "    <tr style=\"text-align: right;\">\n",
       "      <th></th>\n",
       "      <th>time_key</th>\n",
       "      <th>date</th>\n",
       "      <th>hour</th>\n",
       "      <th>day</th>\n",
       "      <th>week</th>\n",
       "      <th>month</th>\n",
       "      <th>quarter</th>\n",
       "      <th>year</th>\n",
       "    </tr>\n",
       "  </thead>\n",
       "  <tbody>\n",
       "    <tr>\n",
       "      <th>0</th>\n",
       "      <td>T00001</td>\n",
       "      <td>20-05-2017 14:56</td>\n",
       "      <td>14</td>\n",
       "      <td>20</td>\n",
       "      <td>3rd Week</td>\n",
       "      <td>5</td>\n",
       "      <td>Q2</td>\n",
       "      <td>2017</td>\n",
       "    </tr>\n",
       "    <tr>\n",
       "      <th>1</th>\n",
       "      <td>T00002</td>\n",
       "      <td>30-01-2015 22:14</td>\n",
       "      <td>22</td>\n",
       "      <td>30</td>\n",
       "      <td>4th Week</td>\n",
       "      <td>1</td>\n",
       "      <td>Q1</td>\n",
       "      <td>2015</td>\n",
       "    </tr>\n",
       "    <tr>\n",
       "      <th>2</th>\n",
       "      <td>T00003</td>\n",
       "      <td>14-03-2020 02:34</td>\n",
       "      <td>2</td>\n",
       "      <td>14</td>\n",
       "      <td>2nd Week</td>\n",
       "      <td>3</td>\n",
       "      <td>Q1</td>\n",
       "      <td>2020</td>\n",
       "    </tr>\n",
       "    <tr>\n",
       "      <th>3</th>\n",
       "      <td>T00004</td>\n",
       "      <td>27-04-2018 12:19</td>\n",
       "      <td>12</td>\n",
       "      <td>27</td>\n",
       "      <td>4th Week</td>\n",
       "      <td>4</td>\n",
       "      <td>Q2</td>\n",
       "      <td>2018</td>\n",
       "    </tr>\n",
       "    <tr>\n",
       "      <th>4</th>\n",
       "      <td>T00005</td>\n",
       "      <td>14-04-2018 10:43</td>\n",
       "      <td>10</td>\n",
       "      <td>14</td>\n",
       "      <td>2nd Week</td>\n",
       "      <td>4</td>\n",
       "      <td>Q2</td>\n",
       "      <td>2018</td>\n",
       "    </tr>\n",
       "  </tbody>\n",
       "</table>\n",
       "</div>"
      ],
      "text/plain": [
       "  time_key              date  hour  day      week  month quarter  year\n",
       "0   T00001  20-05-2017 14:56    14   20  3rd Week      5      Q2  2017\n",
       "1   T00002  30-01-2015 22:14    22   30  4th Week      1      Q1  2015\n",
       "2   T00003  14-03-2020 02:34     2   14  2nd Week      3      Q1  2020\n",
       "3   T00004  27-04-2018 12:19    12   27  4th Week      4      Q2  2018\n",
       "4   T00005  14-04-2018 10:43    10   14  2nd Week      4      Q2  2018"
      ]
     },
     "execution_count": 254,
     "metadata": {},
     "output_type": "execute_result"
    }
   ],
   "source": [
    "time_table.head()"
   ]
  },
  {
   "cell_type": "code",
   "execution_count": 255,
   "id": "911aad35",
   "metadata": {},
   "outputs": [
    {
     "data": {
      "text/html": [
       "<div>\n",
       "<style scoped>\n",
       "    .dataframe tbody tr th:only-of-type {\n",
       "        vertical-align: middle;\n",
       "    }\n",
       "\n",
       "    .dataframe tbody tr th {\n",
       "        vertical-align: top;\n",
       "    }\n",
       "\n",
       "    .dataframe thead th {\n",
       "        text-align: right;\n",
       "    }\n",
       "</style>\n",
       "<table border=\"1\" class=\"dataframe\">\n",
       "  <thead>\n",
       "    <tr style=\"text-align: right;\">\n",
       "      <th></th>\n",
       "      <th>store_key</th>\n",
       "      <th>division</th>\n",
       "      <th>district</th>\n",
       "      <th>upazila</th>\n",
       "    </tr>\n",
       "  </thead>\n",
       "  <tbody>\n",
       "    <tr>\n",
       "      <th>0</th>\n",
       "      <td>S0001</td>\n",
       "      <td>SYLHET</td>\n",
       "      <td>HABIGANJ</td>\n",
       "      <td>AJMIRIGANJ</td>\n",
       "    </tr>\n",
       "    <tr>\n",
       "      <th>1</th>\n",
       "      <td>S0002</td>\n",
       "      <td>SYLHET</td>\n",
       "      <td>HABIGANJ</td>\n",
       "      <td>BAHUBAL</td>\n",
       "    </tr>\n",
       "    <tr>\n",
       "      <th>2</th>\n",
       "      <td>S0003</td>\n",
       "      <td>SYLHET</td>\n",
       "      <td>HABIGANJ</td>\n",
       "      <td>BANIACHONG</td>\n",
       "    </tr>\n",
       "    <tr>\n",
       "      <th>3</th>\n",
       "      <td>S0004</td>\n",
       "      <td>SYLHET</td>\n",
       "      <td>HABIGANJ</td>\n",
       "      <td>CHUNARUGHAT</td>\n",
       "    </tr>\n",
       "    <tr>\n",
       "      <th>4</th>\n",
       "      <td>S0005</td>\n",
       "      <td>SYLHET</td>\n",
       "      <td>HABIGANJ</td>\n",
       "      <td>HABIGANJ SADAR</td>\n",
       "    </tr>\n",
       "  </tbody>\n",
       "</table>\n",
       "</div>"
      ],
      "text/plain": [
       "  store_key division  district         upazila\n",
       "0     S0001   SYLHET  HABIGANJ      AJMIRIGANJ\n",
       "1     S0002   SYLHET  HABIGANJ         BAHUBAL\n",
       "2     S0003   SYLHET  HABIGANJ      BANIACHONG\n",
       "3     S0004   SYLHET  HABIGANJ     CHUNARUGHAT\n",
       "4     S0005   SYLHET  HABIGANJ  HABIGANJ SADAR"
      ]
     },
     "execution_count": 255,
     "metadata": {},
     "output_type": "execute_result"
    }
   ],
   "source": [
    "store_table.head()"
   ]
  },
  {
   "cell_type": "code",
   "execution_count": 256,
   "id": "bd563fbe",
   "metadata": {},
   "outputs": [
    {
     "data": {
      "text/html": [
       "<div>\n",
       "<style scoped>\n",
       "    .dataframe tbody tr th:only-of-type {\n",
       "        vertical-align: middle;\n",
       "    }\n",
       "\n",
       "    .dataframe tbody tr th {\n",
       "        vertical-align: top;\n",
       "    }\n",
       "\n",
       "    .dataframe thead th {\n",
       "        text-align: right;\n",
       "    }\n",
       "</style>\n",
       "<table border=\"1\" class=\"dataframe\">\n",
       "  <thead>\n",
       "    <tr style=\"text-align: right;\">\n",
       "      <th></th>\n",
       "      <th>item_key</th>\n",
       "      <th>item_name</th>\n",
       "      <th>desc</th>\n",
       "      <th>unit_price</th>\n",
       "      <th>man_country</th>\n",
       "      <th>supplier</th>\n",
       "      <th>unit</th>\n",
       "    </tr>\n",
       "  </thead>\n",
       "  <tbody>\n",
       "    <tr>\n",
       "      <th>0</th>\n",
       "      <td>I00001</td>\n",
       "      <td>A&amp;W Root Beer - 12 oz cans</td>\n",
       "      <td>a. Beverage - Soda</td>\n",
       "      <td>11.50</td>\n",
       "      <td>Netherlands</td>\n",
       "      <td>Bolsius Boxmeer</td>\n",
       "      <td>cans</td>\n",
       "    </tr>\n",
       "    <tr>\n",
       "      <th>1</th>\n",
       "      <td>I00002</td>\n",
       "      <td>A&amp;W Root Beer Diet - 12 oz cans</td>\n",
       "      <td>a. Beverage - Soda</td>\n",
       "      <td>6.75</td>\n",
       "      <td>poland</td>\n",
       "      <td>CHROMADURLIN S.A.S</td>\n",
       "      <td>cans</td>\n",
       "    </tr>\n",
       "    <tr>\n",
       "      <th>2</th>\n",
       "      <td>I00003</td>\n",
       "      <td>Barq's Root Beer - 12 oz cans</td>\n",
       "      <td>a. Beverage - Soda</td>\n",
       "      <td>6.75</td>\n",
       "      <td>Bangladesh</td>\n",
       "      <td>DENIMACH LTD</td>\n",
       "      <td>cans</td>\n",
       "    </tr>\n",
       "    <tr>\n",
       "      <th>3</th>\n",
       "      <td>I00004</td>\n",
       "      <td>Cherry Coke 12oz</td>\n",
       "      <td>a. Beverage - Soda</td>\n",
       "      <td>6.75</td>\n",
       "      <td>Netherlands</td>\n",
       "      <td>Bolsius Boxmeer</td>\n",
       "      <td>cans</td>\n",
       "    </tr>\n",
       "    <tr>\n",
       "      <th>4</th>\n",
       "      <td>I00005</td>\n",
       "      <td>Cherry Coke Zero 12 pack</td>\n",
       "      <td>a. Beverage - Soda</td>\n",
       "      <td>6.75</td>\n",
       "      <td>Finland</td>\n",
       "      <td>HARDFORD AB</td>\n",
       "      <td>cans</td>\n",
       "    </tr>\n",
       "  </tbody>\n",
       "</table>\n",
       "</div>"
      ],
      "text/plain": [
       "  item_key                        item_name                desc  unit_price  \\\n",
       "0   I00001       A&W Root Beer - 12 oz cans  a. Beverage - Soda       11.50   \n",
       "1   I00002  A&W Root Beer Diet - 12 oz cans  a. Beverage - Soda        6.75   \n",
       "2   I00003    Barq's Root Beer - 12 oz cans  a. Beverage - Soda        6.75   \n",
       "3   I00004                 Cherry Coke 12oz  a. Beverage - Soda        6.75   \n",
       "4   I00005         Cherry Coke Zero 12 pack  a. Beverage - Soda        6.75   \n",
       "\n",
       "   man_country            supplier  unit  \n",
       "0  Netherlands     Bolsius Boxmeer  cans  \n",
       "1       poland  CHROMADURLIN S.A.S  cans  \n",
       "2   Bangladesh        DENIMACH LTD  cans  \n",
       "3  Netherlands     Bolsius Boxmeer  cans  \n",
       "4      Finland         HARDFORD AB  cans  "
      ]
     },
     "execution_count": 256,
     "metadata": {},
     "output_type": "execute_result"
    }
   ],
   "source": [
    "item_table.head()"
   ]
  },
  {
   "cell_type": "markdown",
   "id": "2bfb4f89",
   "metadata": {},
   "source": [
    "### <span style=\"color:#0076cd; font-weight:bold\">Data cleaning before combining csv files</span>"
   ]
  },
  {
   "cell_type": "code",
   "execution_count": 257,
   "id": "fc4671b1",
   "metadata": {},
   "outputs": [],
   "source": [
    "item_table.fillna('bags', inplace=True)"
   ]
  },
  {
   "cell_type": "code",
   "execution_count": 258,
   "id": "7532bd2b",
   "metadata": {},
   "outputs": [],
   "source": [
    "fact_table.drop(['unit'], axis=1, inplace=True)\n",
    "fact_table.drop(['unit_price'], axis=1, inplace=True)"
   ]
  },
  {
   "cell_type": "markdown",
   "id": "6a2dba62",
   "metadata": {},
   "source": [
    "### <span style=\"color:#0076cd; font-weight:bold\">Making df</span>"
   ]
  },
  {
   "cell_type": "code",
   "execution_count": 259,
   "id": "20231be2",
   "metadata": {},
   "outputs": [
    {
     "data": {
      "text/html": [
       "<div>\n",
       "<style scoped>\n",
       "    .dataframe tbody tr th:only-of-type {\n",
       "        vertical-align: middle;\n",
       "    }\n",
       "\n",
       "    .dataframe tbody tr th {\n",
       "        vertical-align: top;\n",
       "    }\n",
       "\n",
       "    .dataframe thead th {\n",
       "        text-align: right;\n",
       "    }\n",
       "</style>\n",
       "<table border=\"1\" class=\"dataframe\">\n",
       "  <thead>\n",
       "    <tr style=\"text-align: right;\">\n",
       "      <th></th>\n",
       "      <th>payment_key</th>\n",
       "      <th>coustomer_key</th>\n",
       "      <th>time_key</th>\n",
       "      <th>item_key</th>\n",
       "      <th>store_key</th>\n",
       "      <th>quantity</th>\n",
       "      <th>total_price</th>\n",
       "      <th>date</th>\n",
       "      <th>hour</th>\n",
       "      <th>day</th>\n",
       "      <th>week</th>\n",
       "      <th>month</th>\n",
       "      <th>quarter</th>\n",
       "      <th>year</th>\n",
       "      <th>division</th>\n",
       "      <th>district</th>\n",
       "      <th>upazila</th>\n",
       "      <th>item_name</th>\n",
       "      <th>desc</th>\n",
       "      <th>unit_price</th>\n",
       "      <th>man_country</th>\n",
       "      <th>supplier</th>\n",
       "      <th>unit</th>\n",
       "    </tr>\n",
       "  </thead>\n",
       "  <tbody>\n",
       "    <tr>\n",
       "      <th>0</th>\n",
       "      <td>P026</td>\n",
       "      <td>C004510</td>\n",
       "      <td>T049189</td>\n",
       "      <td>I00177</td>\n",
       "      <td>S00307</td>\n",
       "      <td>1</td>\n",
       "      <td>35.0</td>\n",
       "      <td>26-04-2016 17:13</td>\n",
       "      <td>17</td>\n",
       "      <td>26</td>\n",
       "      <td>4th Week</td>\n",
       "      <td>4</td>\n",
       "      <td>Q2</td>\n",
       "      <td>2016</td>\n",
       "      <td>DHAKA</td>\n",
       "      <td>JAMALPUR</td>\n",
       "      <td>ISLAMPUR</td>\n",
       "      <td>M&amp;M Peanut Candy 1.7 oz</td>\n",
       "      <td>Food - Chocolate</td>\n",
       "      <td>35.0</td>\n",
       "      <td>Netherlands</td>\n",
       "      <td>Bolsius Boxmeer</td>\n",
       "      <td>ct</td>\n",
       "    </tr>\n",
       "    <tr>\n",
       "      <th>1</th>\n",
       "      <td>P005</td>\n",
       "      <td>C005381</td>\n",
       "      <td>T041408</td>\n",
       "      <td>I00177</td>\n",
       "      <td>S00307</td>\n",
       "      <td>5</td>\n",
       "      <td>175.0</td>\n",
       "      <td>27-02-2020 19:33</td>\n",
       "      <td>19</td>\n",
       "      <td>27</td>\n",
       "      <td>4th Week</td>\n",
       "      <td>2</td>\n",
       "      <td>Q1</td>\n",
       "      <td>2020</td>\n",
       "      <td>DHAKA</td>\n",
       "      <td>JAMALPUR</td>\n",
       "      <td>ISLAMPUR</td>\n",
       "      <td>M&amp;M Peanut Candy 1.7 oz</td>\n",
       "      <td>Food - Chocolate</td>\n",
       "      <td>35.0</td>\n",
       "      <td>Netherlands</td>\n",
       "      <td>Bolsius Boxmeer</td>\n",
       "      <td>ct</td>\n",
       "    </tr>\n",
       "    <tr>\n",
       "      <th>2</th>\n",
       "      <td>P018</td>\n",
       "      <td>C005717</td>\n",
       "      <td>T038791</td>\n",
       "      <td>I00177</td>\n",
       "      <td>S00307</td>\n",
       "      <td>10</td>\n",
       "      <td>350.0</td>\n",
       "      <td>10-03-2015 19:10</td>\n",
       "      <td>19</td>\n",
       "      <td>10</td>\n",
       "      <td>2nd Week</td>\n",
       "      <td>3</td>\n",
       "      <td>Q1</td>\n",
       "      <td>2015</td>\n",
       "      <td>DHAKA</td>\n",
       "      <td>JAMALPUR</td>\n",
       "      <td>ISLAMPUR</td>\n",
       "      <td>M&amp;M Peanut Candy 1.7 oz</td>\n",
       "      <td>Food - Chocolate</td>\n",
       "      <td>35.0</td>\n",
       "      <td>Netherlands</td>\n",
       "      <td>Bolsius Boxmeer</td>\n",
       "      <td>ct</td>\n",
       "    </tr>\n",
       "    <tr>\n",
       "      <th>3</th>\n",
       "      <td>P022</td>\n",
       "      <td>C006906</td>\n",
       "      <td>T075788</td>\n",
       "      <td>I00177</td>\n",
       "      <td>S00307</td>\n",
       "      <td>11</td>\n",
       "      <td>385.0</td>\n",
       "      <td>01-02-2014 16:04</td>\n",
       "      <td>16</td>\n",
       "      <td>1</td>\n",
       "      <td>1st Week</td>\n",
       "      <td>2</td>\n",
       "      <td>Q1</td>\n",
       "      <td>2014</td>\n",
       "      <td>DHAKA</td>\n",
       "      <td>JAMALPUR</td>\n",
       "      <td>ISLAMPUR</td>\n",
       "      <td>M&amp;M Peanut Candy 1.7 oz</td>\n",
       "      <td>Food - Chocolate</td>\n",
       "      <td>35.0</td>\n",
       "      <td>Netherlands</td>\n",
       "      <td>Bolsius Boxmeer</td>\n",
       "      <td>ct</td>\n",
       "    </tr>\n",
       "    <tr>\n",
       "      <th>4</th>\n",
       "      <td>P016</td>\n",
       "      <td>C004747</td>\n",
       "      <td>T085858</td>\n",
       "      <td>I00177</td>\n",
       "      <td>S00307</td>\n",
       "      <td>7</td>\n",
       "      <td>245.0</td>\n",
       "      <td>05-04-2014 03:27</td>\n",
       "      <td>3</td>\n",
       "      <td>5</td>\n",
       "      <td>1st Week</td>\n",
       "      <td>4</td>\n",
       "      <td>Q2</td>\n",
       "      <td>2014</td>\n",
       "      <td>DHAKA</td>\n",
       "      <td>JAMALPUR</td>\n",
       "      <td>ISLAMPUR</td>\n",
       "      <td>M&amp;M Peanut Candy 1.7 oz</td>\n",
       "      <td>Food - Chocolate</td>\n",
       "      <td>35.0</td>\n",
       "      <td>Netherlands</td>\n",
       "      <td>Bolsius Boxmeer</td>\n",
       "      <td>ct</td>\n",
       "    </tr>\n",
       "  </tbody>\n",
       "</table>\n",
       "</div>"
      ],
      "text/plain": [
       "  payment_key coustomer_key time_key item_key store_key  quantity  \\\n",
       "0        P026       C004510  T049189   I00177    S00307         1   \n",
       "1        P005       C005381  T041408   I00177    S00307         5   \n",
       "2        P018       C005717  T038791   I00177    S00307        10   \n",
       "3        P022       C006906  T075788   I00177    S00307        11   \n",
       "4        P016       C004747  T085858   I00177    S00307         7   \n",
       "\n",
       "   total_price              date  hour  day      week  month quarter  year  \\\n",
       "0         35.0  26-04-2016 17:13    17   26  4th Week      4      Q2  2016   \n",
       "1        175.0  27-02-2020 19:33    19   27  4th Week      2      Q1  2020   \n",
       "2        350.0  10-03-2015 19:10    19   10  2nd Week      3      Q1  2015   \n",
       "3        385.0  01-02-2014 16:04    16    1  1st Week      2      Q1  2014   \n",
       "4        245.0  05-04-2014 03:27     3    5  1st Week      4      Q2  2014   \n",
       "\n",
       "  division  district   upazila                item_name              desc  \\\n",
       "0    DHAKA  JAMALPUR  ISLAMPUR  M&M Peanut Candy 1.7 oz  Food - Chocolate   \n",
       "1    DHAKA  JAMALPUR  ISLAMPUR  M&M Peanut Candy 1.7 oz  Food - Chocolate   \n",
       "2    DHAKA  JAMALPUR  ISLAMPUR  M&M Peanut Candy 1.7 oz  Food - Chocolate   \n",
       "3    DHAKA  JAMALPUR  ISLAMPUR  M&M Peanut Candy 1.7 oz  Food - Chocolate   \n",
       "4    DHAKA  JAMALPUR  ISLAMPUR  M&M Peanut Candy 1.7 oz  Food - Chocolate   \n",
       "\n",
       "   unit_price  man_country         supplier unit  \n",
       "0        35.0  Netherlands  Bolsius Boxmeer   ct  \n",
       "1        35.0  Netherlands  Bolsius Boxmeer   ct  \n",
       "2        35.0  Netherlands  Bolsius Boxmeer   ct  \n",
       "3        35.0  Netherlands  Bolsius Boxmeer   ct  \n",
       "4        35.0  Netherlands  Bolsius Boxmeer   ct  "
      ]
     },
     "execution_count": 259,
     "metadata": {},
     "output_type": "execute_result"
    }
   ],
   "source": [
    "df = pd.merge(fact_table, time_table, on='time_key')\n",
    "df = pd.merge(df, store_table, on='store_key')\n",
    "df = pd.merge(df, item_table, on='item_key')\n",
    "df.head()"
   ]
  },
  {
   "cell_type": "markdown",
   "id": "25424a4c",
   "metadata": {},
   "source": [
    "# <span style=\"color:#cd0057; font-weight:bold\">🩺Step03: Understand Data frame (df)</span>\n",
    "<hr>"
   ]
  },
  {
   "cell_type": "code",
   "execution_count": 260,
   "id": "7edd8e76",
   "metadata": {},
   "outputs": [
    {
     "data": {
      "text/plain": [
       "(1000000, 23)"
      ]
     },
     "execution_count": 260,
     "metadata": {},
     "output_type": "execute_result"
    }
   ],
   "source": [
    "df.shape"
   ]
  },
  {
   "cell_type": "code",
   "execution_count": 261,
   "id": "1e4c56b0",
   "metadata": {},
   "outputs": [
    {
     "data": {
      "text/plain": [
       "Index(['payment_key', 'coustomer_key', 'time_key', 'item_key', 'store_key',\n",
       "       'quantity', 'total_price', 'date', 'hour', 'day', 'week', 'month',\n",
       "       'quarter', 'year', 'division', 'district', 'upazila', 'item_name',\n",
       "       'desc', 'unit_price', 'man_country', 'supplier', 'unit'],\n",
       "      dtype='object')"
      ]
     },
     "execution_count": 261,
     "metadata": {},
     "output_type": "execute_result"
    }
   ],
   "source": [
    "df.columns"
   ]
  },
  {
   "cell_type": "code",
   "execution_count": 262,
   "id": "c90be207",
   "metadata": {},
   "outputs": [
    {
     "data": {
      "text/html": [
       "<style type=\"text/css\">\n",
       "#T_7e645_row0_col5, #T_7e645_row0_col6, #T_7e645_row0_col8, #T_7e645_row0_col9, #T_7e645_row0_col11, #T_7e645_row0_col13, #T_7e645_row0_col19 {\n",
       "  background-color: #b40426;\n",
       "  color: #f1f1f1;\n",
       "}\n",
       "#T_7e645_row1_col5, #T_7e645_row1_col6, #T_7e645_row1_col8, #T_7e645_row1_col9, #T_7e645_row1_col11, #T_7e645_row1_col13, #T_7e645_row1_col19, #T_7e645_row2_col5, #T_7e645_row2_col6, #T_7e645_row2_col8, #T_7e645_row2_col9, #T_7e645_row2_col11, #T_7e645_row2_col13, #T_7e645_row2_col19, #T_7e645_row3_col5, #T_7e645_row3_col6, #T_7e645_row3_col8, #T_7e645_row3_col9, #T_7e645_row3_col11, #T_7e645_row3_col13, #T_7e645_row3_col19 {\n",
       "  background-color: #000000;\n",
       "  color: #f1f1f1;\n",
       "}\n",
       "#T_7e645_row4_col5, #T_7e645_row4_col6, #T_7e645_row4_col8, #T_7e645_row4_col9, #T_7e645_row4_col11, #T_7e645_row4_col13, #T_7e645_row4_col19, #T_7e645_row5_col5, #T_7e645_row5_col6, #T_7e645_row5_col8, #T_7e645_row5_col9, #T_7e645_row5_col11, #T_7e645_row5_col13, #T_7e645_row5_col19, #T_7e645_row6_col5, #T_7e645_row6_col6, #T_7e645_row6_col8, #T_7e645_row6_col9, #T_7e645_row6_col11, #T_7e645_row6_col13, #T_7e645_row6_col19, #T_7e645_row7_col5, #T_7e645_row7_col6, #T_7e645_row7_col8, #T_7e645_row7_col9, #T_7e645_row7_col11, #T_7e645_row7_col13, #T_7e645_row7_col19, #T_7e645_row8_col5, #T_7e645_row8_col6, #T_7e645_row8_col8, #T_7e645_row8_col9, #T_7e645_row8_col11, #T_7e645_row8_col13, #T_7e645_row8_col19, #T_7e645_row9_col5, #T_7e645_row9_col6, #T_7e645_row9_col8, #T_7e645_row9_col9, #T_7e645_row9_col11, #T_7e645_row9_col13, #T_7e645_row9_col19, #T_7e645_row10_col5, #T_7e645_row10_col6, #T_7e645_row10_col8, #T_7e645_row10_col9, #T_7e645_row10_col11, #T_7e645_row10_col13, #T_7e645_row10_col19 {\n",
       "  background-color: #3b4cc0;\n",
       "  color: #f1f1f1;\n",
       "}\n",
       "</style>\n",
       "<table id=\"T_7e645\">\n",
       "  <thead>\n",
       "    <tr>\n",
       "      <th class=\"blank level0\" >&nbsp;</th>\n",
       "      <th id=\"T_7e645_level0_col0\" class=\"col_heading level0 col0\" >payment_key</th>\n",
       "      <th id=\"T_7e645_level0_col1\" class=\"col_heading level0 col1\" >coustomer_key</th>\n",
       "      <th id=\"T_7e645_level0_col2\" class=\"col_heading level0 col2\" >time_key</th>\n",
       "      <th id=\"T_7e645_level0_col3\" class=\"col_heading level0 col3\" >item_key</th>\n",
       "      <th id=\"T_7e645_level0_col4\" class=\"col_heading level0 col4\" >store_key</th>\n",
       "      <th id=\"T_7e645_level0_col5\" class=\"col_heading level0 col5\" >quantity</th>\n",
       "      <th id=\"T_7e645_level0_col6\" class=\"col_heading level0 col6\" >total_price</th>\n",
       "      <th id=\"T_7e645_level0_col7\" class=\"col_heading level0 col7\" >date</th>\n",
       "      <th id=\"T_7e645_level0_col8\" class=\"col_heading level0 col8\" >hour</th>\n",
       "      <th id=\"T_7e645_level0_col9\" class=\"col_heading level0 col9\" >day</th>\n",
       "      <th id=\"T_7e645_level0_col10\" class=\"col_heading level0 col10\" >week</th>\n",
       "      <th id=\"T_7e645_level0_col11\" class=\"col_heading level0 col11\" >month</th>\n",
       "      <th id=\"T_7e645_level0_col12\" class=\"col_heading level0 col12\" >quarter</th>\n",
       "      <th id=\"T_7e645_level0_col13\" class=\"col_heading level0 col13\" >year</th>\n",
       "      <th id=\"T_7e645_level0_col14\" class=\"col_heading level0 col14\" >division</th>\n",
       "      <th id=\"T_7e645_level0_col15\" class=\"col_heading level0 col15\" >district</th>\n",
       "      <th id=\"T_7e645_level0_col16\" class=\"col_heading level0 col16\" >upazila</th>\n",
       "      <th id=\"T_7e645_level0_col17\" class=\"col_heading level0 col17\" >item_name</th>\n",
       "      <th id=\"T_7e645_level0_col18\" class=\"col_heading level0 col18\" >desc</th>\n",
       "      <th id=\"T_7e645_level0_col19\" class=\"col_heading level0 col19\" >unit_price</th>\n",
       "      <th id=\"T_7e645_level0_col20\" class=\"col_heading level0 col20\" >man_country</th>\n",
       "      <th id=\"T_7e645_level0_col21\" class=\"col_heading level0 col21\" >supplier</th>\n",
       "      <th id=\"T_7e645_level0_col22\" class=\"col_heading level0 col22\" >unit</th>\n",
       "    </tr>\n",
       "  </thead>\n",
       "  <tbody>\n",
       "    <tr>\n",
       "      <th id=\"T_7e645_level0_row0\" class=\"row_heading level0 row0\" >count</th>\n",
       "      <td id=\"T_7e645_row0_col0\" class=\"data row0 col0\" >1000000</td>\n",
       "      <td id=\"T_7e645_row0_col1\" class=\"data row0 col1\" >1000000</td>\n",
       "      <td id=\"T_7e645_row0_col2\" class=\"data row0 col2\" >1000000</td>\n",
       "      <td id=\"T_7e645_row0_col3\" class=\"data row0 col3\" >1000000</td>\n",
       "      <td id=\"T_7e645_row0_col4\" class=\"data row0 col4\" >1000000</td>\n",
       "      <td id=\"T_7e645_row0_col5\" class=\"data row0 col5\" >1000000.000000</td>\n",
       "      <td id=\"T_7e645_row0_col6\" class=\"data row0 col6\" >1000000.000000</td>\n",
       "      <td id=\"T_7e645_row0_col7\" class=\"data row0 col7\" >1000000</td>\n",
       "      <td id=\"T_7e645_row0_col8\" class=\"data row0 col8\" >1000000.000000</td>\n",
       "      <td id=\"T_7e645_row0_col9\" class=\"data row0 col9\" >1000000.000000</td>\n",
       "      <td id=\"T_7e645_row0_col10\" class=\"data row0 col10\" >1000000</td>\n",
       "      <td id=\"T_7e645_row0_col11\" class=\"data row0 col11\" >1000000.000000</td>\n",
       "      <td id=\"T_7e645_row0_col12\" class=\"data row0 col12\" >1000000</td>\n",
       "      <td id=\"T_7e645_row0_col13\" class=\"data row0 col13\" >1000000.000000</td>\n",
       "      <td id=\"T_7e645_row0_col14\" class=\"data row0 col14\" >1000000</td>\n",
       "      <td id=\"T_7e645_row0_col15\" class=\"data row0 col15\" >1000000</td>\n",
       "      <td id=\"T_7e645_row0_col16\" class=\"data row0 col16\" >1000000</td>\n",
       "      <td id=\"T_7e645_row0_col17\" class=\"data row0 col17\" >1000000</td>\n",
       "      <td id=\"T_7e645_row0_col18\" class=\"data row0 col18\" >1000000</td>\n",
       "      <td id=\"T_7e645_row0_col19\" class=\"data row0 col19\" >1000000.000000</td>\n",
       "      <td id=\"T_7e645_row0_col20\" class=\"data row0 col20\" >1000000</td>\n",
       "      <td id=\"T_7e645_row0_col21\" class=\"data row0 col21\" >1000000</td>\n",
       "      <td id=\"T_7e645_row0_col22\" class=\"data row0 col22\" >1000000</td>\n",
       "    </tr>\n",
       "    <tr>\n",
       "      <th id=\"T_7e645_level0_row1\" class=\"row_heading level0 row1\" >unique</th>\n",
       "      <td id=\"T_7e645_row1_col0\" class=\"data row1 col0\" >39</td>\n",
       "      <td id=\"T_7e645_row1_col1\" class=\"data row1 col1\" >9191</td>\n",
       "      <td id=\"T_7e645_row1_col2\" class=\"data row1 col2\" >99993</td>\n",
       "      <td id=\"T_7e645_row1_col3\" class=\"data row1 col3\" >264</td>\n",
       "      <td id=\"T_7e645_row1_col4\" class=\"data row1 col4\" >726</td>\n",
       "      <td id=\"T_7e645_row1_col5\" class=\"data row1 col5\" >nan</td>\n",
       "      <td id=\"T_7e645_row1_col6\" class=\"data row1 col6\" >nan</td>\n",
       "      <td id=\"T_7e645_row1_col7\" class=\"data row1 col7\" >98572</td>\n",
       "      <td id=\"T_7e645_row1_col8\" class=\"data row1 col8\" >nan</td>\n",
       "      <td id=\"T_7e645_row1_col9\" class=\"data row1 col9\" >nan</td>\n",
       "      <td id=\"T_7e645_row1_col10\" class=\"data row1 col10\" >4</td>\n",
       "      <td id=\"T_7e645_row1_col11\" class=\"data row1 col11\" >nan</td>\n",
       "      <td id=\"T_7e645_row1_col12\" class=\"data row1 col12\" >4</td>\n",
       "      <td id=\"T_7e645_row1_col13\" class=\"data row1 col13\" >nan</td>\n",
       "      <td id=\"T_7e645_row1_col14\" class=\"data row1 col14\" >7</td>\n",
       "      <td id=\"T_7e645_row1_col15\" class=\"data row1 col15\" >64</td>\n",
       "      <td id=\"T_7e645_row1_col16\" class=\"data row1 col16\" >540</td>\n",
       "      <td id=\"T_7e645_row1_col17\" class=\"data row1 col17\" >259</td>\n",
       "      <td id=\"T_7e645_row1_col18\" class=\"data row1 col18\" >30</td>\n",
       "      <td id=\"T_7e645_row1_col19\" class=\"data row1 col19\" >nan</td>\n",
       "      <td id=\"T_7e645_row1_col20\" class=\"data row1 col20\" >10</td>\n",
       "      <td id=\"T_7e645_row1_col21\" class=\"data row1 col21\" >10</td>\n",
       "      <td id=\"T_7e645_row1_col22\" class=\"data row1 col22\" >18</td>\n",
       "    </tr>\n",
       "    <tr>\n",
       "      <th id=\"T_7e645_level0_row2\" class=\"row_heading level0 row2\" >top</th>\n",
       "      <td id=\"T_7e645_row2_col0\" class=\"data row2 col0\" >P002</td>\n",
       "      <td id=\"T_7e645_row2_col1\" class=\"data row2 col1\" >C006906</td>\n",
       "      <td id=\"T_7e645_row2_col2\" class=\"data row2 col2\" >T087994</td>\n",
       "      <td id=\"T_7e645_row2_col3\" class=\"data row2 col3\" >I00015</td>\n",
       "      <td id=\"T_7e645_row2_col4\" class=\"data row2 col4\" >S0039</td>\n",
       "      <td id=\"T_7e645_row2_col5\" class=\"data row2 col5\" >nan</td>\n",
       "      <td id=\"T_7e645_row2_col6\" class=\"data row2 col6\" >nan</td>\n",
       "      <td id=\"T_7e645_row2_col7\" class=\"data row2 col7\" >02-05-2015 20:02</td>\n",
       "      <td id=\"T_7e645_row2_col8\" class=\"data row2 col8\" >nan</td>\n",
       "      <td id=\"T_7e645_row2_col9\" class=\"data row2 col9\" >nan</td>\n",
       "      <td id=\"T_7e645_row2_col10\" class=\"data row2 col10\" >4th Week</td>\n",
       "      <td id=\"T_7e645_row2_col11\" class=\"data row2 col11\" >nan</td>\n",
       "      <td id=\"T_7e645_row2_col12\" class=\"data row2 col12\" >Q3</td>\n",
       "      <td id=\"T_7e645_row2_col13\" class=\"data row2 col13\" >nan</td>\n",
       "      <td id=\"T_7e645_row2_col14\" class=\"data row2 col14\" >DHAKA</td>\n",
       "      <td id=\"T_7e645_row2_col15\" class=\"data row2 col15\" >DHAKA</td>\n",
       "      <td id=\"T_7e645_row2_col16\" class=\"data row2 col16\" >KOTWALI</td>\n",
       "      <td id=\"T_7e645_row2_col17\" class=\"data row2 col17\" >Pepsi - 12 oz cans</td>\n",
       "      <td id=\"T_7e645_row2_col18\" class=\"data row2 col18\" >a. Beverage - Soda</td>\n",
       "      <td id=\"T_7e645_row2_col19\" class=\"data row2 col19\" >nan</td>\n",
       "      <td id=\"T_7e645_row2_col20\" class=\"data row2 col20\" >Bangladesh</td>\n",
       "      <td id=\"T_7e645_row2_col21\" class=\"data row2 col21\" >DENIMACH LTD</td>\n",
       "      <td id=\"T_7e645_row2_col22\" class=\"data row2 col22\" >ct</td>\n",
       "    </tr>\n",
       "    <tr>\n",
       "      <th id=\"T_7e645_level0_row3\" class=\"row_heading level0 row3\" >freq</th>\n",
       "      <td id=\"T_7e645_row3_col0\" class=\"data row3 col0\" >26046</td>\n",
       "      <td id=\"T_7e645_row3_col1\" class=\"data row3 col1\" >156</td>\n",
       "      <td id=\"T_7e645_row3_col2\" class=\"data row3 col2\" >26</td>\n",
       "      <td id=\"T_7e645_row3_col3\" class=\"data row3 col3\" >3952</td>\n",
       "      <td id=\"T_7e645_row3_col4\" class=\"data row3 col4\" >1497</td>\n",
       "      <td id=\"T_7e645_row3_col5\" class=\"data row3 col5\" >nan</td>\n",
       "      <td id=\"T_7e645_row3_col6\" class=\"data row3 col6\" >nan</td>\n",
       "      <td id=\"T_7e645_row3_col7\" class=\"data row3 col7\" >36</td>\n",
       "      <td id=\"T_7e645_row3_col8\" class=\"data row3 col8\" >nan</td>\n",
       "      <td id=\"T_7e645_row3_col9\" class=\"data row3 col9\" >nan</td>\n",
       "      <td id=\"T_7e645_row3_col10\" class=\"data row3 col10\" >313070</td>\n",
       "      <td id=\"T_7e645_row3_col11\" class=\"data row3 col11\" >nan</td>\n",
       "      <td id=\"T_7e645_row3_col12\" class=\"data row3 col12\" >253476</td>\n",
       "      <td id=\"T_7e645_row3_col13\" class=\"data row3 col13\" >nan</td>\n",
       "      <td id=\"T_7e645_row3_col14\" class=\"data row3 col14\" >386888</td>\n",
       "      <td id=\"T_7e645_row3_col15\" class=\"data row3 col15\" >224034</td>\n",
       "      <td id=\"T_7e645_row3_col16\" class=\"data row3 col16\" >6909</td>\n",
       "      <td id=\"T_7e645_row3_col17\" class=\"data row3 col17\" >7724</td>\n",
       "      <td id=\"T_7e645_row3_col18\" class=\"data row3 col18\" >109741</td>\n",
       "      <td id=\"T_7e645_row3_col19\" class=\"data row3 col19\" >nan</td>\n",
       "      <td id=\"T_7e645_row3_col20\" class=\"data row3 col20\" >128655</td>\n",
       "      <td id=\"T_7e645_row3_col21\" class=\"data row3 col21\" >128655</td>\n",
       "      <td id=\"T_7e645_row3_col22\" class=\"data row3 col22\" >355938</td>\n",
       "    </tr>\n",
       "    <tr>\n",
       "      <th id=\"T_7e645_level0_row4\" class=\"row_heading level0 row4\" >mean</th>\n",
       "      <td id=\"T_7e645_row4_col0\" class=\"data row4 col0\" >nan</td>\n",
       "      <td id=\"T_7e645_row4_col1\" class=\"data row4 col1\" >nan</td>\n",
       "      <td id=\"T_7e645_row4_col2\" class=\"data row4 col2\" >nan</td>\n",
       "      <td id=\"T_7e645_row4_col3\" class=\"data row4 col3\" >nan</td>\n",
       "      <td id=\"T_7e645_row4_col4\" class=\"data row4 col4\" >nan</td>\n",
       "      <td id=\"T_7e645_row4_col5\" class=\"data row4 col5\" >6.000185</td>\n",
       "      <td id=\"T_7e645_row4_col6\" class=\"data row4 col6\" >105.401436</td>\n",
       "      <td id=\"T_7e645_row4_col7\" class=\"data row4 col7\" >nan</td>\n",
       "      <td id=\"T_7e645_row4_col8\" class=\"data row4 col8\" >11.542591</td>\n",
       "      <td id=\"T_7e645_row4_col9\" class=\"data row4 col9\" >15.775720</td>\n",
       "      <td id=\"T_7e645_row4_col10\" class=\"data row4 col10\" >nan</td>\n",
       "      <td id=\"T_7e645_row4_col11\" class=\"data row4 col11\" >6.518765</td>\n",
       "      <td id=\"T_7e645_row4_col12\" class=\"data row4 col12\" >nan</td>\n",
       "      <td id=\"T_7e645_row4_col13\" class=\"data row4 col13\" >2017.050811</td>\n",
       "      <td id=\"T_7e645_row4_col14\" class=\"data row4 col14\" >nan</td>\n",
       "      <td id=\"T_7e645_row4_col15\" class=\"data row4 col15\" >nan</td>\n",
       "      <td id=\"T_7e645_row4_col16\" class=\"data row4 col16\" >nan</td>\n",
       "      <td id=\"T_7e645_row4_col17\" class=\"data row4 col17\" >nan</td>\n",
       "      <td id=\"T_7e645_row4_col18\" class=\"data row4 col18\" >nan</td>\n",
       "      <td id=\"T_7e645_row4_col19\" class=\"data row4 col19\" >17.561602</td>\n",
       "      <td id=\"T_7e645_row4_col20\" class=\"data row4 col20\" >nan</td>\n",
       "      <td id=\"T_7e645_row4_col21\" class=\"data row4 col21\" >nan</td>\n",
       "      <td id=\"T_7e645_row4_col22\" class=\"data row4 col22\" >nan</td>\n",
       "    </tr>\n",
       "    <tr>\n",
       "      <th id=\"T_7e645_level0_row5\" class=\"row_heading level0 row5\" >std</th>\n",
       "      <td id=\"T_7e645_row5_col0\" class=\"data row5 col0\" >nan</td>\n",
       "      <td id=\"T_7e645_row5_col1\" class=\"data row5 col1\" >nan</td>\n",
       "      <td id=\"T_7e645_row5_col2\" class=\"data row5 col2\" >nan</td>\n",
       "      <td id=\"T_7e645_row5_col3\" class=\"data row5 col3\" >nan</td>\n",
       "      <td id=\"T_7e645_row5_col4\" class=\"data row5 col4\" >nan</td>\n",
       "      <td id=\"T_7e645_row5_col5\" class=\"data row5 col5\" >3.161932</td>\n",
       "      <td id=\"T_7e645_row5_col6\" class=\"data row5 col6\" >80.829301</td>\n",
       "      <td id=\"T_7e645_row5_col7\" class=\"data row5 col7\" >nan</td>\n",
       "      <td id=\"T_7e645_row5_col8\" class=\"data row5 col8\" >6.903028</td>\n",
       "      <td id=\"T_7e645_row5_col9\" class=\"data row5 col9\" >8.801610</td>\n",
       "      <td id=\"T_7e645_row5_col10\" class=\"data row5 col10\" >nan</td>\n",
       "      <td id=\"T_7e645_row5_col11\" class=\"data row5 col11\" >3.447577</td>\n",
       "      <td id=\"T_7e645_row5_col12\" class=\"data row5 col12\" >nan</td>\n",
       "      <td id=\"T_7e645_row5_col13\" class=\"data row5 col13\" >2.016437</td>\n",
       "      <td id=\"T_7e645_row5_col14\" class=\"data row5 col14\" >nan</td>\n",
       "      <td id=\"T_7e645_row5_col15\" class=\"data row5 col15\" >nan</td>\n",
       "      <td id=\"T_7e645_row5_col16\" class=\"data row5 col16\" >nan</td>\n",
       "      <td id=\"T_7e645_row5_col17\" class=\"data row5 col17\" >nan</td>\n",
       "      <td id=\"T_7e645_row5_col18\" class=\"data row5 col18\" >nan</td>\n",
       "      <td id=\"T_7e645_row5_col19\" class=\"data row5 col19\" >8.637097</td>\n",
       "      <td id=\"T_7e645_row5_col20\" class=\"data row5 col20\" >nan</td>\n",
       "      <td id=\"T_7e645_row5_col21\" class=\"data row5 col21\" >nan</td>\n",
       "      <td id=\"T_7e645_row5_col22\" class=\"data row5 col22\" >nan</td>\n",
       "    </tr>\n",
       "    <tr>\n",
       "      <th id=\"T_7e645_level0_row6\" class=\"row_heading level0 row6\" >min</th>\n",
       "      <td id=\"T_7e645_row6_col0\" class=\"data row6 col0\" >nan</td>\n",
       "      <td id=\"T_7e645_row6_col1\" class=\"data row6 col1\" >nan</td>\n",
       "      <td id=\"T_7e645_row6_col2\" class=\"data row6 col2\" >nan</td>\n",
       "      <td id=\"T_7e645_row6_col3\" class=\"data row6 col3\" >nan</td>\n",
       "      <td id=\"T_7e645_row6_col4\" class=\"data row6 col4\" >nan</td>\n",
       "      <td id=\"T_7e645_row6_col5\" class=\"data row6 col5\" >1.000000</td>\n",
       "      <td id=\"T_7e645_row6_col6\" class=\"data row6 col6\" >6.000000</td>\n",
       "      <td id=\"T_7e645_row6_col7\" class=\"data row6 col7\" >nan</td>\n",
       "      <td id=\"T_7e645_row6_col8\" class=\"data row6 col8\" >0.000000</td>\n",
       "      <td id=\"T_7e645_row6_col9\" class=\"data row6 col9\" >1.000000</td>\n",
       "      <td id=\"T_7e645_row6_col10\" class=\"data row6 col10\" >nan</td>\n",
       "      <td id=\"T_7e645_row6_col11\" class=\"data row6 col11\" >1.000000</td>\n",
       "      <td id=\"T_7e645_row6_col12\" class=\"data row6 col12\" >nan</td>\n",
       "      <td id=\"T_7e645_row6_col13\" class=\"data row6 col13\" >2014.000000</td>\n",
       "      <td id=\"T_7e645_row6_col14\" class=\"data row6 col14\" >nan</td>\n",
       "      <td id=\"T_7e645_row6_col15\" class=\"data row6 col15\" >nan</td>\n",
       "      <td id=\"T_7e645_row6_col16\" class=\"data row6 col16\" >nan</td>\n",
       "      <td id=\"T_7e645_row6_col17\" class=\"data row6 col17\" >nan</td>\n",
       "      <td id=\"T_7e645_row6_col18\" class=\"data row6 col18\" >nan</td>\n",
       "      <td id=\"T_7e645_row6_col19\" class=\"data row6 col19\" >6.000000</td>\n",
       "      <td id=\"T_7e645_row6_col20\" class=\"data row6 col20\" >nan</td>\n",
       "      <td id=\"T_7e645_row6_col21\" class=\"data row6 col21\" >nan</td>\n",
       "      <td id=\"T_7e645_row6_col22\" class=\"data row6 col22\" >nan</td>\n",
       "    </tr>\n",
       "    <tr>\n",
       "      <th id=\"T_7e645_level0_row7\" class=\"row_heading level0 row7\" >25%</th>\n",
       "      <td id=\"T_7e645_row7_col0\" class=\"data row7 col0\" >nan</td>\n",
       "      <td id=\"T_7e645_row7_col1\" class=\"data row7 col1\" >nan</td>\n",
       "      <td id=\"T_7e645_row7_col2\" class=\"data row7 col2\" >nan</td>\n",
       "      <td id=\"T_7e645_row7_col3\" class=\"data row7 col3\" >nan</td>\n",
       "      <td id=\"T_7e645_row7_col4\" class=\"data row7 col4\" >nan</td>\n",
       "      <td id=\"T_7e645_row7_col5\" class=\"data row7 col5\" >3.000000</td>\n",
       "      <td id=\"T_7e645_row7_col6\" class=\"data row7 col6\" >47.250000</td>\n",
       "      <td id=\"T_7e645_row7_col7\" class=\"data row7 col7\" >nan</td>\n",
       "      <td id=\"T_7e645_row7_col8\" class=\"data row7 col8\" >6.000000</td>\n",
       "      <td id=\"T_7e645_row7_col9\" class=\"data row7 col9\" >8.000000</td>\n",
       "      <td id=\"T_7e645_row7_col10\" class=\"data row7 col10\" >nan</td>\n",
       "      <td id=\"T_7e645_row7_col11\" class=\"data row7 col11\" >4.000000</td>\n",
       "      <td id=\"T_7e645_row7_col12\" class=\"data row7 col12\" >nan</td>\n",
       "      <td id=\"T_7e645_row7_col13\" class=\"data row7 col13\" >2015.000000</td>\n",
       "      <td id=\"T_7e645_row7_col14\" class=\"data row7 col14\" >nan</td>\n",
       "      <td id=\"T_7e645_row7_col15\" class=\"data row7 col15\" >nan</td>\n",
       "      <td id=\"T_7e645_row7_col16\" class=\"data row7 col16\" >nan</td>\n",
       "      <td id=\"T_7e645_row7_col17\" class=\"data row7 col17\" >nan</td>\n",
       "      <td id=\"T_7e645_row7_col18\" class=\"data row7 col18\" >nan</td>\n",
       "      <td id=\"T_7e645_row7_col19\" class=\"data row7 col19\" >13.000000</td>\n",
       "      <td id=\"T_7e645_row7_col20\" class=\"data row7 col20\" >nan</td>\n",
       "      <td id=\"T_7e645_row7_col21\" class=\"data row7 col21\" >nan</td>\n",
       "      <td id=\"T_7e645_row7_col22\" class=\"data row7 col22\" >nan</td>\n",
       "    </tr>\n",
       "    <tr>\n",
       "      <th id=\"T_7e645_level0_row8\" class=\"row_heading level0 row8\" >50%</th>\n",
       "      <td id=\"T_7e645_row8_col0\" class=\"data row8 col0\" >nan</td>\n",
       "      <td id=\"T_7e645_row8_col1\" class=\"data row8 col1\" >nan</td>\n",
       "      <td id=\"T_7e645_row8_col2\" class=\"data row8 col2\" >nan</td>\n",
       "      <td id=\"T_7e645_row8_col3\" class=\"data row8 col3\" >nan</td>\n",
       "      <td id=\"T_7e645_row8_col4\" class=\"data row8 col4\" >nan</td>\n",
       "      <td id=\"T_7e645_row8_col5\" class=\"data row8 col5\" >6.000000</td>\n",
       "      <td id=\"T_7e645_row8_col6\" class=\"data row8 col6\" >90.000000</td>\n",
       "      <td id=\"T_7e645_row8_col7\" class=\"data row8 col7\" >nan</td>\n",
       "      <td id=\"T_7e645_row8_col8\" class=\"data row8 col8\" >12.000000</td>\n",
       "      <td id=\"T_7e645_row8_col9\" class=\"data row8 col9\" >16.000000</td>\n",
       "      <td id=\"T_7e645_row8_col10\" class=\"data row8 col10\" >nan</td>\n",
       "      <td id=\"T_7e645_row8_col11\" class=\"data row8 col11\" >7.000000</td>\n",
       "      <td id=\"T_7e645_row8_col12\" class=\"data row8 col12\" >nan</td>\n",
       "      <td id=\"T_7e645_row8_col13\" class=\"data row8 col13\" >2017.000000</td>\n",
       "      <td id=\"T_7e645_row8_col14\" class=\"data row8 col14\" >nan</td>\n",
       "      <td id=\"T_7e645_row8_col15\" class=\"data row8 col15\" >nan</td>\n",
       "      <td id=\"T_7e645_row8_col16\" class=\"data row8 col16\" >nan</td>\n",
       "      <td id=\"T_7e645_row8_col17\" class=\"data row8 col17\" >nan</td>\n",
       "      <td id=\"T_7e645_row8_col18\" class=\"data row8 col18\" >nan</td>\n",
       "      <td id=\"T_7e645_row8_col19\" class=\"data row8 col19\" >16.000000</td>\n",
       "      <td id=\"T_7e645_row8_col20\" class=\"data row8 col20\" >nan</td>\n",
       "      <td id=\"T_7e645_row8_col21\" class=\"data row8 col21\" >nan</td>\n",
       "      <td id=\"T_7e645_row8_col22\" class=\"data row8 col22\" >nan</td>\n",
       "    </tr>\n",
       "    <tr>\n",
       "      <th id=\"T_7e645_level0_row9\" class=\"row_heading level0 row9\" >75%</th>\n",
       "      <td id=\"T_7e645_row9_col0\" class=\"data row9 col0\" >nan</td>\n",
       "      <td id=\"T_7e645_row9_col1\" class=\"data row9 col1\" >nan</td>\n",
       "      <td id=\"T_7e645_row9_col2\" class=\"data row9 col2\" >nan</td>\n",
       "      <td id=\"T_7e645_row9_col3\" class=\"data row9 col3\" >nan</td>\n",
       "      <td id=\"T_7e645_row9_col4\" class=\"data row9 col4\" >nan</td>\n",
       "      <td id=\"T_7e645_row9_col5\" class=\"data row9 col5\" >9.000000</td>\n",
       "      <td id=\"T_7e645_row9_col6\" class=\"data row9 col6\" >144.000000</td>\n",
       "      <td id=\"T_7e645_row9_col7\" class=\"data row9 col7\" >nan</td>\n",
       "      <td id=\"T_7e645_row9_col8\" class=\"data row9 col8\" >18.000000</td>\n",
       "      <td id=\"T_7e645_row9_col9\" class=\"data row9 col9\" >23.000000</td>\n",
       "      <td id=\"T_7e645_row9_col10\" class=\"data row9 col10\" >nan</td>\n",
       "      <td id=\"T_7e645_row9_col11\" class=\"data row9 col11\" >10.000000</td>\n",
       "      <td id=\"T_7e645_row9_col12\" class=\"data row9 col12\" >nan</td>\n",
       "      <td id=\"T_7e645_row9_col13\" class=\"data row9 col13\" >2019.000000</td>\n",
       "      <td id=\"T_7e645_row9_col14\" class=\"data row9 col14\" >nan</td>\n",
       "      <td id=\"T_7e645_row9_col15\" class=\"data row9 col15\" >nan</td>\n",
       "      <td id=\"T_7e645_row9_col16\" class=\"data row9 col16\" >nan</td>\n",
       "      <td id=\"T_7e645_row9_col17\" class=\"data row9 col17\" >nan</td>\n",
       "      <td id=\"T_7e645_row9_col18\" class=\"data row9 col18\" >nan</td>\n",
       "      <td id=\"T_7e645_row9_col19\" class=\"data row9 col19\" >20.000000</td>\n",
       "      <td id=\"T_7e645_row9_col20\" class=\"data row9 col20\" >nan</td>\n",
       "      <td id=\"T_7e645_row9_col21\" class=\"data row9 col21\" >nan</td>\n",
       "      <td id=\"T_7e645_row9_col22\" class=\"data row9 col22\" >nan</td>\n",
       "    </tr>\n",
       "    <tr>\n",
       "      <th id=\"T_7e645_level0_row10\" class=\"row_heading level0 row10\" >max</th>\n",
       "      <td id=\"T_7e645_row10_col0\" class=\"data row10 col0\" >nan</td>\n",
       "      <td id=\"T_7e645_row10_col1\" class=\"data row10 col1\" >nan</td>\n",
       "      <td id=\"T_7e645_row10_col2\" class=\"data row10 col2\" >nan</td>\n",
       "      <td id=\"T_7e645_row10_col3\" class=\"data row10 col3\" >nan</td>\n",
       "      <td id=\"T_7e645_row10_col4\" class=\"data row10 col4\" >nan</td>\n",
       "      <td id=\"T_7e645_row10_col5\" class=\"data row10 col5\" >11.000000</td>\n",
       "      <td id=\"T_7e645_row10_col6\" class=\"data row10 col6\" >605.000000</td>\n",
       "      <td id=\"T_7e645_row10_col7\" class=\"data row10 col7\" >nan</td>\n",
       "      <td id=\"T_7e645_row10_col8\" class=\"data row10 col8\" >23.000000</td>\n",
       "      <td id=\"T_7e645_row10_col9\" class=\"data row10 col9\" >31.000000</td>\n",
       "      <td id=\"T_7e645_row10_col10\" class=\"data row10 col10\" >nan</td>\n",
       "      <td id=\"T_7e645_row10_col11\" class=\"data row10 col11\" >12.000000</td>\n",
       "      <td id=\"T_7e645_row10_col12\" class=\"data row10 col12\" >nan</td>\n",
       "      <td id=\"T_7e645_row10_col13\" class=\"data row10 col13\" >2021.000000</td>\n",
       "      <td id=\"T_7e645_row10_col14\" class=\"data row10 col14\" >nan</td>\n",
       "      <td id=\"T_7e645_row10_col15\" class=\"data row10 col15\" >nan</td>\n",
       "      <td id=\"T_7e645_row10_col16\" class=\"data row10 col16\" >nan</td>\n",
       "      <td id=\"T_7e645_row10_col17\" class=\"data row10 col17\" >nan</td>\n",
       "      <td id=\"T_7e645_row10_col18\" class=\"data row10 col18\" >nan</td>\n",
       "      <td id=\"T_7e645_row10_col19\" class=\"data row10 col19\" >55.000000</td>\n",
       "      <td id=\"T_7e645_row10_col20\" class=\"data row10 col20\" >nan</td>\n",
       "      <td id=\"T_7e645_row10_col21\" class=\"data row10 col21\" >nan</td>\n",
       "      <td id=\"T_7e645_row10_col22\" class=\"data row10 col22\" >nan</td>\n",
       "    </tr>\n",
       "  </tbody>\n",
       "</table>\n"
      ],
      "text/plain": [
       "<pandas.io.formats.style.Styler at 0x24fadeb76d0>"
      ]
     },
     "execution_count": 262,
     "metadata": {},
     "output_type": "execute_result"
    }
   ],
   "source": [
    "describe = df.describe(include='all')\n",
    "describe.style.background_gradient(cmap='coolwarm')"
   ]
  },
  {
   "cell_type": "code",
   "execution_count": 263,
   "id": "fc87228f",
   "metadata": {},
   "outputs": [
    {
     "data": {
      "text/plain": [
       "payment_key      0\n",
       "coustomer_key    0\n",
       "time_key         0\n",
       "item_key         0\n",
       "store_key        0\n",
       "quantity         0\n",
       "total_price      0\n",
       "date             0\n",
       "hour             0\n",
       "day              0\n",
       "week             0\n",
       "month            0\n",
       "quarter          0\n",
       "year             0\n",
       "division         0\n",
       "district         0\n",
       "upazila          0\n",
       "item_name        0\n",
       "desc             0\n",
       "unit_price       0\n",
       "man_country      0\n",
       "supplier         0\n",
       "unit             0\n",
       "dtype: int64"
      ]
     },
     "execution_count": 263,
     "metadata": {},
     "output_type": "execute_result"
    }
   ],
   "source": [
    "df.isnull().sum()"
   ]
  },
  {
   "cell_type": "code",
   "execution_count": 264,
   "id": "acd33552",
   "metadata": {},
   "outputs": [
    {
     "data": {
      "text/plain": [
       "0"
      ]
     },
     "execution_count": 264,
     "metadata": {},
     "output_type": "execute_result"
    }
   ],
   "source": [
    "df.duplicated().sum()"
   ]
  },
  {
   "cell_type": "markdown",
   "id": "2ae1e41f",
   "metadata": {},
   "source": [
    "### <span style=\"color:#0076cd; font-weight:bold\">Understand Object Data</span>"
   ]
  },
  {
   "cell_type": "code",
   "execution_count": 265,
   "id": "948cb25d",
   "metadata": {},
   "outputs": [
    {
     "name": "stdout",
     "output_type": "stream",
     "text": [
      "<class 'pandas.core.frame.DataFrame'>\n",
      "RangeIndex: 1000000 entries, 0 to 999999\n",
      "Data columns (total 23 columns):\n",
      " #   Column         Non-Null Count    Dtype  \n",
      "---  ------         --------------    -----  \n",
      " 0   payment_key    1000000 non-null  object \n",
      " 1   coustomer_key  1000000 non-null  object \n",
      " 2   time_key       1000000 non-null  object \n",
      " 3   item_key       1000000 non-null  object \n",
      " 4   store_key      1000000 non-null  object \n",
      " 5   quantity       1000000 non-null  int64  \n",
      " 6   total_price    1000000 non-null  float64\n",
      " 7   date           1000000 non-null  object \n",
      " 8   hour           1000000 non-null  int64  \n",
      " 9   day            1000000 non-null  int64  \n",
      " 10  week           1000000 non-null  object \n",
      " 11  month          1000000 non-null  int64  \n",
      " 12  quarter        1000000 non-null  object \n",
      " 13  year           1000000 non-null  int64  \n",
      " 14  division       1000000 non-null  object \n",
      " 15  district       1000000 non-null  object \n",
      " 16  upazila        1000000 non-null  object \n",
      " 17  item_name      1000000 non-null  object \n",
      " 18  desc           1000000 non-null  object \n",
      " 19  unit_price     1000000 non-null  float64\n",
      " 20  man_country    1000000 non-null  object \n",
      " 21  supplier       1000000 non-null  object \n",
      " 22  unit           1000000 non-null  object \n",
      "dtypes: float64(2), int64(5), object(16)\n",
      "memory usage: 175.5+ MB\n"
     ]
    }
   ],
   "source": [
    "df.info() "
   ]
  },
  {
   "cell_type": "code",
   "execution_count": 266,
   "id": "7102d541",
   "metadata": {},
   "outputs": [
    {
     "name": "stdout",
     "output_type": "stream",
     "text": [
      "\n",
      "---------\n",
      "week\n",
      "4th Week    313070\n",
      "3rd Week    229472\n",
      "2nd Week    228759\n",
      "1st Week    228699\n",
      "Name: count, dtype: int64\n",
      "Unique values: 4\n",
      "\n",
      "---------\n",
      "quarter\n",
      "Q3    253476\n",
      "Q4    250750\n",
      "Q2    248442\n",
      "Q1    247332\n",
      "Name: count, dtype: int64\n",
      "Unique values: 4\n",
      "\n",
      "---------\n",
      "division\n",
      "DHAKA         386888\n",
      "CHITTAGONG    187340\n",
      "RAJSHAHI      115075\n",
      "KHULNA        107164\n",
      "RANGPUR        79926\n",
      "BARISAL        71444\n",
      "SYLHET         52163\n",
      "Name: count, dtype: int64\n",
      "Unique values: 7\n",
      "\n",
      "---------\n",
      "district\n",
      "DHAKA               224034\n",
      "CHITTAGONG           69134\n",
      "KHULNA               38628\n",
      "RAJSHAHI             35811\n",
      "BARISAL              27333\n",
      "COMILLA              21860\n",
      "KISHOREGONJ          18235\n",
      "MYMENSINGH           17925\n",
      "DINAJPUR             17815\n",
      "TANGAIL              16832\n",
      "SYLHET               16437\n",
      "BOGRA                16409\n",
      "SUNAMGANJ            15113\n",
      "NAOGAON              14885\n",
      "RANGAMATI            13743\n",
      "NETRAKONA            13683\n",
      "KURIGRAM             12550\n",
      "BRAHMANBARIA         12523\n",
      "NOAKHALI             12508\n",
      "BAGERHAT             12360\n",
      "SIRAJGANJ            12344\n",
      "FARIDPUR             12247\n",
      "PABNA                12170\n",
      "COX'S BAZAR          11239\n",
      "RANGPUR              11124\n",
      "PATUAKHALI           10988\n",
      "HABIGANJ             10954\n",
      "CHANDPUR             10940\n",
      "KHAGRACHHARI         10918\n",
      "JESSORE              10798\n",
      "BHOLA                 9715\n",
      "PIROJPUR              9664\n",
      "MAULVIBAZAR           9659\n",
      "SATKHIRA              9653\n",
      "JAMALPUR              9610\n",
      "GAIBANDHA             9573\n",
      "BANDARBAN             9515\n",
      "NATORE                9458\n",
      "MANIKGANJ             9434\n",
      "NARSINGDI             8410\n",
      "BARGUNA               8318\n",
      "KUSHTIA               8257\n",
      "JHENAIDAH             8252\n",
      "MUNSHIGANJ            8212\n",
      "SHARIATPUR            8187\n",
      "NILPHAMARI            8164\n",
      "FENI                  8078\n",
      "RAJBARI               7038\n",
      "CHAPAI NABABGANJ      7025\n",
      "JOYPURHAT             6973\n",
      "PANCHAGARH            6949\n",
      "THAKURGAON            6914\n",
      "SHERPUR               6911\n",
      "GOPALGANJ             6890\n",
      "LAKSHMIPUR            6882\n",
      "NARAYANGANJ           6876\n",
      "LALMONIRHAT           6837\n",
      "GAZIPUR               6777\n",
      "MADARIPUR             5587\n",
      "MAGURA                5478\n",
      "CHUADANGA             5446\n",
      "JHALOKATI             5426\n",
      "MEHERPUR              4211\n",
      "NARAIL                4081\n",
      "Name: count, dtype: int64\n",
      "Unique values: 64\n",
      "\n",
      "---------\n",
      "upazila\n",
      "KOTWALI                    6909\n",
      "MOHAMMADPUR                5556\n",
      "DAULATPUR                  5546\n",
      "NAWABGANJ                  5537\n",
      "MIRPUR                     5504\n",
      "KALIGANJ                   5430\n",
      "DAKSHINKHAN                4320\n",
      "MUGDA PARA                 4290\n",
      "KAFRUL                     4264\n",
      "BIMAN BANDAR               4221\n",
      "WARI                       4219\n",
      "BADDA                      4208\n",
      "DARUS SALAM                4206\n",
      "SABUJBAGH                  4198\n",
      "SUTRAPUR                   4196\n",
      "GENDARIA                   4194\n",
      "KALABAGAN                  4193\n",
      "KERANIGANJ                 4192\n",
      "UTTARA  PURBA              4190\n",
      "SHER-E-BANGLA NAGAR        4184\n",
      "HAZARIBAGH                 4174\n",
      "TEJGAON                    4171\n",
      "BANANI                     4169\n",
      "SHYAMPUR                   4169\n",
      "SHAHJAHANPUR               4169\n",
      "TEJGAON IND. AREA          4165\n",
      "RAMPURA                    4163\n",
      "CHAK BAZAR                 4158\n",
      "TURAG                      4158\n",
      "LALBAGH                    4156\n",
      "BHASAN TEK                 4153\n",
      "PALTAN                     4153\n",
      "LOHAGARA                   4151\n",
      "KHILGAON                   4150\n",
      "SAVAR                      4149\n",
      "RAMNA                      4148\n",
      "DURGAPUR                   4146\n",
      "SHAH ALI                   4138\n",
      "UTTAR KHAN                 4137\n",
      "DEMRA                      4134\n",
      "KAMRANGIR CHAR             4131\n",
      "DHAMRAI                    4130\n",
      "DHANMONDI                  4128\n",
      "NEW MARKET                 4120\n",
      "PALLABI                    4116\n",
      "JATRABARI                  4104\n",
      "UTTARA  PASCHIM            4103\n",
      "SHAHBAGH                   4094\n",
      "BHATARA                    4089\n",
      "DOHAR                      4084\n",
      "GULSHAN                    4084\n",
      "RUPNAGAR                   4073\n",
      "MOTIJHEEL                  4069\n",
      "CANTONMENT                 4063\n",
      "ADABOR                     4061\n",
      "KADAMTALI                  4042\n",
      "KHILKHET                   4019\n",
      "BANGSHAL                   3975\n",
      "MATIHAR                    2884\n",
      "KOYRA                      2837\n",
      "KHULNA SADAR               2834\n",
      "SHIBGANJ                   2833\n",
      "WAZIRPUR                   2833\n",
      "CHITTAGONG PORT            2830\n",
      "MULADI                     2824\n",
      "PABA                       2823\n",
      "DIGHALIA                   2820\n",
      "CHANDGAON                  2818\n",
      "MIRSHARAI                  2813\n",
      "RAOZAN                     2813\n",
      "SATKANIA                   2810\n",
      "BOALKHALI                  2807\n",
      "FATIKCHHARI                2806\n",
      "ANOWARA                    2802\n",
      "PIRGANJ                    2799\n",
      "HALISHAHAR                 2798\n",
      "BATIAGHATA                 2790\n",
      "PAHARTALI                  2789\n",
      "SHAH MAKHDUM               2785\n",
      "GODAGARI                   2780\n",
      "PATIYA                     2780\n",
      "BABUGANJ                   2775\n",
      "TEROKHADA                  2773\n",
      "RUPSA                      2772\n",
      "BAGHMARA                   2771\n",
      "SITAKUNDA                  2770\n",
      "SANDWIP                    2760\n",
      "KHULSHI                    2752\n",
      "PHULTALA                   2746\n",
      "PAIKGACHHA                 2746\n",
      "GAURNADI                   2744\n",
      "MOHANPUR                   2741\n",
      "HATHAZARI                  2741\n",
      "PATENGA                    2740\n",
      "BAGHA                      2740\n",
      "COMPANIGANJ                2737\n",
      "BANSHKHALI                 2736\n",
      "BAKALIA                    2736\n",
      "RAJPARA                    2736\n",
      "RANGUNIA                   2733\n",
      "CHANDANAISH                2727\n",
      "SREEPUR                    2725\n",
      "BAKERGANJ                  2725\n",
      "TANORE                     2722\n",
      "AGAILJHARA                 2718\n",
      "BARISAL SADAR (KOTWALI)    2717\n",
      "KHALISHPUR                 2715\n",
      "KHAN JAHAN ALI             2711\n",
      "KACHUA                     2703\n",
      "BOALIA                     2701\n",
      "PANCHLAISH                 2701\n",
      "DUMURIA                    2700\n",
      "SONADANGA                  2697\n",
      "BAYEJID BOSTAMI            2692\n",
      "HIZLA                      2679\n",
      "CHARGHAT                   2679\n",
      "DOUBLE MOORING             2664\n",
      "BANARI PARA                2662\n",
      "PUTHIA                     2659\n",
      "MEHENDIGANJ                2656\n",
      "DACOPE                     2642\n",
      "BIRAMPUR                   1497\n",
      "AKHAURA                    1467\n",
      "BODA                       1465\n",
      "SREENAGAR                  1465\n",
      "KHALIAJURI                 1463\n",
      "SHAHJADPUR                 1461\n",
      "BELABO                     1457\n",
      "SAKHIPUR                   1456\n",
      "NAZIRPUR                   1454\n",
      "RAJBARI SADAR              1454\n",
      "COMILLA ADARSHA SADAR      1453\n",
      "SHIBCHAR                   1450\n",
      "COX'S BAZAR SADAR          1450\n",
      "BANDAR                     1450\n",
      "KULIAR CHAR                1448\n",
      "SADULLAPUR                 1448\n",
      "TALA                       1448\n",
      "BHURUNGAMARI               1445\n",
      "PAKUNDIA                   1445\n",
      "ZIANAGAR                   1440\n",
      "NACHOLE                    1438\n",
      "SREEBARDI                  1438\n",
      "PANGSHA                    1437\n",
      "JURI                       1437\n",
      "HOSSAINPUR                 1436\n",
      "JOYPURHAT SADAR            1435\n",
      "DEWANGANJ                  1433\n",
      "DAULAT KHAN                1432\n",
      "DERAI                      1430\n",
      "BEGUMGANJ                  1430\n",
      "RANISANKAIL                1429\n",
      "BEANI BAZAR                1429\n",
      "KALAPARA                   1429\n",
      "CHATKHIL                   1429\n",
      "MAHESHPUR                  1429\n",
      "TEKNAF                     1428\n",
      "CHHATAK                    1427\n",
      "SHIBPUR                    1425\n",
      "PHULBARI                   1425\n",
      "MATIRANGA                  1424\n",
      "KISHOREGANJ SADAR          1424\n",
      "GOMASTAPUR                 1424\n",
      "FARIDGANJ                  1423\n",
      "KUSHTIA SADAR              1423\n",
      "BARGUNA SADAR              1423\n",
      "BAHUBAL                    1423\n",
      "BAGHAICHHARI               1422\n",
      "PANCHBIBI                  1422\n",
      "SONATOLA                   1422\n",
      "SINGRA                     1422\n",
      "NIKLI                      1421\n",
      "UKHIA                      1421\n",
      "MITHAMAIN                  1421\n",
      "BARURA                     1421\n",
      "BADARGANJ                  1420\n",
      "SREEMANGAL                 1420\n",
      "LANGADU  UPAZILA           1420\n",
      "NAGARKANDA                 1419\n",
      "CHAKARIA                   1419\n",
      "TAZUMUDDIN                 1418\n",
      "TANGAIL SADAR              1418\n",
      "NASIRNAGAR                 1418\n",
      "SHARSHA                    1417\n",
      "DELDUAR                    1417\n",
      "ZANJIRA                    1416\n",
      "HAKIMPUR                   1416\n",
      "LALMONIRHAT SADAR          1415\n",
      "NILPHAMARI SADAR           1415\n",
      "KALIHATI                   1415\n",
      "KABIRHAT                   1415\n",
      "AKKELPUR                   1414\n",
      "BASAIL                     1414\n",
      "ATRAI                      1413\n",
      "DHANBARI                   1413\n",
      "NOAKHALI SADAR             1412\n",
      "MUJIB NAGAR                1412\n",
      "MANOHARDI                  1412\n",
      "GOALANDA                   1412\n",
      "KAWKHALI                   1411\n",
      "RANGABALI                  1411\n",
      "KALKINI                    1411\n",
      "BETAGI                     1410\n",
      "ASHUGANJ                   1410\n",
      "THAKURGAON SADAR           1410\n",
      "TARAIL                     1410\n",
      "KUTUBDIA                   1410\n",
      "NAGARPUR                   1409\n",
      "TUNGIPARA                  1409\n",
      "RAMGATI                    1409\n",
      "ADITMARI                   1408\n",
      "SHIBALAYA                  1408\n",
      "MADHABPUR                  1408\n",
      "MATHBARIA                  1408\n",
      "FARIDPUR                   1408\n",
      "CHAR FASSON                1407\n",
      "SADARPUR                   1406\n",
      "BHALUKA                    1406\n",
      "DASHMINA                   1406\n",
      "KUMARKHALI                 1406\n",
      "FAKIRHAT                   1405\n",
      "MIRZAPUR                   1405\n",
      "RAJARHAT                   1404\n",
      "BAKSHIGANJ                 1404\n",
      "SARIAKANDI                 1404\n",
      "TALTALI                    1402\n",
      "HALUAGHAT                  1402\n",
      "MAULVIBAZAR SADAR          1402\n",
      "GANGNI                     1401\n",
      "SYLHET SADAR               1401\n",
      "RAJOIR                     1401\n",
      "SONARGAON                  1401\n",
      "KAMARKHANDA                1400\n",
      "SHERPUR SADAR              1400\n",
      "DAGANBHUIYAN               1400\n",
      "HOMNA                      1399\n",
      "ISHWARDI                   1399\n",
      "KOTALIPARA                 1399\n",
      "HARIRAMPUR                 1398\n",
      "KASBA                      1398\n",
      "DAKSHIN SURMA              1398\n",
      "BOGRA SADAR                1398\n",
      "MEHERPUR SADAR             1398\n",
      "TRISHAL                    1398\n",
      "BISHWAMBARPUR              1397\n",
      "KATIADI                    1396\n",
      "DAMURHUDA                  1396\n",
      "PURBADHALA                 1396\n",
      "MONGLA                     1396\n",
      "RAJAPUR                    1395\n",
      "BHOLA SADAR                1394\n",
      "KOTCHANDPUR                1394\n",
      "PALASH                     1394\n",
      "BIJOYNAGAR                 1394\n",
      "NARIA                      1394\n",
      "KURIGRAM SADAR             1394\n",
      "ISHWARGANJ                 1392\n",
      "SUBARNACHAR                1392\n",
      "DHARAMPASHA                1392\n",
      "THANCHI                    1392\n",
      "MITHA PUKUR                1392\n",
      "DHOBAURA                   1392\n",
      "KAPTAI  UPAZILA            1391\n",
      "BHAIRAB                    1391\n",
      "NARSINGDI SADAR            1391\n",
      "MATLAB UTTAR               1391\n",
      "PHULPUR                    1390\n",
      "GHATAIL                    1390\n",
      "SHALIKHA                   1390\n",
      "GANGACHARA                 1389\n",
      "CHATMOHAR                  1389\n",
      "PEKUA                      1389\n",
      "MADARGANJ                  1389\n",
      "KAWKHALI (BETBUNIA)        1389\n",
      "DOWARABAZAR                1388\n",
      "NAGESHWARI                 1388\n",
      "FULBARIA                   1388\n",
      "BALIAKANDI                 1387\n",
      "BELAI CHHARI  UPAZI        1387\n",
      "CHILMARI                   1387\n",
      "MIRZAGANJ                  1387\n",
      "DINAJPUR SADAR             1387\n",
      "CHITALMARI                 1387\n",
      "SHAILKUPA                  1387\n",
      "BERA                       1387\n",
      "SIRAJGANJ SADAR            1386\n",
      "BOALMARI                   1386\n",
      "LAKHAI                     1386\n",
      "MAHADEBPUR                 1386\n",
      "CHAUHALI                   1385\n",
      "PIRGACHHA                  1385\n",
      "BAUPHAL                    1385\n",
      "CHAR BHADRASAN             1385\n",
      "KHAGRACHHARI SADAR         1384\n",
      "ADAMDIGHI                  1384\n",
      "SHYAMNAGAR                 1384\n",
      "DEBIDWAR                   1384\n",
      "ALIKADAM                   1384\n",
      "NANGALKOT                  1384\n",
      "HARINAKUNDA                1383\n",
      "DEBIGANJ                   1383\n",
      "TARAKANDA                  1383\n",
      "RAMU                       1383\n",
      "GOWAINGHAT                 1382\n",
      "MANPURA                    1382\n",
      "JAMALPUR SADAR             1382\n",
      "MORRELGANJ                 1382\n",
      "RAUMARI                    1382\n",
      "GURUDASPUR                 1382\n",
      "JHIKARGACHHA               1382\n",
      "CHHAGALNAIYA               1382\n",
      "SAGHATA                    1381\n",
      "ISLAMPUR                   1381\n",
      "BHERAMARA                  1381\n",
      "NARAYANGANJ SADAR          1381\n",
      "GHORAGHAT                  1381\n",
      "SULLA                      1380\n",
      "NAKLA                      1380\n",
      "ABHAYNAGAR                 1380\n",
      "KASHIANI                   1380\n",
      "LOHAJANG                   1379\n",
      "AMTALI                     1379\n",
      "KAUNIA                     1379\n",
      "PANCHAGARH SADAR           1379\n",
      "DAUDKANDI                  1378\n",
      "DAMUDYA                    1378\n",
      "PIROJPUR SADAR             1378\n",
      "KARIMGANJ                  1377\n",
      "BAGERHAT SADAR             1377\n",
      "ASSASUNI                   1375\n",
      "GOPALPUR                   1375\n",
      "ULIPUR                     1375\n",
      "GHIOR                      1375\n",
      "DIGHINALA                  1375\n",
      "MADAN                      1374\n",
      "MYMENSINGH SADAR           1374\n",
      "PATNITALA                  1374\n",
      "PARBATIPUR                 1374\n",
      "AJMIRIGANJ                 1374\n",
      "AUSTAGRAM                  1374\n",
      "ROYPUR                     1373\n",
      "HABIGANJ SADAR             1373\n",
      "DEBHATA                    1373\n",
      "KALIAKAIR                  1372\n",
      "PALASHBARI                 1372\n",
      "KAHALOO                    1372\n",
      "SENBAGH                    1372\n",
      "RUMA                       1372\n",
      "BRAHMANBARIA SADAR         1372\n",
      "BIRGANJ                    1372\n",
      "BARLEKHA                   1372\n",
      "MAHALCHHARI                1371\n",
      "JALDHAKA                   1371\n",
      "MUKSUDPUR                  1371\n",
      "KALMAKANDA                 1371\n",
      "RAMGANJ                    1371\n",
      "DIMLA                      1371\n",
      "BANIACHONG                 1371\n",
      "JIBAN NAGAR                1371\n",
      "JAGANNATHPUR               1370\n",
      "ALFADANGA                  1370\n",
      "TENTULIA                   1370\n",
      "GOLAPGANJ                  1369\n",
      "HARIPUR                    1369\n",
      "BALAGANJ                   1368\n",
      "TARASH                     1368\n",
      "LAKSHMICHHARI              1367\n",
      "MATLAB DAKSHIN             1367\n",
      "BURICHANG                  1367\n",
      "MAGURA SADAR               1367\n",
      "ZAKIGANJ                   1367\n",
      "MADHUPUR                   1367\n",
      "KAMALNAGAR                 1366\n",
      "JHENAIGATI                 1366\n",
      "SAPAHAR                    1366\n",
      "RANGPUR SADAR              1366\n",
      "BHOLAHAT                   1365\n",
      "KENDUA                     1365\n",
      "NANIARCHAR  UPAZILA        1365\n",
      "KHOKSA                     1365\n",
      "TARAGANJ                   1365\n",
      "KAMALGANJ                  1364\n",
      "SHERPUR                    1363\n",
      "NANDAIL                    1363\n",
      "ALAMDANGA                  1363\n",
      "LAKSHMIPUR SADAR           1363\n",
      "JAINTIAPUR                 1362\n",
      "MANIRAMPUR                 1362\n",
      "MANOHARGANJ                1361\n",
      "BAJITPUR                   1361\n",
      "GAZARIA                    1361\n",
      "SANTHIA                    1360\n",
      "MUKTAGACHHA                1360\n",
      "KANTHALIA                  1360\n",
      "SONAGAZI                   1359\n",
      "SARAIL                     1359\n",
      "BAMNA                      1359\n",
      "GAURIPUR                   1359\n",
      "BARHATTA                   1358\n",
      "BOCHAGANJ                  1358\n",
      "HAJIGANJ                   1358\n",
      "MOLLAHAT                   1358\n",
      "GOBINDAGANJ                1358\n",
      "RAMPAL                     1357\n",
      "DHAMOIRHAT                 1357\n",
      "TITAS                      1356\n",
      "JHALOKATI SADAR            1356\n",
      "DAKSHIN SUNAMGANJ          1355\n",
      "KAZIPUR                    1355\n",
      "NIAMATPUR                  1355\n",
      "KALAI                      1355\n",
      "BANCHHARAMPUR              1354\n",
      "PARSHURAM                  1354\n",
      "HATIYA                     1354\n",
      "CHANDPUR SADAR             1354\n",
      "SAIDPUR UPAZILA            1354\n",
      "TONGIBARI                  1354\n",
      "BELKUCHI                   1353\n",
      "HATIBANDHA                 1353\n",
      "BHUAPUR                    1353\n",
      "LAMA                       1353\n",
      "HAIM CHAR                  1352\n",
      "ATWARI                     1352\n",
      "COMILLA SADAR DAKSHIN      1352\n",
      "NAOGAON SADAR              1351\n",
      "BHANGA                     1351\n",
      "NABINAGAR                  1351\n",
      "KALIA                      1351\n",
      "DHUNAT                     1351\n",
      "GAZIPUR SADAR              1351\n",
      "NANDIGRAM                  1350\n",
      "CHAR RAJIBPUR              1350\n",
      "NARAIL SADAR               1350\n",
      "FULCHHARI                  1350\n",
      "JURAI CHHARI UPAZIL        1348\n",
      "KALUKHALI                  1348\n",
      "NAIKHONGCHHARI             1348\n",
      "BURHANUDDIN                1348\n",
      "SHAHRASTI                  1348\n",
      "SHAJAHANPUR                1347\n",
      "KHETLAL                    1347\n",
      "GAIBANDHA SADAR            1346\n",
      "KESHABPUR                  1346\n",
      "BAGATIPARA                 1346\n",
      "FULBARI                    1346\n",
      "PATHARGHATA                1345\n",
      "KALAROA                    1345\n",
      "RANGAMATI SADAR  UP        1345\n",
      "ATPARA                     1345\n",
      "GABTALI                    1345\n",
      "KULAURA                    1344\n",
      "CHAPAI NABABGANJ SADAR     1344\n",
      "FENCHUGANJ                 1343\n",
      "RAMGARH                    1343\n",
      "SARANKHOLA                 1342\n",
      "SHARIATPUR SADAR           1341\n",
      "KHANSAMA                   1341\n",
      "NALDANGA                   1341\n",
      "MANDA                      1340\n",
      "RAJASTHALI  UPAZILA        1340\n",
      "CHAUDDAGRAM                1340\n",
      "CHANDINA                   1340\n",
      "MAHESHKHALI                1339\n",
      "LAKSAM                     1338\n",
      "BANDARBAN SADAR            1338\n",
      "MURADNAGAR                 1337\n",
      "DOMAR UPAZILA              1336\n",
      "BARKAL UPAZILA             1336\n",
      "TAHIRPUR                   1336\n",
      "MANIKCHHARI                1336\n",
      "BISHWANATH                 1336\n",
      "KANAIGHAT                  1335\n",
      "BALIADANGI                 1335\n",
      "SERAJDIKHAN                1335\n",
      "BHEDARGANJ                 1334\n",
      "LALMOHAN                   1334\n",
      "KAHAROLE                   1332\n",
      "MEGHNA                     1332\n",
      "NABIGANJ                   1332\n",
      "KAPASIA                    1332\n",
      "ROYPURA                    1331\n",
      "ITNA                       1331\n",
      "GOPALGANJ SADAR            1331\n",
      "MANIKGANJ SADAR            1331\n",
      "PATUAKHALI SADAR           1329\n",
      "ARAIHAZAR                  1329\n",
      "MOHANGANJ                  1329\n",
      "ATGHARIA                   1329\n",
      "ROWANGCHHARI               1328\n",
      "LALPUR                     1328\n",
      "BARAIGRAM                  1328\n",
      "NALITABARI                 1327\n",
      "JHENAIDAH SADAR            1326\n",
      "NETROKONA SADAR            1326\n",
      "PATGRAM                    1326\n",
      "JESSORE SADAR              1326\n",
      "MELANDAHA                  1325\n",
      "MADARIPUR SADAR            1325\n",
      "GOSAIRHAT                  1324\n",
      "BHANGURA                   1322\n",
      "JAMALGANJ                  1322\n",
      "DUMKI                      1322\n",
      "ROYGANJ                    1321\n",
      "RAJNAGAR                   1320\n",
      "RANINAGAR                  1320\n",
      "GALACHIPA                  1319\n",
      "SUNDARGANJ                 1318\n",
      "PANCHHARI                  1318\n",
      "GAFFARGAON                 1318\n",
      "MUNSHIGANJ SADAR           1318\n",
      "BRAHMAN PARA               1318\n",
      "CHIRIRBANDAR               1318\n",
      "KISHOREGANJ                1317\n",
      "PORSHA                     1317\n",
      "CHUADANGA SADAR            1316\n",
      "SUNAMGANJ SADAR            1316\n",
      "SATKHIRA SADAR             1316\n",
      "NESARABAD (SWARUPKATI)     1316\n",
      "NALCHITY                   1315\n",
      "ULLAH PARA                 1315\n",
      "RUPGANJ                    1315\n",
      "SONAIMURI                  1314\n",
      "MADHUKHALI                 1311\n",
      "FARIDPUR SADAR             1311\n",
      "NATORE SADAR               1311\n",
      "SALTHA                     1308\n",
      "SINGAIR                    1308\n",
      "BADALGACHHI                1306\n",
      "BAGHER PARA                1303\n",
      "SARISHABARI UPAZILA        1296\n",
      "SUJANAGAR                  1296\n",
      "FENI SADAR                 1294\n",
      "DHUPCHANCHIA               1294\n",
      "FULGAZI                    1289\n",
      "CHUNARUGHAT                1287\n",
      "CHAUGACHHA                 1282\n",
      "BIRAL                      1282\n",
      "PABNA SADAR                1280\n",
      "SATURIA                    1273\n",
      "BHANDARIA                  1257\n",
      "Name: count, dtype: int64\n",
      "Unique values: 540\n",
      "\n",
      "---------\n",
      "item_name\n",
      "Pepsi - 12 oz cans                              7724\n",
      "Muscle Milk Protein Shake Van. 11oz             7550\n",
      "Diet Coke - 12 oz cans                          7544\n",
      "Sprite - 12 oz cans                             7503\n",
      "Coke Classic 12 oz cans                         7472\n",
      "Diet Pepsi - 12 oz cans                         3952\n",
      "Nat.Valley PeanutButter Protein Bars            3939\n",
      "100% Juice Box Variety 6.75 oz                  3923\n",
      "Large Trash Bags Black 33 gal                   3920\n",
      "Nabisco Classic Mix ccooki, cracker             3913\n",
      "Ocean Spray Cranberry Juice Cocktail 15oz       3912\n",
      "Red Bull 12oz                                   3911\n",
      "Napkins Square Lunch                            3909\n",
      "Doritos Nacho Cheese 1 oz                       3905\n",
      "Hand Sanitizer Refill Pump                      3905\n",
      "Foam Coffee Cups - 20 ounce                     3901\n",
      "Vita Coconut Water 10oz                         3893\n",
      "Quaker Instant Oatmeal Maple Brn Sugar          3891\n",
      "Wonderful Pistachios (in shell)                 3888\n",
      "Waterloo Sparkling Original 12oz                3888\n",
      "A&W Root Beer - 12 oz cans                      3887\n",
      "M&M Peanut Butter 1.6 oz                        3886\n",
      "Cascade Gel Packs Dishwasher                    3885\n",
      "Chinet Comfort Hot Cups with Lids 16oz          3883\n",
      "K Cups Daily Chef Columbian Supremo             3883\n",
      "Miss Vickies Chips                              3881\n",
      "Njoy Sugar Canister 22 oz                       3880\n",
      "Clear Plastic Cups 9oz                          3878\n",
      "Topo Chico 20oz plastic                         3877\n",
      "Coffee-Mate Original Flavor Cold                3875\n",
      "Ginger Ale - 12 oz cans                         3874\n",
      "Fuze Iced Tea                                   3874\n",
      "K Cups Dunkin Donuts Medium Roast               3871\n",
      "Reese's Pieces Peanutbutter Candy               3870\n",
      "Starbuck's Pike Place                           3869\n",
      "Kellogg's Cereals Assortment Pack               3868\n",
      "Swiss Miss Hot Cocoa Mix 1 oz                   3868\n",
      "Gatorade Variety 20 oz                          3866\n",
      "Baked Chips Variety Mix Frito                   3862\n",
      "Pringles Snak Stacks Variety                    3859\n",
      "Planters Nut-trition 1.5 oz                     3858\n",
      "Red Bull 8.4 oz                                 3852\n",
      "Clorox Bleach Large Jugs                        3851\n",
      "Lunchables Variety Pack Oscar Meyer             3846\n",
      "Sobe Zero Lifewater Variety 20 oz               3845\n",
      "Fresca Black Cherry - 12 oz cans                3845\n",
      "Paper Plates 7 inch  Ultra Strong               3844\n",
      "Pop-Tarts, Brown Sugar Cinnamon                 3841\n",
      "Tropicana Apple Juice 10 oz 100%                3841\n",
      "Chobani Greek Yogurt Variety Pack               3839\n",
      "Frito Classic Mix Variety                       3836\n",
      "Pop Chips Variety bags                          3835\n",
      "Cascade Gel w/ Dawn Dishwasher                  3835\n",
      "San Pelligrino 16oz Plastic                     3835\n",
      "Cheez It Original Crackers 1.5oz                3834\n",
      "A&W Root Beer Diet - 12 oz cans                 3834\n",
      "Splenda Sweetener                               3834\n",
      "Reese's Peanutbutter Cups 2/pk                  3833\n",
      "Belvita Hard Biscuits Cinnamon                  3833\n",
      "M&M Variety Full Size Bags                      3832\n",
      "Waterloo Sparkling Mango 12oz                   3831\n",
      "Cheez It White Cheddar 1.5 oz                   3830\n",
      "V-8 Splash Variety 20 oz                        3829\n",
      "ForceFlex Trash Bags 13 Gal                     3829\n",
      "Coffee-Mate French Vanilla Cold                 3829\n",
      "Red Bull Sugar Free 8.4 oz                      3827\n",
      "Truvia Natural Sweetener                        3827\n",
      "Sweet N Low Sweetener                           3826\n",
      "Muscle Milk Protein Shake Strbry. 11oz          3825\n",
      "Dial Anti-bacterial  Foam 7.5oz                 3824\n",
      "Cliff Energy Bars Variety Pack                  3822\n",
      "Spunkmeyer Muffin Variety                       3820\n",
      "Go-Gurt Low Fat Yogurt, Strwbry & Berry         3819\n",
      "Plastic Forks White Heavyweight                 3819\n",
      "La Croix Sparkling Grapefruit 12 oz             3818\n",
      "Ice Breaker Mints Sugar Free                    3818\n",
      "Flamin Hot Chip Mix 1oz                         3818\n",
      "Deluxe Mixed Nuts with Seasalt                  3817\n",
      "Mars Chocolate Favorites                        3817\n",
      "Dark Chocolate Mint Patties                     3817\n",
      "Gatorade Frost Variety 20 oz                    3816\n",
      "K Cups - McCafe Premium Roast                   3815\n",
      "Sugar in the Raw Packets                        3814\n",
      "Detour Lower Sugar Protein Bar                  3814\n",
      "Quaker Instant Oatmeal Variety                  3814\n",
      "Bounty Paper Towels Select a Size               3814\n",
      "Mars Mini Mix                                   3814\n",
      "Waterloo Sparkling Lime 12oz                    3814\n",
      "Kind  Bars Mini Variety Pack 0.7 oz             3813\n",
      "Advil 2 pill packets                            3813\n",
      "Monster Original Green 16 oz                    3813\n",
      "Equal Sweetener                                 3812\n",
      "K Cups Folgers Lively Columbian                 3812\n",
      "Gatorade Zero Variety 20 oz                     3811\n",
      "Foam Coffee Cups - 12 ounce                     3811\n",
      "Cherry Coke 12oz                                3810\n",
      "Foam Coffee Cups - 16 ounce                     3810\n",
      "Charmin Ultra Bath Tissue                       3810\n",
      "Austin Cookie Cracker Variety                   3809\n",
      "Peppermints Hard Candy                          3809\n",
      "V8 100% Vegetable Juice 11oz cans               3809\n",
      "Fresca Original - 12 oz cans                    3808\n",
      "La Croix Sparkling Cran-Raspberry 12 oz         3807\n",
      "Goldfish Pepperidge Farm Cheddar 1.5oz          3807\n",
      "Gardettos Snacks                                3806\n",
      "Breath Savers Peppermints 12/roll               3805\n",
      "Nabisco Cookie Variety Pk Oreo/ChocChip         3805\n",
      "Pure Leaf Sweet Tea 8.5oz                       3804\n",
      "Austin Toasty Crackers w/ PBtr                  3803\n",
      "Planters Nut Variety Packs                      3803\n",
      "Gatorade Liberty Variety 12 oz                  3803\n",
      "Njoy Creamer Canister 16 oz                     3802\n",
      "Waterloo Sparkling Watermelon 12oz              3802\n",
      "Monster Zero Ultra 16 oz                        3802\n",
      "Crunchy Granola Bars Oats & Honey               3801\n",
      "AquaFina Purified Drinking Water 16oz           3800\n",
      "Pop-Tarts, Frosted Strawberry                   3800\n",
      "Clorox Disinfecting Wipes                       3799\n",
      "Community Coffee Dark Roast                     3798\n",
      "Dawn Ultra Dish Detergent, Original Scent       3798\n",
      "Kind  Bars Variety Pack 1.4 oz                  3797\n",
      "Propel Zero Variety 20 oz                       3796\n",
      "Topo Chico 12 oz glass                          3796\n",
      "Ozarka Spring Water Mini 8oz                    3795\n",
      "Jolly Ranchers Variety Hard Candy               3795\n",
      "Frito BOLD Flavors Variety Pack                 3794\n",
      "La Croix Sparkling Coconut 12 oz                3794\n",
      "G2 Lo Calorie Variety 20 oz                     3793\n",
      "Diet Coke Caffeine Free 12oz cans               3791\n",
      "Paper Plate 10 inch Ultra Strong                3791\n",
      "La Croix Sparkling Lemon 12 oz                  3790\n",
      "Cheese and Peanut Butter Crackers               3790\n",
      "Apple Sauce Variety GoGO Squeeze 3.2oz          3788\n",
      "Nestle Purelife 16oz                            3788\n",
      "Red Plastic Cups 18oz                           3787\n",
      "Paper Plates 8.5 inch Ultra Strong              3786\n",
      "Tropicana Orange Juice 10 oz 100%               3786\n",
      "Famous Amos Cookies                             3785\n",
      "Seven Up - 12 oz cans                           3783\n",
      "Perrier Sparkling Water glass 11oz              3783\n",
      "Red Bull 16oz                                   3783\n",
      "Njoy Creamer Packs                              3782\n",
      "Cliff Builders Protein Bar Variety Pack         3782\n",
      "Brisk Lemon Iced Tea - 12 oz cans               3782\n",
      "Strong Everyday Napkins                         3781\n",
      "Cheetos Flamin' Hot 1 oz                        3780\n",
      "Perrier Sparkling Water plastic 16.9oz          3780\n",
      "Paper Bowls 20 oz Ultra Strong                  3780\n",
      "Diet Fuze Iced Tea                              3780\n",
      "K Cups  Starbuck's Pike Place                  3780\n",
      "Extra Variety Packs Sugar Free                  3779\n",
      "Peanutbutter Filled Pretzels                    3779\n",
      "Barq's Root Beer - 12 oz cans                   3779\n",
      "Monster Zero Ultra Variety 16 oz                3778\n",
      "Cherry Coke Zero 12 pack                        3777\n",
      "Belvita Protein Oats Soft Biscuit               3777\n",
      "Sunkist Orange - 12 oz cans                     3776\n",
      "Gatorade Original Variety 12 oz                 3776\n",
      "Sargento String Cheese 0.75oz                   3773\n",
      "Keebler Cookie & Cracker Variety                3772\n",
      "Altoids Small Packs Variety                     3772\n",
      "Dasani Bottled Water 16.9 oz                    3771\n",
      "Sun Chips Variety Pack                          3770\n",
      "Chewy Granola Variety Bars Quaker               3770\n",
      "Stirrers Coffee Stirs 7inch                     3769\n",
      "Tejava Unsweetened Black Tea 16.9oz             3769\n",
      "Half & Half -Land o Lakes Mini Moo's            3768\n",
      "Hefty Supreme Foam Bowls 12oz                   3767\n",
      "Dr. Pepper - 12 oz cans                         3767\n",
      "Blue Diamond Almonds Rstd, Sltd                 3765\n",
      "All Purpose Cleaner 409 Spray                   3765\n",
      "Welch's 100% Juice Variety10 oz                 3765\n",
      "Kleenex Tissue Rectangle Boxes 160/box          3764\n",
      "K Cups Original Donut Shop Med. Roast           3763\n",
      "Trident Original Flavor 18/pk                   3762\n",
      "Tylenol Extra Strength 2 pill packets           3762\n",
      "Hazelnut International Delight                  3762\n",
      "Pure Leaf Unsweetened Tea 18.5oz                3761\n",
      "Lance Variety Cracker Packs                     3761\n",
      "Lysol Wipes 100 ct                              3760\n",
      "Honey Packets                                   3759\n",
      "Pure White Sugar Packets                        3759\n",
      "Dunkin Donuts Original Blend                    3757\n",
      "Nature Valley Soft Oatmeal Squares              3756\n",
      "Premier Protein Shake Choc. 11oz                3755\n",
      "Chex Mix Original                               3755\n",
      "Diet Gingerale 12 oz cans                       3754\n",
      "Gatorade Lemon Lime 12oz                        3753\n",
      "Ozarka Spring Water 16.9 oz bottles             3751\n",
      "Kellogg's Fruity Snacks                         3751\n",
      "Gatorade Frost Variety 12 oz                    3749\n",
      "Perrier Flavors Sparkling Water 16.9oz          3749\n",
      "Hershey Nuggets                                 3748\n",
      "Lysol Disinfectant Spray 19 oz                  3748\n",
      "Snapple Variety Pack 20oz                       3747\n",
      "K Cups Organic Breakfast Blend                 3747\n",
      "Double Bubble Variety Tub                       3747\n",
      "Wint O Green LifeSavers Sugar Free              3745\n",
      "Sprite Zero - 12 pack                           3745\n",
      "Fiber One Bars Oats and Chocolate               3744\n",
      "Hefty Supreme Foam Plates 9 inch                3743\n",
      "French Vanilla International Delight            3741\n",
      "Folgers 100% Colombian Coffee                   3741\n",
      "Hawaiian Punch - 12 oz cans                     3740\n",
      "Sargento Bal. Breaks (fruit, nut, cheese)       3739\n",
      "Coke Zero Sugar 12 oz cans                      3739\n",
      "Frito Fiesta Flavors Variety                    3737\n",
      "Folgers Classic Roast Coffee                    3736\n",
      "La Croix Sparkling Berry 12 ozv                 3735\n",
      "Ozarka Spring Water 20 oz                       3734\n",
      "Waterloo Sparkling Grapefruit 12oz              3733\n",
      "Fresca Peach Citrus - 12 oz cans                3733\n",
      "Fiber One 90 Calorie Fudge Brownies             3732\n",
      "Veggie Chips 1oz                                3732\n",
      "Yoplait Original Yogurt Variety Pack            3730\n",
      "Frito Big Grab Variety 1.5-2.0 oz               3728\n",
      "Coffee-mate Original Powdered Creamer           3727\n",
      "Nature Valley Sweet/Salty Peanut Bars           3724\n",
      "Frito Bold Flavors Variety                      3723\n",
      "Foam Coffee Cups - 08 ounce                     3722\n",
      "La Croix Sparkling Pure 12 oz                   3721\n",
      "M&M Peanut Candy 1.7 oz                         3720\n",
      "Nature Valley Chewy Trail Mix Bars              3720\n",
      "Goldfish Variety Bags, cheddar, pretzels        3718\n",
      "POM 2 ply paper towels                          3717\n",
      "K Cups Hot Cocoa                                3717\n",
      "Unsalted Premium Blend Nuts                     3715\n",
      "K Cups - Green Tea                              3714\n",
      "Diet Dr. Pepper - 12 oz cans                    3712\n",
      "Muscle Milk Protein Shake Choc. 11oz            3712\n",
      "Hefty Supreme Foam Plates 6 inch                3709\n",
      "Dixie Perfecttouch Paper Cups 12oz              3707\n",
      "La Croix Sparkling Lime 12 oz                   3706\n",
      "La Croix Sparkling Orange 12 oz                 3706\n",
      "Waterloo Sparkling Lemon 12oz                   3704\n",
      "Clear Plastic 12 oz Cups                        3704\n",
      "Kleenex Tissue Square Boxes 75/box              3702\n",
      "Tootsie Roll Midgets                            3701\n",
      "Nature Valley Biscuit Sandwich Variety Pack     3699\n",
      "Plastic Knives White  Heavyweight               3699\n",
      "Dole Fruit in Gel Cups 4.3 oz                   3699\n",
      "Diet Mountain Dew 12oz cans                     3698\n",
      "Mountain Dew - 12 oz cans                       3694\n",
      "Hershey Kisses                                  3693\n",
      "Monster Lo-Carb 16 oz                           3692\n",
      "Nature Valley Sweet/Salty Almond Bars           3692\n",
      "Plastic Spoons White  Heavyweight               3688\n",
      "Snickers Bars 1.8oz                             3687\n",
      "Waterloo Sparkling Blackcherry 12oz             3684\n",
      "Belvita Hard Biscuits Blueberry                 3681\n",
      "Gatorade X-Factor Fierce Variety 20 oz          3681\n",
      "Hershey Chocoalte Minatures Assort.             3681\n",
      "Zoo Animal Cookies/Crackers                     3676\n",
      "Kellogg Fun Mix Cheez it, Prngls, Fam Amos      3672\n",
      "Snyders Pretzels Minis                          3666\n",
      "Gatorade Liberty Variety 20 oz                  3665\n",
      "Hefty Cmprtmnt Plates Foam 10'                  3665\n",
      "Hershey Factory Favorites Mix                   3659\n",
      "Monster Java 15 oz                              3625\n",
      "Name: count, dtype: int64\n",
      "Unique values: 259\n",
      "\n",
      "---------\n",
      "desc\n",
      "a. Beverage - Soda             109741\n",
      "Food - Healthy                 109585\n",
      "Food - Chips                    79676\n",
      "a. Beverage Sparkling Water     79353\n",
      "Kitchen Supplies                72416\n",
      "Food - Chocolate                52758\n",
      "Beverage - Energy/Protein       49300\n",
      "Food - Sweets                   41747\n",
      "Beverage - Gatorade             37713\n",
      "Beverage Water                  34173\n",
      "Coffee Sweetener                30511\n",
      "Gum - Mints                     30237\n",
      "Beverage - Juice                26865\n",
      "Coffee K-Cups                   26671\n",
      "Beverage - Iced Tea             26517\n",
      "Food - Nuts                     22846\n",
      "Dishware - Cups Hot             22834\n",
      "Coffee Cream                    22702\n",
      "Dishware - Plates               22538\n",
      "Food - Snacks                   18942\n",
      "Coffee Ground                   18901\n",
      "Dishware - Cups Cold            11369\n",
      "Dishware - Utensils             11206\n",
      "Coffee Hot Cocoa                 7585\n",
      "Coffee Creamer                   7584\n",
      "Medicine                         7575\n",
      "Dishware - Bowls                 7547\n",
      "Coffee Stirrers                  3769\n",
      "Coffee K-Cups Tea                3714\n",
      "Beverage - Energy/Protein        3625\n",
      "Name: count, dtype: int64\n",
      "Unique values: 30\n",
      "\n",
      "---------\n",
      "man_country\n",
      "Bangladesh       128655\n",
      "India            121639\n",
      "Germany          116694\n",
      "poland           106056\n",
      "Finland          101953\n",
      "Lithuania         98539\n",
      "Netherlands       98453\n",
      "Cambodia          91413\n",
      "United States     76020\n",
      "China             60578\n",
      "Name: count, dtype: int64\n",
      "Unique values: 10\n",
      "\n",
      "---------\n",
      "supplier\n",
      "DENIMACH LTD                      128655\n",
      "Indo Count Industries Ltd         121639\n",
      "Friedola 1888 GmbH                116694\n",
      "CHROMADURLIN S.A.S                106056\n",
      "HARDFORD AB                       101953\n",
      "BIGSO AB                           98539\n",
      "Bolsius Boxmeer                    98453\n",
      "NINGBO SEDUNO IMP & EXP CO.LTD     91413\n",
      "MAESA SAS                          76020\n",
      "CHERRY GROUP CO.,LTD               60578\n",
      "Name: count, dtype: int64\n",
      "Unique values: 10\n",
      "\n",
      "---------\n",
      "unit\n",
      "ct          355938\n",
      "cans        215602\n",
      "bottles     140073\n",
      "oz           71956\n",
      "bags         53462\n",
      "pk           37918\n",
      "ct.          30474\n",
      "bars         18950\n",
      "pack         18876\n",
      "Bags         11298\n",
      "tubs         11271\n",
      "rolls         7624\n",
      "Ct            7575\n",
      "cartons       3893\n",
      "botlltes      3796\n",
      "lb            3795\n",
      "tins          3772\n",
      "oz.           3727\n",
      "Name: count, dtype: int64\n",
      "Unique values: 18\n"
     ]
    }
   ],
   "source": [
    "# Count unique values in a categorical column  \n",
    "categorical_cols = ['week', 'quarter', 'division', 'district', 'upazila','item_name', 'desc' , 'man_country', 'supplier', 'unit'  ]\n",
    "\n",
    "for col in categorical_cols:\n",
    "    print(f\"\\n---------\")\n",
    "    print(df[col].value_counts())\n",
    "    print(f\"Unique values: {df[col].nunique()}\")"
   ]
  },
  {
   "cell_type": "markdown",
   "id": "7aea0c06",
   "metadata": {},
   "source": [
    "# <span style=\"color:#cd0057; font-weight:bold\">🧹Step 4: Data cleaning</span>\n",
    "<hr>"
   ]
  },
  {
   "cell_type": "code",
   "execution_count": 267,
   "id": "e9f3991b",
   "metadata": {},
   "outputs": [
    {
     "data": {
      "text/plain": [
       "(1000000, 23)"
      ]
     },
     "execution_count": 267,
     "metadata": {},
     "output_type": "execute_result"
    }
   ],
   "source": [
    "df.shape"
   ]
  },
  {
   "cell_type": "markdown",
   "id": "e99062d6",
   "metadata": {},
   "source": [
    "### <span style=\"color:#0076cd; font-weight:bold\">object data cleaning</span>"
   ]
  },
  {
   "cell_type": "markdown",
   "id": "17471b63",
   "metadata": {},
   "source": [
    "#### <span style=\"color:gold; font-weight:bold\">unit</span>"
   ]
  },
  {
   "cell_type": "code",
   "execution_count": 268,
   "id": "533639ee",
   "metadata": {},
   "outputs": [
    {
     "name": "stdout",
     "output_type": "stream",
     "text": [
      "unit\n",
      "ct          355938\n",
      "cans        215602\n",
      "bottles     140073\n",
      "oz           71956\n",
      "bags         53462\n",
      "pk           37918\n",
      "ct.          30474\n",
      "bars         18950\n",
      "pack         18876\n",
      "Bags         11298\n",
      "tubs         11271\n",
      "rolls         7624\n",
      "Ct            7575\n",
      "cartons       3893\n",
      "botlltes      3796\n",
      "lb            3795\n",
      "tins          3772\n",
      "oz.           3727\n",
      "Name: count, dtype: int64\n"
     ]
    }
   ],
   "source": [
    "print(df['unit'].value_counts())"
   ]
  },
  {
   "cell_type": "code",
   "execution_count": null,
   "id": "ae51cc0e",
   "metadata": {},
   "outputs": [],
   "source": [
    "# Convert to lowercase and strip trailing '.' for consistency\n",
    "df['unit'] = df['unit'].str.lower().str.rstrip('.')\n",
    "\n",
    "# Fix specific typos (e.g., \"botlltes\" → \"bottles\")\n",
    "df['unit'] = df['unit'].replace({\n",
    "    'botlltes': 'bottles',  # Fix typo\n",
    "    'ct': 'count',          # Standardize \"ct\" to \"count\" \n",
    "    'pk': 'pack',           # Standardize \"pk\" to \"pack\" \n",
    "    'lb': 'lbs',            # Standardize \"lb\" to \"lbs\" \n",
    "    'oz': 'fl oz',          # Clarify fluid ounces \n",
    "})"
   ]
  },
  {
   "cell_type": "code",
   "execution_count": 270,
   "id": "ac95039c",
   "metadata": {},
   "outputs": [
    {
     "name": "stdout",
     "output_type": "stream",
     "text": [
      "unit\n",
      "count      393987\n",
      "cans       215602\n",
      "bottles    143869\n",
      "fl oz       75683\n",
      "bags        64760\n",
      "pack        56794\n",
      "bars        18950\n",
      "tubs        11271\n",
      "rolls        7624\n",
      "cartons      3893\n",
      "lbs          3795\n",
      "tins         3772\n",
      "Name: count, dtype: int64\n"
     ]
    }
   ],
   "source": [
    "print(df['unit'].value_counts())"
   ]
  },
  {
   "cell_type": "markdown",
   "id": "6b010e14",
   "metadata": {},
   "source": [
    "# <span style=\"color:#cd0057; font-weight:bold\">📈Step 5: EDA</span>\n",
    "<hr>\n"
   ]
  },
  {
   "cell_type": "markdown",
   "id": "8f6a7324",
   "metadata": {},
   "source": [
    "### <span style=\"color:#0076cd; font-weight:bold\">Make new columns</span>"
   ]
  },
  {
   "cell_type": "markdown",
   "id": "fa7fa354",
   "metadata": {},
   "source": [
    "#### <span style=\"color:gold; font-weight:bold\">month_year</span>"
   ]
  },
  {
   "cell_type": "code",
   "execution_count": 271,
   "id": "c4a2558e",
   "metadata": {},
   "outputs": [
    {
     "name": "stderr",
     "output_type": "stream",
     "text": [
      "C:\\Users\\SINGER\\AppData\\Local\\Temp\\ipykernel_8384\\3532345252.py:1: UserWarning: Parsing dates in %d-%m-%Y %H:%M format when dayfirst=False (the default) was specified. Pass `dayfirst=True` or specify a format to silence this warning.\n",
      "  df['date'] = pd.to_datetime(df['date'])\n"
     ]
    }
   ],
   "source": [
    "df['date'] = pd.to_datetime(df['date'])"
   ]
  },
  {
   "cell_type": "code",
   "execution_count": 272,
   "id": "3f39bbe3",
   "metadata": {},
   "outputs": [],
   "source": [
    "df['month_year'] = df['date'].dt.to_period('M')"
   ]
  },
  {
   "cell_type": "markdown",
   "id": "fc047632",
   "metadata": {},
   "source": [
    "#### <span style=\"color:gold; font-weight:bold\">category</span>"
   ]
  },
  {
   "cell_type": "code",
   "execution_count": 273,
   "id": "6a4ba1c3",
   "metadata": {},
   "outputs": [],
   "source": [
    "# Create category column from description (adjust based on your actual data)\n",
    "df['category'] = df['desc'].str.split().str[0].str.upper()"
   ]
  },
  {
   "cell_type": "code",
   "execution_count": 274,
   "id": "144144be",
   "metadata": {},
   "outputs": [
    {
     "data": {
      "text/plain": [
       "category\n",
       "FOOD        325554\n",
       "A.          189094\n",
       "BEVERAGE    178193\n",
       "COFFEE      121437\n",
       "DISHWARE     75494\n",
       "KITCHEN      72416\n",
       "GUM          30237\n",
       "MEDICINE      7575\n",
       "Name: count, dtype: int64"
      ]
     },
     "execution_count": 274,
     "metadata": {},
     "output_type": "execute_result"
    }
   ],
   "source": [
    "df['category'].value_counts()"
   ]
  },
  {
   "cell_type": "code",
   "execution_count": 275,
   "id": "632f5473",
   "metadata": {},
   "outputs": [],
   "source": [
    "df['category'] = df['category'].replace('A.', 'BEVERAGE')"
   ]
  },
  {
   "cell_type": "code",
   "execution_count": 276,
   "id": "0c09610e",
   "metadata": {},
   "outputs": [
    {
     "data": {
      "text/plain": [
       "category\n",
       "BEVERAGE    367287\n",
       "FOOD        325554\n",
       "COFFEE      121437\n",
       "DISHWARE     75494\n",
       "KITCHEN      72416\n",
       "GUM          30237\n",
       "MEDICINE      7575\n",
       "Name: count, dtype: int64"
      ]
     },
     "execution_count": 276,
     "metadata": {},
     "output_type": "execute_result"
    }
   ],
   "source": [
    "df['category'].value_counts()"
   ]
  },
  {
   "cell_type": "markdown",
   "id": "d0142156",
   "metadata": {},
   "source": [
    "# <span style=\"color:magenta; font-weight:bold\">📊 Task 1: Sales Performance Dashboard</span>\n",
    "<hr>"
   ]
  },
  {
   "cell_type": "markdown",
   "id": "57aefa46",
   "metadata": {},
   "source": [
    "> - How do sales change by time?\n",
    "> - Which products sell the most?\n",
    "> - Which stores perform best?\n",
    "> - Do some categories sell better than others?"
   ]
  },
  {
   "cell_type": "markdown",
   "id": "5c415209",
   "metadata": {},
   "source": [
    "### <span style=\"color:#0076cd; font-weight:bold\">1.Time wise Sales Trends analisis</span>"
   ]
  },
  {
   "cell_type": "markdown",
   "id": "ace98d87",
   "metadata": {},
   "source": [
    "#### 1. yearly Sales Trend"
   ]
  },
  {
   "cell_type": "code",
   "execution_count": null,
   "id": "3274aa57",
   "metadata": {},
   "outputs": [
    {
     "data": {
      "image/png": "[encoded data removed]",
      "text/plain": [
       "<Figure size 1400x600 with 1 Axes>"
      ]
     },
     "metadata": {},
     "output_type": "display_data"
    }
   ],
   "source": [
    "# 1. yearly Sales Trend\n",
    "x_sales = df.groupby('year')['total_price'].sum().reset_index()\n",
    "x_sales['year'] = x_sales['year'].astype(str)\n",
    "\n",
    "plt.figure(figsize=(14, 6))\n",
    "sns.lineplot(data=x_sales, x='year', y='total_price', marker='o')\n",
    "plt.title('yearly Sales Trend', fontsize=16)\n",
    "plt.xlabel('Year', fontsize=8)\n",
    "plt.ylabel('Total Sales ($)', fontsize=12)\n",
    "plt.xticks(rotation=90)\n",
    "plt.grid(True, alpha=0.3)\n",
    "plt.tight_layout()\n",
    "plt.show()"
   ]
  },
  {
   "cell_type": "markdown",
   "id": "43b92e25",
   "metadata": {},
   "source": [
    "<div style=\"background-color:#2596be; border-left:6px solid #2196F3; padding:10px;\">\n",
    "  <strong style = \"color:black\">Note:</strong>\n",
    "   <div style = \"color:black\">  📌All years has almost same sales. </div>\n",
    "   <div style = \"color:black\">  📌year 2021 has low sales because it has only january data </div>\n",
    "</div>\n"
   ]
  },
  {
   "cell_type": "markdown",
   "id": "3c5a2e16",
   "metadata": {},
   "source": [
    "#### 2. Month_yearly Sales Trend"
   ]
  },
  {
   "cell_type": "code",
   "execution_count": null,
   "id": "ea25833a",
   "metadata": {},
   "outputs": [
    {
     "data": {
      "image/png": "[encoded data removed]",
      "text/plain": [
       "<Figure size 1400x600 with 1 Axes>"
      ]
     },
     "metadata": {},
     "output_type": "display_data"
    }
   ],
   "source": [
    "# 1. month_yearly Sales Trend\n",
    "monthly_sales = df.groupby('month_year')['total_price'].sum().reset_index()\n",
    "monthly_sales['month_year'] = monthly_sales['month_year'].astype(str)\n",
    "\n",
    "plt.figure(figsize=(14, 6))\n",
    "sns.lineplot(data=monthly_sales, x='month_year', y='total_price', marker='o')\n",
    "plt.title('Monthly Sales Trend', fontsize=16)\n",
    "plt.xlabel('Month-Year', fontsize=8)\n",
    "plt.ylabel('Total Sales ($)', fontsize=12)\n",
    "plt.xticks(rotation=90)\n",
    "plt.grid(True, alpha=0.3)\n",
    "plt.tight_layout()\n",
    "plt.show()"
   ]
  },
  {
   "cell_type": "markdown",
   "id": "f8790c1c",
   "metadata": {},
   "source": [
    "<div style=\"background-color:#2596be; border-left:6px solid #2196F3; padding:10px;\">\n",
    "  <strong style = \"color:black\">Note:</strong>\n",
    "   <div style = \"color:black\">  📌All months has almost same sales. </div>\n",
    "   <div style = \"color:black\">  📌year 2021 january has low sales </div>\n",
    "   <div style = \"color:black\">  📌year 2014 january has low sales  </div>\n",
    "</div>"
   ]
  },
  {
   "cell_type": "markdown",
   "id": "2b6f508c",
   "metadata": {},
   "source": [
    "####  3. quarterly Sales Trend "
   ]
  },
  {
   "cell_type": "code",
   "execution_count": 317,
   "id": "adfd7731",
   "metadata": {},
   "outputs": [
    {
     "data": {
      "image/png": "[encoded data removed]",
      "text/plain": [
       "<Figure size 1400x600 with 1 Axes>"
      ]
     },
     "metadata": {},
     "output_type": "display_data"
    }
   ],
   "source": [
    "# 3. quarterly Sales Trend\n",
    "x_sales = df.groupby('quarter')['total_price'].sum().reset_index()\n",
    "x_sales['quarter'] = x_sales['quarter'].astype(str)\n",
    "\n",
    "plt.figure(figsize=(14, 6))\n",
    "sns.lineplot(data=x_sales, x='quarter', y='total_price', marker='o')\n",
    "plt.title('quarterly Sales Trend', fontsize=16)\n",
    "plt.xlabel('quarterly nth', fontsize=8)\n",
    "plt.ylabel('Total Sales ($)', fontsize=12)\n",
    "plt.xticks(rotation=90)\n",
    "plt.grid(True, alpha=0.3)\n",
    "plt.tight_layout()\n",
    "plt.show()"
   ]
  },
  {
   "cell_type": "markdown",
   "id": "ebd61dab",
   "metadata": {},
   "source": [
    "<div style=\"background-color:#2596be; border-left:6px solid #2196F3; padding:10px;\">\n",
    "  <strong style = \"color:black\">Note:</strong>\n",
    "   <div style = \"color:black\">  📌Q3 and Q4 has lot of sales. </div>\n",
    "   <div style = \"color:black\">  📌may be monthly Sales Trend can explain this </div>\n",
    "</div>"
   ]
  },
  {
   "cell_type": "markdown",
   "id": "68294df4",
   "metadata": {},
   "source": [
    "####  4. monthly Sales Trend "
   ]
  },
  {
   "cell_type": "code",
   "execution_count": null,
   "id": "4c29f529",
   "metadata": {},
   "outputs": [
    {
     "data": {
      "image/png": "[encoded data removed]",
      "text/plain": [
       "<Figure size 1400x600 with 1 Axes>"
      ]
     },
     "metadata": {},
     "output_type": "display_data"
    }
   ],
   "source": [
    "# 4. monthly Sales Trend\n",
    "x_sales = df.groupby('month')['total_price'].sum().reset_index()\n",
    "x_sales['month'] = x_sales['month'].astype(str)\n",
    "\n",
    "plt.figure(figsize=(14, 6))\n",
    "sns.lineplot(data=x_sales, x='month', y='total_price', marker='o')\n",
    "plt.title('monthly Sales Trend', fontsize=16)\n",
    "plt.xlabel('month', fontsize=8)\n",
    "plt.ylabel('Total Sales ($)', fontsize=12)\n",
    "plt.xticks(rotation=90)\n",
    "plt.grid(True, alpha=0.3)\n",
    "plt.tight_layout()\n",
    "plt.show()"
   ]
  },
  {
   "cell_type": "markdown",
   "id": "5687f015",
   "metadata": {},
   "source": [
    "<div style=\"background-color:#2596be; border-left:6px solid #2196F3; padding:10px;\">\n",
    "  <strong style = \"color:black\">Note:</strong>\n",
    "   <div style = \"color:black\">  📌this has no pattern. </div>\n",
    "   <div style = \"color:black\">  📌feb has low sales because less days in feb </div>\n",
    "   <div style = \"color:black\">  📌if month has less days sales are low, it make sence  </div>\n",
    "</div>"
   ]
  },
  {
   "cell_type": "markdown",
   "id": "6d7975ac",
   "metadata": {},
   "source": [
    "#### 5. weekly Sales Trend"
   ]
  },
  {
   "cell_type": "code",
   "execution_count": 318,
   "id": "468bff62",
   "metadata": {},
   "outputs": [
    {
     "data": {
      "image/png": "[encoded data removed]",
      "text/plain": [
       "<Figure size 1400x600 with 1 Axes>"
      ]
     },
     "metadata": {},
     "output_type": "display_data"
    }
   ],
   "source": [
    "# 5. week Sales Trend\n",
    "x_sales = df.groupby('week')['total_price'].sum().reset_index()\n",
    "x_sales['week'] = x_sales['week'].astype(str)\n",
    "\n",
    "plt.figure(figsize=(14, 6))\n",
    "sns.lineplot(data=x_sales, x='week', y='total_price', marker='o')\n",
    "plt.title('weekly Sales Trend', fontsize=16)\n",
    "plt.xlabel('week', fontsize=8)\n",
    "plt.ylabel('Total Sales ($)', fontsize=12)\n",
    "plt.xticks(rotation=90)\n",
    "plt.grid(True, alpha=0.3)\n",
    "plt.tight_layout()\n",
    "plt.show()"
   ]
  },
  {
   "cell_type": "markdown",
   "id": "6b1fba26",
   "metadata": {},
   "source": [
    "<div style=\"background-color:#2596be; border-left:6px solid #2196F3; padding:10px;\">\n",
    "  <strong style = \"color:black\">Note:</strong>\n",
    "   <div style = \"color:black\">  📌4th week has a big sale improvement. </div>\n",
    "   <div style = \"color:black\">  📌because most of people get paid in end of the month  </div>\n",
    "</div>"
   ]
  },
  {
   "cell_type": "markdown",
   "id": "b25299a7",
   "metadata": {},
   "source": [
    "#### 6. daily Sales Trend"
   ]
  },
  {
   "cell_type": "code",
   "execution_count": null,
   "id": "b247b952",
   "metadata": {},
   "outputs": [
    {
     "data": {
      "image/png": "[encoded data removed]",
      "text/plain": [
       "<Figure size 1400x600 with 1 Axes>"
      ]
     },
     "metadata": {},
     "output_type": "display_data"
    }
   ],
   "source": [
    "# 6. daily Sales Trend\n",
    "x_sales = df.groupby('day')['total_price'].sum().reset_index()\n",
    "x_sales['day'] = x_sales['day'].astype(str)\n",
    "\n",
    "plt.figure(figsize=(14, 6))\n",
    "sns.lineplot(data=x_sales, x='day', y='total_price', marker='o')\n",
    "plt.title('daily Sales Trend', fontsize=16)\n",
    "plt.xlabel('day', fontsize=8)\n",
    "plt.ylabel('Total Sales ($)', fontsize=12)\n",
    "plt.xticks(rotation=90)\n",
    "plt.grid(True, alpha=0.3)\n",
    "plt.tight_layout()\n",
    "plt.show()"
   ]
  },
  {
   "cell_type": "markdown",
   "id": "ff219fe6",
   "metadata": {},
   "source": [
    "<div style=\"background-color:#2596be; border-left:6px solid #2196F3; padding:10px;\">\n",
    "  <strong style = \"color:black\">Note:</strong>\n",
    "   <div style = \"color:black\">  📌no pattern. </div>\n",
    "   <div style = \"color:black\">  📌31 is low because month has less 31 </div>\n",
    "</div>"
   ]
  },
  {
   "cell_type": "markdown",
   "id": "8a333ac7",
   "metadata": {},
   "source": [
    "#### 7. hourly Sales Trend"
   ]
  },
  {
   "cell_type": "code",
   "execution_count": null,
   "id": "dae763c3",
   "metadata": {},
   "outputs": [
    {
     "data": {
      "image/png": "[encoded data removed]",
      "text/plain": [
       "<Figure size 1400x600 with 1 Axes>"
      ]
     },
     "metadata": {},
     "output_type": "display_data"
    }
   ],
   "source": [
    "# 7. hourly Sales Trend\n",
    "x_sales = df.groupby('hour')['total_price'].sum().reset_index()\n",
    "x_sales['hour'] = x_sales['hour'].astype(str)\n",
    "\n",
    "plt.figure(figsize=(14, 6))\n",
    "sns.lineplot(data=x_sales, x='hour', y='total_price', marker='o')\n",
    "plt.title('hourly Sales Trend', fontsize=16)\n",
    "plt.xlabel('hour', fontsize=8)\n",
    "plt.ylabel('Total Sales ($)', fontsize=12)\n",
    "plt.xticks(rotation=90)\n",
    "plt.grid(True, alpha=0.3)\n",
    "plt.tight_layout()\n",
    "plt.show()"
   ]
  },
  {
   "cell_type": "markdown",
   "id": "7fa6bdac",
   "metadata": {},
   "source": [
    "### <span style=\"color:#0076cd; font-weight:bold\">2. Locations wise Sales Trends analisis</span>"
   ]
  },
  {
   "cell_type": "markdown",
   "id": "7af7988f",
   "metadata": {},
   "source": [
    "#### 1. Sales by made country"
   ]
  },
  {
   "cell_type": "code",
   "execution_count": 334,
   "id": "d6849d80",
   "metadata": {},
   "outputs": [
    {
     "data": {
      "image/png": "[encoded data removed]",
      "text/plain": [
       "<Figure size 1200x600 with 1 Axes>"
      ]
     },
     "metadata": {},
     "output_type": "display_data"
    }
   ],
   "source": [
    "# 1. Sales by man_country\n",
    "y_lbl = \"man_country\"\n",
    "x_lbl = \"total_price\"\n",
    "\n",
    "category_sales = df.groupby(y_lbl)[x_lbl].sum().sort_values(ascending=False).reset_index()\n",
    "\n",
    "plt.figure(figsize=(12, 6))\n",
    "sns.barplot(data=category_sales, \n",
    "            x= x_lbl , \n",
    "            y= y_lbl,\n",
    "            hue= y_lbl,\n",
    "            palette='rocket')\n",
    "plt.title('Sales by man_country', fontsize=16)\n",
    "plt.xlabel(f'{x_lbl}', fontsize=12)\n",
    "plt.ylabel(f'{y_lbl}', fontsize=12)\n",
    "plt.tight_layout()\n",
    "plt.show()"
   ]
  },
  {
   "cell_type": "markdown",
   "id": "e26e756e",
   "metadata": {},
   "source": [
    "#### 2. Sales by store location (division) "
   ]
  },
  {
   "cell_type": "code",
   "execution_count": 335,
   "id": "29d51bfe",
   "metadata": {},
   "outputs": [
    {
     "data": {
      "image/png": "[encoded data removed]",
      "text/plain": [
       "<Figure size 1200x600 with 1 Axes>"
      ]
     },
     "metadata": {},
     "output_type": "display_data"
    }
   ],
   "source": [
    "# 2. Sales by store location (division) \n",
    "y_lbl = \"division\"\n",
    "x_lbl = \"total_price\"\n",
    "\n",
    "category_sales = df.groupby(y_lbl)[x_lbl].sum().sort_values(ascending=False).reset_index()\n",
    "\n",
    "plt.figure(figsize=(12, 6))\n",
    "sns.barplot(data=category_sales, \n",
    "            x= x_lbl , \n",
    "            y= y_lbl,\n",
    "            hue= y_lbl,\n",
    "            palette='rocket')\n",
    "plt.title('Sales by store location (division)', fontsize=16)\n",
    "plt.xlabel(f'{x_lbl}', fontsize=12)\n",
    "plt.ylabel(f'{y_lbl}', fontsize=12)\n",
    "plt.tight_layout()\n",
    "plt.show()"
   ]
  },
  {
   "cell_type": "code",
   "execution_count": 336,
   "id": "d96f02b7",
   "metadata": {},
   "outputs": [
    {
     "data": {
      "application/vnd.plotly.v1+json": {
       "config": {
        "plotlyServerURL": "https://plot.ly"
       },
       "data": [
        {
         "branchvalues": "total",
         "customdata": {
          "bdata": "AAAAAGKFKkEAAADgqhpGQQAAAIDb4y5BAAAAgG5rIUEAAAAAdZYxQQAAAABuFC9BAAAAgEFgLkEAAABAakQ0QQAAAMD8mDFBAAAAYA7SW0EAAAAgmXJBQQAAAMAgITJBAAAAAAPgKUEAAACA+bkxQQAAAIBqRiZBAAAAwOIoNEEAAADAYz82QQAAAFAjgXZBAAAAwNekM0EAAACA3AomQQAAAIBhUSZBAAAAAMDQLkEAAACA4+s8QQAAAAB1WyJBAAAAAKR0LkEAAACAjnIqQQAAAIAuxDxBAAAAANViJkEAAACA0QgrQQAAAAAmHzZBAAAAABJ5JkEAAACAGxwqQQAAAAAgZCZBAAAAQDoUO0EAAAAAA/QzQQAAAICLNSFBAAAAgC5IMUEAAACAzowqQQAAAOBBI09BAAAAAJGWKkEAAACADqAhQQAAAABMqBpBAAAAAOvlGkEAAACAdW4vQQAAAMDkMDpBAAAAAO+QJkEAAAAAJXEmQQAAAEDb4TdBAAAAAFCpLkEAAADAZqEzQQAAAEDTqExBAAAAwPzCM0EAAADAnYw8QQAAAICrbS5BAAAAAJlANEEAAAAAxlkmQQAAAIBtVCpBAAAAgBJ8JkEAAADAjuQxQQAAAICcRiZBAAAAAM6bMUEAAAAAkqMvQQAAAACuUThBAAAAQOVcOkEGqaUwkho6QVjP6XjuK0tBsFEfBP8Na0FXuPLQYWE/QXt8WJC2cj9BFxnv9DoUMkElDTjNyfQ1QQ==",
          "dtype": "f8",
          "shape": "71, 1"
         },
         "domain": {
          "x": [
           0,
           1
          ],
          "y": [
           0,
           1
          ]
         },
         "hovertemplate": "labels=%{label}<br>total_price_sum=%{value}<br>parent=%{parent}<br>id=%{id}<br>total_price=%{color}<extra></extra>",
         "ids": [
          "BARISAL/BARGUNA",
          "BARISAL/BARISAL",
          "BARISAL/BHOLA",
          "BARISAL/JHALOKATI",
          "BARISAL/PATUAKHALI",
          "BARISAL/PIROJPUR",
          "CHITTAGONG/BANDARBAN",
          "CHITTAGONG/BRAHMANBARIA",
          "CHITTAGONG/CHANDPUR",
          "CHITTAGONG/CHITTAGONG",
          "CHITTAGONG/COMILLA",
          "CHITTAGONG/COX'S BAZAR",
          "CHITTAGONG/FENI",
          "CHITTAGONG/KHAGRACHHARI",
          "CHITTAGONG/LAKSHMIPUR",
          "CHITTAGONG/NOAKHALI",
          "CHITTAGONG/RANGAMATI",
          "DHAKA/DHAKA",
          "DHAKA/FARIDPUR",
          "DHAKA/GAZIPUR",
          "DHAKA/GOPALGANJ",
          "DHAKA/JAMALPUR",
          "DHAKA/KISHOREGONJ",
          "DHAKA/MADARIPUR",
          "DHAKA/MANIKGANJ",
          "DHAKA/MUNSHIGANJ",
          "DHAKA/MYMENSINGH",
          "DHAKA/NARAYANGANJ",
          "DHAKA/NARSINGDI",
          "DHAKA/NETRAKONA",
          "DHAKA/RAJBARI",
          "DHAKA/SHARIATPUR",
          "DHAKA/SHERPUR",
          "DHAKA/TANGAIL",
          "KHULNA/BAGERHAT",
          "KHULNA/CHUADANGA",
          "KHULNA/JESSORE",
          "KHULNA/JHENAIDAH",
          "KHULNA/KHULNA",
          "KHULNA/KUSHTIA",
          "KHULNA/MAGURA",
          "KHULNA/MEHERPUR",
          "KHULNA/NARAIL",
          "KHULNA/SATKHIRA",
          "RAJSHAHI/BOGRA",
          "RAJSHAHI/CHAPAI NABABGANJ",
          "RAJSHAHI/JOYPURHAT",
          "RAJSHAHI/NAOGAON",
          "RAJSHAHI/NATORE",
          "RAJSHAHI/PABNA",
          "RAJSHAHI/RAJSHAHI",
          "RAJSHAHI/SIRAJGANJ",
          "RANGPUR/DINAJPUR",
          "RANGPUR/GAIBANDHA",
          "RANGPUR/KURIGRAM",
          "RANGPUR/LALMONIRHAT",
          "RANGPUR/NILPHAMARI",
          "RANGPUR/PANCHAGARH",
          "RANGPUR/RANGPUR",
          "RANGPUR/THAKURGAON",
          "SYLHET/HABIGANJ",
          "SYLHET/MAULVIBAZAR",
          "SYLHET/SUNAMGANJ",
          "SYLHET/SYLHET",
          "BARISAL",
          "CHITTAGONG",
          "DHAKA",
          "KHULNA",
          "RAJSHAHI",
          "RANGPUR",
          "SYLHET"
         ],
         "labels": [
          "BARGUNA",
          "BARISAL",
          "BHOLA",
          "JHALOKATI",
          "PATUAKHALI",
          "PIROJPUR",
          "BANDARBAN",
          "BRAHMANBARIA",
          "CHANDPUR",
          "CHITTAGONG",
          "COMILLA",
          "COX'S BAZAR",
          "FENI",
          "KHAGRACHHARI",
          "LAKSHMIPUR",
          "NOAKHALI",
          "RANGAMATI",
          "DHAKA",
          "FARIDPUR",
          "GAZIPUR",
          "GOPALGANJ",
          "JAMALPUR",
          "KISHOREGONJ",
          "MADARIPUR",
          "MANIKGANJ",
          "MUNSHIGANJ",
          "MYMENSINGH",
          "NARAYANGANJ",
          "NARSINGDI",
          "NETRAKONA",
          "RAJBARI",
          "SHARIATPUR",
          "SHERPUR",
          "TANGAIL",
          "BAGERHAT",
          "CHUADANGA",
          "JESSORE",
          "JHENAIDAH",
          "KHULNA",
          "KUSHTIA",
          "MAGURA",
          "MEHERPUR",
          "NARAIL",
          "SATKHIRA",
          "BOGRA",
          "CHAPAI NABABGANJ",
          "JOYPURHAT",
          "NAOGAON",
          "NATORE",
          "PABNA",
          "RAJSHAHI",
          "SIRAJGANJ",
          "DINAJPUR",
          "GAIBANDHA",
          "KURIGRAM",
          "LALMONIRHAT",
          "NILPHAMARI",
          "PANCHAGARH",
          "RANGPUR",
          "THAKURGAON",
          "HABIGANJ",
          "MAULVIBAZAR",
          "SUNAMGANJ",
          "SYLHET",
          "BARISAL",
          "CHITTAGONG",
          "DHAKA",
          "KHULNA",
          "RAJSHAHI",
          "RANGPUR",
          "SYLHET"
         ],
         "marker": {
          "coloraxis": "coloraxis",
          "colors": {
           "bdata": "AAAAAGKFKkEAAADgqhpGQQAAAIDb4y5BAAAAgG5rIUEAAAAAdZYxQQAAAABuFC9BAAAAgEFgLkEAAABAakQ0QQAAAMD8mDFBAAAAYA7SW0EAAAAgmXJBQQAAAMAgITJBAAAAAAPgKUEAAACA+bkxQQAAAIBqRiZBAAAAwOIoNEEAAADAYz82QQAAAFAjgXZBAAAAwNekM0EAAACA3AomQQAAAIBhUSZBAAAAAMDQLkEAAACA4+s8QQAAAAB1WyJBAAAAAKR0LkEAAACAjnIqQQAAAIAuxDxBAAAAANViJkEAAACA0QgrQQAAAAAmHzZBAAAAABJ5JkEAAACAGxwqQQAAAAAgZCZBAAAAQDoUO0EAAAAAA/QzQQAAAICLNSFBAAAAgC5IMUEAAACAzowqQQAAAOBBI09BAAAAAJGWKkEAAACADqAhQQAAAABMqBpBAAAAAOvlGkEAAACAdW4vQQAAAMDkMDpBAAAAAO+QJkEAAAAAJXEmQQAAAEDb4TdBAAAAAFCpLkEAAADAZqEzQQAAAEDTqExBAAAAwPzCM0EAAADAnYw8QQAAAICrbS5BAAAAAJlANEEAAAAAxlkmQQAAAIBtVCpBAAAAgBJ8JkEAAADAjuQxQQAAAICcRiZBAAAAAM6bMUEAAAAAkqMvQQAAAACuUThBAAAAQOVcOkEGqaUwkho6QVjP6XjuK0tBsFEfBP8Na0FXuPLQYWE/QXt8WJC2cj9BFxnv9DoUMkElDTjNyfQ1QQ==",
           "dtype": "f8"
          }
         },
         "name": "",
         "parents": [
          "BARISAL",
          "BARISAL",
          "BARISAL",
          "BARISAL",
          "BARISAL",
          "BARISAL",
          "CHITTAGONG",
          "CHITTAGONG",
          "CHITTAGONG",
          "CHITTAGONG",
          "CHITTAGONG",
          "CHITTAGONG",
          "CHITTAGONG",
          "CHITTAGONG",
          "CHITTAGONG",
          "CHITTAGONG",
          "CHITTAGONG",
          "DHAKA",
          "DHAKA",
          "DHAKA",
          "DHAKA",
          "DHAKA",
          "DHAKA",
          "DHAKA",
          "DHAKA",
          "DHAKA",
          "DHAKA",
          "DHAKA",
          "DHAKA",
          "DHAKA",
          "DHAKA",
          "DHAKA",
          "DHAKA",
          "DHAKA",
          "KHULNA",
          "KHULNA",
          "KHULNA",
          "KHULNA",
          "KHULNA",
          "KHULNA",
          "KHULNA",
          "KHULNA",
          "KHULNA",
          "KHULNA",
          "RAJSHAHI",
          "RAJSHAHI",
          "RAJSHAHI",
          "RAJSHAHI",
          "RAJSHAHI",
          "RAJSHAHI",
          "RAJSHAHI",
          "RAJSHAHI",
          "RANGPUR",
          "RANGPUR",
          "RANGPUR",
          "RANGPUR",
          "RANGPUR",
          "RANGPUR",
          "RANGPUR",
          "RANGPUR",
          "SYLHET",
          "SYLHET",
          "SYLHET",
          "SYLHET",
          "",
          "",
          "",
          "",
          "",
          "",
          ""
         ],
         "textinfo": "label+value+percent parent",
         "type": "treemap",
         "values": {
          "bdata": "AAAAAGKFKkEAAADgqhpGQQAAAIDb4y5BAAAAgG5rIUEAAAAAdZYxQQAAAABuFC9BAAAAgEFgLkEAAABAakQ0QQAAAMD8mDFBAAAAYA7SW0EAAAAgmXJBQQAAAMAgITJBAAAAAAPgKUEAAACA+bkxQQAAAIBqRiZBAAAAwOIoNEEAAADAYz82QQAAAFAjgXZBAAAAwNekM0EAAACA3AomQQAAAIBhUSZBAAAAAMDQLkEAAACA4+s8QQAAAAB1WyJBAAAAAKR0LkEAAACAjnIqQQAAAIAuxDxBAAAAANViJkEAAACA0QgrQQAAAAAmHzZBAAAAABJ5JkEAAACAGxwqQQAAAAAgZCZBAAAAQDoUO0EAAAAAA/QzQQAAAICLNSFBAAAAgC5IMUEAAACAzowqQQAAAOBBI09BAAAAAJGWKkEAAACADqAhQQAAAABMqBpBAAAAAOvlGkEAAACAdW4vQQAAAMDkMDpBAAAAAO+QJkEAAAAAJXEmQQAAAEDb4TdBAAAAAFCpLkEAAADAZqEzQQAAAEDTqExBAAAAwPzCM0EAAADAnYw8QQAAAICrbS5BAAAAAJlANEEAAAAAxlkmQQAAAIBtVCpBAAAAgBJ8JkEAAADAjuQxQQAAAICcRiZBAAAAAM6bMUEAAAAAkqMvQQAAAACuUThBAAAAQOVcOkEAAADwFbBcQQAAALAY2XJBAAAAXiZwg0EAAABQP5NlQQAAAIDPE2dBAAAAkCEUYEEAAACQCgdVQQ==",
          "dtype": "f8"
         }
        }
       ],
       "layout": {
        "coloraxis": {
         "colorbar": {
          "title": {
           "text": "total_price"
          }
         },
         "colorscale": [
          [
           0,
           "rgb(0, 147, 146)"
          ],
          [
           0.16666666666666666,
           "rgb(114, 170, 161)"
          ],
          [
           0.3333333333333333,
           "rgb(177, 199, 179)"
          ],
          [
           0.5,
           "rgb(241, 234, 200)"
          ],
          [
           0.6666666666666666,
           "rgb(229, 185, 173)"
          ],
          [
           0.8333333333333334,
           "rgb(217, 137, 148)"
          ],
          [
           1,
           "rgb(208, 88, 126)"
          ]
         ]
        },
        "legend": {
         "tracegroupgap": 0
        },
        "template": {
         "data": {
          "bar": [
           {
            "error_x": {
             "color": "#2a3f5f"
            },
            "error_y": {
             "color": "#2a3f5f"
            },
            "marker": {
             "line": {
              "color": "#E5ECF6",
              "width": 0.5
             },
             "pattern": {
              "fillmode": "overlay",
              "size": 10,
              "solidity": 0.2
             }
            },
            "type": "bar"
           }
          ],
          "barpolar": [
           {
            "marker": {
             "line": {
              "color": "#E5ECF6",
              "width": 0.5
             },
             "pattern": {
              "fillmode": "overlay",
              "size": 10,
              "solidity": 0.2
             }
            },
            "type": "barpolar"
           }
          ],
          "carpet": [
           {
            "aaxis": {
             "endlinecolor": "#2a3f5f",
             "gridcolor": "white",
             "linecolor": "white",
             "minorgridcolor": "white",
             "startlinecolor": "#2a3f5f"
            },
            "baxis": {
             "endlinecolor": "#2a3f5f",
             "gridcolor": "white",
             "linecolor": "white",
             "minorgridcolor": "white",
             "startlinecolor": "#2a3f5f"
            },
            "type": "carpet"
           }
          ],
          "choropleth": [
           {
            "colorbar": {
             "outlinewidth": 0,
             "ticks": ""
            },
            "type": "choropleth"
           }
          ],
          "contour": [
           {
            "colorbar": {
             "outlinewidth": 0,
             "ticks": ""
            },
            "colorscale": [
             [
              0,
              "#0d0887"
             ],
             [
              0.1111111111111111,
              "#46039f"
             ],
             [
              0.2222222222222222,
              "#7201a8"
             ],
             [
              0.3333333333333333,
              "#9c179e"
             ],
             [
              0.4444444444444444,
              "#bd3786"
             ],
             [
              0.5555555555555556,
              "#d8576b"
             ],
             [
              0.6666666666666666,
              "#ed7953"
             ],
             [
              0.7777777777777778,
              "#fb9f3a"
             ],
             [
              0.8888888888888888,
              "#fdca26"
             ],
             [
              1,
              "#f0f921"
             ]
            ],
            "type": "contour"
           }
          ],
          "contourcarpet": [
           {
            "colorbar": {
             "outlinewidth": 0,
             "ticks": ""
            },
            "type": "contourcarpet"
           }
          ],
          "heatmap": [
           {
            "colorbar": {
             "outlinewidth": 0,
             "ticks": ""
            },
            "colorscale": [
             [
              0,
              "#0d0887"
             ],
             [
              0.1111111111111111,
              "#46039f"
             ],
             [
              0.2222222222222222,
              "#7201a8"
             ],
             [
              0.3333333333333333,
              "#9c179e"
             ],
             [
              0.4444444444444444,
              "#bd3786"
             ],
             [
              0.5555555555555556,
              "#d8576b"
             ],
             [
              0.6666666666666666,
              "#ed7953"
             ],
             [
              0.7777777777777778,
              "#fb9f3a"
             ],
             [
              0.8888888888888888,
              "#fdca26"
             ],
             [
              1,
              "#f0f921"
             ]
            ],
            "type": "heatmap"
           }
          ],
          "histogram": [
           {
            "marker": {
             "pattern": {
              "fillmode": "overlay",
              "size": 10,
              "solidity": 0.2
             }
            },
            "type": "histogram"
           }
          ],
          "histogram2d": [
           {
            "colorbar": {
             "outlinewidth": 0,
             "ticks": ""
            },
            "colorscale": [
             [
              0,
              "#0d0887"
             ],
             [
              0.1111111111111111,
              "#46039f"
             ],
             [
              0.2222222222222222,
              "#7201a8"
             ],
             [
              0.3333333333333333,
              "#9c179e"
             ],
             [
              0.4444444444444444,
              "#bd3786"
             ],
             [
              0.5555555555555556,
              "#d8576b"
             ],
             [
              0.6666666666666666,
              "#ed7953"
             ],
             [
              0.7777777777777778,
              "#fb9f3a"
             ],
             [
              0.8888888888888888,
              "#fdca26"
             ],
             [
              1,
              "#f0f921"
             ]
            ],
            "type": "histogram2d"
           }
          ],
          "histogram2dcontour": [
           {
            "colorbar": {
             "outlinewidth": 0,
             "ticks": ""
            },
            "colorscale": [
             [
              0,
              "#0d0887"
             ],
             [
              0.1111111111111111,
              "#46039f"
             ],
             [
              0.2222222222222222,
              "#7201a8"
             ],
             [
              0.3333333333333333,
              "#9c179e"
             ],
             [
              0.4444444444444444,
              "#bd3786"
             ],
             [
              0.5555555555555556,
              "#d8576b"
             ],
             [
              0.6666666666666666,
              "#ed7953"
             ],
             [
              0.7777777777777778,
              "#fb9f3a"
             ],
             [
              0.8888888888888888,
              "#fdca26"
             ],
             [
              1,
              "#f0f921"
             ]
            ],
            "type": "histogram2dcontour"
           }
          ],
          "mesh3d": [
           {
            "colorbar": {
             "outlinewidth": 0,
             "ticks": ""
            },
            "type": "mesh3d"
           }
          ],
          "parcoords": [
           {
            "line": {
             "colorbar": {
              "outlinewidth": 0,
              "ticks": ""
             }
            },
            "type": "parcoords"
           }
          ],
          "pie": [
           {
            "automargin": true,
            "type": "pie"
           }
          ],
          "scatter": [
           {
            "fillpattern": {
             "fillmode": "overlay",
             "size": 10,
             "solidity": 0.2
            },
            "type": "scatter"
           }
          ],
          "scatter3d": [
           {
            "line": {
             "colorbar": {
              "outlinewidth": 0,
              "ticks": ""
             }
            },
            "marker": {
             "colorbar": {
              "outlinewidth": 0,
              "ticks": ""
             }
            },
            "type": "scatter3d"
           }
          ],
          "scattercarpet": [
           {
            "marker": {
             "colorbar": {
              "outlinewidth": 0,
              "ticks": ""
             }
            },
            "type": "scattercarpet"
           }
          ],
          "scattergeo": [
           {
            "marker": {
             "colorbar": {
              "outlinewidth": 0,
              "ticks": ""
             }
            },
            "type": "scattergeo"
           }
          ],
          "scattergl": [
           {
            "marker": {
             "colorbar": {
              "outlinewidth": 0,
              "ticks": ""
             }
            },
            "type": "scattergl"
           }
          ],
          "scattermap": [
           {
            "marker": {
             "colorbar": {
              "outlinewidth": 0,
              "ticks": ""
             }
            },
            "type": "scattermap"
           }
          ],
          "scattermapbox": [
           {
            "marker": {
             "colorbar": {
              "outlinewidth": 0,
              "ticks": ""
             }
            },
            "type": "scattermapbox"
           }
          ],
          "scatterpolar": [
           {
            "marker": {
             "colorbar": {
              "outlinewidth": 0,
              "ticks": ""
             }
            },
            "type": "scatterpolar"
           }
          ],
          "scatterpolargl": [
           {
            "marker": {
             "colorbar": {
              "outlinewidth": 0,
              "ticks": ""
             }
            },
            "type": "scatterpolargl"
           }
          ],
          "scatterternary": [
           {
            "marker": {
             "colorbar": {
              "outlinewidth": 0,
              "ticks": ""
             }
            },
            "type": "scatterternary"
           }
          ],
          "surface": [
           {
            "colorbar": {
             "outlinewidth": 0,
             "ticks": ""
            },
            "colorscale": [
             [
              0,
              "#0d0887"
             ],
             [
              0.1111111111111111,
              "#46039f"
             ],
             [
              0.2222222222222222,
              "#7201a8"
             ],
             [
              0.3333333333333333,
              "#9c179e"
             ],
             [
              0.4444444444444444,
              "#bd3786"
             ],
             [
              0.5555555555555556,
              "#d8576b"
             ],
             [
              0.6666666666666666,
              "#ed7953"
             ],
             [
              0.7777777777777778,
              "#fb9f3a"
             ],
             [
              0.8888888888888888,
              "#fdca26"
             ],
             [
              1,
              "#f0f921"
             ]
            ],
            "type": "surface"
           }
          ],
          "table": [
           {
            "cells": {
             "fill": {
              "color": "#EBF0F8"
             },
             "line": {
              "color": "white"
             }
            },
            "header": {
             "fill": {
              "color": "#C8D4E3"
             },
             "line": {
              "color": "white"
             }
            },
            "type": "table"
           }
          ]
         },
         "layout": {
          "annotationdefaults": {
           "arrowcolor": "#2a3f5f",
           "arrowhead": 0,
           "arrowwidth": 1
          },
          "autotypenumbers": "strict",
          "coloraxis": {
           "colorbar": {
            "outlinewidth": 0,
            "ticks": ""
           }
          },
          "colorscale": {
           "diverging": [
            [
             0,
             "#8e0152"
            ],
            [
             0.1,
             "#c51b7d"
            ],
            [
             0.2,
             "#de77ae"
            ],
            [
             0.3,
             "#f1b6da"
            ],
            [
             0.4,
             "#fde0ef"
            ],
            [
             0.5,
             "#f7f7f7"
            ],
            [
             0.6,
             "#e6f5d0"
            ],
            [
             0.7,
             "#b8e186"
            ],
            [
             0.8,
             "#7fbc41"
            ],
            [
             0.9,
             "#4d9221"
            ],
            [
             1,
             "#276419"
            ]
           ],
           "sequential": [
            [
             0,
             "#0d0887"
            ],
            [
             0.1111111111111111,
             "#46039f"
            ],
            [
             0.2222222222222222,
             "#7201a8"
            ],
            [
             0.3333333333333333,
             "#9c179e"
            ],
            [
             0.4444444444444444,
             "#bd3786"
            ],
            [
             0.5555555555555556,
             "#d8576b"
            ],
            [
             0.6666666666666666,
             "#ed7953"
            ],
            [
             0.7777777777777778,
             "#fb9f3a"
            ],
            [
             0.8888888888888888,
             "#fdca26"
            ],
            [
             1,
             "#f0f921"
            ]
           ],
           "sequentialminus": [
            [
             0,
             "#0d0887"
            ],
            [
             0.1111111111111111,
             "#46039f"
            ],
            [
             0.2222222222222222,
             "#7201a8"
            ],
            [
             0.3333333333333333,
             "#9c179e"
            ],
            [
             0.4444444444444444,
             "#bd3786"
            ],
            [
             0.5555555555555556,
             "#d8576b"
            ],
            [
             0.6666666666666666,
             "#ed7953"
            ],
            [
             0.7777777777777778,
             "#fb9f3a"
            ],
            [
             0.8888888888888888,
             "#fdca26"
            ],
            [
             1,
             "#f0f921"
            ]
           ]
          },
          "colorway": [
           "#636efa",
           "#EF553B",
           "#00cc96",
           "#ab63fa",
           "#FFA15A",
           "#19d3f3",
           "#FF6692",
           "#B6E880",
           "#FF97FF",
           "#FECB52"
          ],
          "font": {
           "color": "#2a3f5f"
          },
          "geo": {
           "bgcolor": "white",
           "lakecolor": "white",
           "landcolor": "#E5ECF6",
           "showlakes": true,
           "showland": true,
           "subunitcolor": "white"
          },
          "hoverlabel": {
           "align": "left"
          },
          "hovermode": "closest",
          "mapbox": {
           "style": "light"
          },
          "paper_bgcolor": "white",
          "plot_bgcolor": "#E5ECF6",
          "polar": {
           "angularaxis": {
            "gridcolor": "white",
            "linecolor": "white",
            "ticks": ""
           },
           "bgcolor": "#E5ECF6",
           "radialaxis": {
            "gridcolor": "white",
            "linecolor": "white",
            "ticks": ""
           }
          },
          "scene": {
           "xaxis": {
            "backgroundcolor": "#E5ECF6",
            "gridcolor": "white",
            "gridwidth": 2,
            "linecolor": "white",
            "showbackground": true,
            "ticks": "",
            "zerolinecolor": "white"
           },
           "yaxis": {
            "backgroundcolor": "#E5ECF6",
            "gridcolor": "white",
            "gridwidth": 2,
            "linecolor": "white",
            "showbackground": true,
            "ticks": "",
            "zerolinecolor": "white"
           },
           "zaxis": {
            "backgroundcolor": "#E5ECF6",
            "gridcolor": "white",
            "gridwidth": 2,
            "linecolor": "white",
            "showbackground": true,
            "ticks": "",
            "zerolinecolor": "white"
           }
          },
          "shapedefaults": {
           "line": {
            "color": "#2a3f5f"
           }
          },
          "ternary": {
           "aaxis": {
            "gridcolor": "white",
            "linecolor": "white",
            "ticks": ""
           },
           "baxis": {
            "gridcolor": "white",
            "linecolor": "white",
            "ticks": ""
           },
           "bgcolor": "#E5ECF6",
           "caxis": {
            "gridcolor": "white",
            "linecolor": "white",
            "ticks": ""
           }
          },
          "title": {
           "x": 0.05
          },
          "xaxis": {
           "automargin": true,
           "gridcolor": "white",
           "linecolor": "white",
           "ticks": "",
           "title": {
            "standoff": 15
           },
           "zerolinecolor": "white",
           "zerolinewidth": 2
          },
          "yaxis": {
           "automargin": true,
           "gridcolor": "white",
           "linecolor": "white",
           "ticks": "",
           "title": {
            "standoff": 15
           },
           "zerolinecolor": "white",
           "zerolinewidth": 2
          }
         }
        },
        "title": {
         "text": "Sales Distribution by division > District "
        }
       }
      }
     },
     "metadata": {},
     "output_type": "display_data"
    }
   ],
   "source": [
    "# Create aggregated data\n",
    "hierarchy_data = df.groupby(['division', 'district'])['total_price'].sum().reset_index()\n",
    "\n",
    "fig = px.treemap(\n",
    "    hierarchy_data,\n",
    "    path=['division', 'district'],\n",
    "    values='total_price',\n",
    "    title='Sales Distribution by division > District ',\n",
    "    color='total_price',\n",
    "    color_continuous_scale='Tealrose'\n",
    ")\n",
    "fig.update_traces(textinfo=\"label+value+percent parent\")\n",
    "fig.show()"
   ]
  },
  {
   "cell_type": "markdown",
   "id": "928c418c",
   "metadata": {},
   "source": [
    "### <span style=\"color:#0076cd; font-weight:bold\">2. product wise Sales Trends analisis</span>"
   ]
  },
  {
   "cell_type": "markdown",
   "id": "b85305c0",
   "metadata": {},
   "source": [
    "#### 2. Sales by item_name"
   ]
  },
  {
   "cell_type": "code",
   "execution_count": 337,
   "id": "6b0c8ca5",
   "metadata": {},
   "outputs": [
    {
     "name": "stderr",
     "output_type": "stream",
     "text": [
      "C:\\Users\\SINGER\\AppData\\Local\\Temp\\ipykernel_8384\\4070397001.py:15: UserWarning:\n",
      "\n",
      "Glyph 150 (\\x96) missing from current font.\n",
      "\n",
      "C:\\Users\\SINGER\\AppData\\Roaming\\Python\\Python311\\site-packages\\IPython\\core\\pylabtools.py:152: UserWarning:\n",
      "\n",
      "Glyph 150 (\\x96) missing from current font.\n",
      "\n"
     ]
    },
    {
     "data": {
      "image/png": "[encoded data removed]",
      "text/plain": [
       "<Figure size 1200x600 with 1 Axes>"
      ]
     },
     "metadata": {},
     "output_type": "display_data"
    }
   ],
   "source": [
    "y_lbl = \"item_name\"\n",
    "x_lbl = \"total_price\"\n",
    "\n",
    "category_sales = df.groupby(y_lbl)[x_lbl].sum().sort_values(ascending=False).nlargest(10).reset_index()\n",
    "\n",
    "plt.figure(figsize=(12, 6))\n",
    "sns.barplot(data=category_sales, \n",
    "            x= x_lbl , \n",
    "            y= y_lbl,\n",
    "            hue= y_lbl,\n",
    "            palette='rocket')\n",
    "plt.title('Sales by item_name', fontsize=16)\n",
    "plt.xlabel(f'{x_lbl}', fontsize=12)\n",
    "plt.ylabel(f'{y_lbl}', fontsize=12)\n",
    "plt.tight_layout()\n",
    "plt.show()"
   ]
  },
  {
   "cell_type": "markdown",
   "id": "09e013d9",
   "metadata": {},
   "source": [
    "#### 2. Sales by Category"
   ]
  },
  {
   "cell_type": "code",
   "execution_count": null,
   "id": "c70b2e8c",
   "metadata": {},
   "outputs": [
    {
     "data": {
      "image/png": "[encoded data removed]",
      "text/plain": [
       "<Figure size 1200x600 with 1 Axes>"
      ]
     },
     "metadata": {},
     "output_type": "display_data"
    }
   ],
   "source": [
    "# 2. Sales by Category\n",
    "y_lbl = \"category\"\n",
    "x_lbl = \"total_price\"\n",
    "\n",
    "category_sales = df.groupby(y_lbl)[x_lbl].sum().sort_values(ascending=False).reset_index()\n",
    "\n",
    "plt.figure(figsize=(12, 6))\n",
    "sns.barplot(data=category_sales, \n",
    "            x= x_lbl , \n",
    "            y= y_lbl,\n",
    "            hue= y_lbl,\n",
    "            palette='rocket')\n",
    "plt.title('Sales by Product Category', fontsize=16)\n",
    "plt.xlabel(f'{x_lbl}', fontsize=12)\n",
    "plt.ylabel(f'{y_lbl}', fontsize=12)\n",
    "plt.tight_layout()\n",
    "plt.show()"
   ]
  },
  {
   "cell_type": "code",
   "execution_count": 339,
   "id": "153d6297",
   "metadata": {},
   "outputs": [
    {
     "data": {
      "image/png": "[encoded data removed]",
      "text/plain": [
       "<Figure size 1200x600 with 1 Axes>"
      ]
     },
     "metadata": {},
     "output_type": "display_data"
    }
   ],
   "source": [
    "y_lbl = \"supplier\"\n",
    "x_lbl = \"total_price\"\n",
    "\n",
    "category_sales = df.groupby(y_lbl)[x_lbl].sum().sort_values(ascending=False).reset_index()\n",
    "\n",
    "plt.figure(figsize=(12, 6))\n",
    "sns.barplot(data=category_sales, \n",
    "            x= x_lbl , \n",
    "            y= y_lbl,\n",
    "            hue= y_lbl,\n",
    "            palette='rocket')\n",
    "plt.title('Sales by Product supplier', fontsize=16)\n",
    "plt.xlabel(f'{x_lbl}', fontsize=12)\n",
    "plt.ylabel(f'{y_lbl}', fontsize=12)\n",
    "plt.tight_layout()\n",
    "plt.show()"
   ]
  },
  {
   "cell_type": "code",
   "execution_count": 298,
   "id": "647e42a0",
   "metadata": {},
   "outputs": [
    {
     "data": {
      "text/plain": [
       "Index(['payment_key', 'coustomer_key', 'time_key', 'item_key', 'store_key',\n",
       "       'quantity', 'total_price', 'date', 'hour', 'day', 'week', 'month',\n",
       "       'quarter', 'year', 'division', 'district', 'upazila', 'item_name',\n",
       "       'desc', 'unit_price', 'man_country', 'supplier', 'unit', 'month_year',\n",
       "       'category'],\n",
       "      dtype='object')"
      ]
     },
     "execution_count": 298,
     "metadata": {},
     "output_type": "execute_result"
    }
   ],
   "source": [
    "df.columns"
   ]
  },
  {
   "cell_type": "markdown",
   "id": "a786492e",
   "metadata": {},
   "source": [
    "# <span style=\"color:magenta; font-weight:bold\">📊 Task 2 : Customer Behavior Analysis</span>\n",
    "<hr>"
   ]
  },
  {
   "cell_type": "code",
   "execution_count": 356,
   "id": "359b048e",
   "metadata": {},
   "outputs": [
    {
     "name": "stdout",
     "output_type": "stream",
     "text": [
      "\n",
      "🏆 Top 10 Customers by Spending:\n"
     ]
    },
    {
     "data": {
      "text/html": [
       "<style type=\"text/css\">\n",
       "#T_ac6fa_row0_col0, #T_ac6fa_row1_col1 {\n",
       "  background-color: #08306b;\n",
       "  color: #f1f1f1;\n",
       "}\n",
       "#T_ac6fa_row0_col1 {\n",
       "  background-color: #4695c8;\n",
       "  color: #f1f1f1;\n",
       "}\n",
       "#T_ac6fa_row1_col0 {\n",
       "  background-color: #1c6ab0;\n",
       "  color: #f1f1f1;\n",
       "}\n",
       "#T_ac6fa_row2_col0 {\n",
       "  background-color: #4d99ca;\n",
       "  color: #f1f1f1;\n",
       "}\n",
       "#T_ac6fa_row2_col1 {\n",
       "  background-color: #5ba3d0;\n",
       "  color: #f1f1f1;\n",
       "}\n",
       "#T_ac6fa_row3_col0 {\n",
       "  background-color: #a4cce3;\n",
       "  color: #000000;\n",
       "}\n",
       "#T_ac6fa_row3_col1 {\n",
       "  background-color: #3c8cc3;\n",
       "  color: #f1f1f1;\n",
       "}\n",
       "#T_ac6fa_row4_col0 {\n",
       "  background-color: #bed8ec;\n",
       "  color: #000000;\n",
       "}\n",
       "#T_ac6fa_row4_col1 {\n",
       "  background-color: #1562a9;\n",
       "  color: #f1f1f1;\n",
       "}\n",
       "#T_ac6fa_row5_col0 {\n",
       "  background-color: #bfd8ed;\n",
       "  color: #000000;\n",
       "}\n",
       "#T_ac6fa_row5_col1 {\n",
       "  background-color: #d7e6f5;\n",
       "  color: #000000;\n",
       "}\n",
       "#T_ac6fa_row6_col0 {\n",
       "  background-color: #d1e2f3;\n",
       "  color: #000000;\n",
       "}\n",
       "#T_ac6fa_row6_col1, #T_ac6fa_row9_col0 {\n",
       "  background-color: #f7fbff;\n",
       "  color: #000000;\n",
       "}\n",
       "#T_ac6fa_row7_col0 {\n",
       "  background-color: #d8e7f5;\n",
       "  color: #000000;\n",
       "}\n",
       "#T_ac6fa_row7_col1 {\n",
       "  background-color: #a5cde3;\n",
       "  color: #000000;\n",
       "}\n",
       "#T_ac6fa_row8_col0 {\n",
       "  background-color: #f2f8fd;\n",
       "  color: #000000;\n",
       "}\n",
       "#T_ac6fa_row8_col1 {\n",
       "  background-color: #2c7cba;\n",
       "  color: #f1f1f1;\n",
       "}\n",
       "#T_ac6fa_row9_col1 {\n",
       "  background-color: #afd1e7;\n",
       "  color: #000000;\n",
       "}\n",
       "</style>\n",
       "<table id=\"T_ac6fa\">\n",
       "  <thead>\n",
       "    <tr>\n",
       "      <th class=\"blank level0\" >&nbsp;</th>\n",
       "      <th id=\"T_ac6fa_level0_col0\" class=\"col_heading level0 col0\" >total_spent</th>\n",
       "      <th id=\"T_ac6fa_level0_col1\" class=\"col_heading level0 col1\" >purchase_count</th>\n",
       "    </tr>\n",
       "    <tr>\n",
       "      <th class=\"index_name level0\" >coustomer_key</th>\n",
       "      <th class=\"blank col0\" >&nbsp;</th>\n",
       "      <th class=\"blank col1\" >&nbsp;</th>\n",
       "    </tr>\n",
       "  </thead>\n",
       "  <tbody>\n",
       "    <tr>\n",
       "      <th id=\"T_ac6fa_level0_row0\" class=\"row_heading level0 row0\" >C004349</th>\n",
       "      <td id=\"T_ac6fa_row0_col0\" class=\"data row0 col0\" >17104.500000</td>\n",
       "      <td id=\"T_ac6fa_row0_col1\" class=\"data row0 col1\" >137</td>\n",
       "    </tr>\n",
       "    <tr>\n",
       "      <th id=\"T_ac6fa_level0_row1\" class=\"row_heading level0 row1\" >C005316</th>\n",
       "      <td id=\"T_ac6fa_row1_col0\" class=\"data row1 col0\" >16853.250000</td>\n",
       "      <td id=\"T_ac6fa_row1_col1\" class=\"data row1 col1\" >149</td>\n",
       "    </tr>\n",
       "    <tr>\n",
       "      <th id=\"T_ac6fa_level0_row2\" class=\"row_heading level0 row2\" >C000273</th>\n",
       "      <td id=\"T_ac6fa_row2_col0\" class=\"data row2 col0\" >16645.750000</td>\n",
       "      <td id=\"T_ac6fa_row2_col1\" class=\"data row2 col1\" >135</td>\n",
       "    </tr>\n",
       "    <tr>\n",
       "      <th id=\"T_ac6fa_level0_row3\" class=\"row_heading level0 row3\" >C001438</th>\n",
       "      <td id=\"T_ac6fa_row3_col0\" class=\"data row3 col0\" >16381.500000</td>\n",
       "      <td id=\"T_ac6fa_row3_col1\" class=\"data row3 col1\" >138</td>\n",
       "    </tr>\n",
       "    <tr>\n",
       "      <th id=\"T_ac6fa_level0_row4\" class=\"row_heading level0 row4\" >C007553</th>\n",
       "      <td id=\"T_ac6fa_row4_col0\" class=\"data row4 col0\" >16288.750000</td>\n",
       "      <td id=\"T_ac6fa_row4_col1\" class=\"data row4 col1\" >143</td>\n",
       "    </tr>\n",
       "    <tr>\n",
       "      <th id=\"T_ac6fa_level0_row5\" class=\"row_heading level0 row5\" >C007415</th>\n",
       "      <td id=\"T_ac6fa_row5_col0\" class=\"data row5 col0\" >16282.500000</td>\n",
       "      <td id=\"T_ac6fa_row5_col1\" class=\"data row5 col1\" >123</td>\n",
       "    </tr>\n",
       "    <tr>\n",
       "      <th id=\"T_ac6fa_level0_row6\" class=\"row_heading level0 row6\" >C008009</th>\n",
       "      <td id=\"T_ac6fa_row6_col0\" class=\"data row6 col0\" >16194.750000</td>\n",
       "      <td id=\"T_ac6fa_row6_col1\" class=\"data row6 col1\" >118</td>\n",
       "    </tr>\n",
       "    <tr>\n",
       "      <th id=\"T_ac6fa_level0_row7\" class=\"row_heading level0 row7\" >C007205</th>\n",
       "      <td id=\"T_ac6fa_row7_col0\" class=\"data row7 col0\" >16154.500000</td>\n",
       "      <td id=\"T_ac6fa_row7_col1\" class=\"data row7 col1\" >129</td>\n",
       "    </tr>\n",
       "    <tr>\n",
       "      <th id=\"T_ac6fa_level0_row8\" class=\"row_heading level0 row8\" >C002968</th>\n",
       "      <td id=\"T_ac6fa_row8_col0\" class=\"data row8 col0\" >16006.500000</td>\n",
       "      <td id=\"T_ac6fa_row8_col1\" class=\"data row8 col1\" >140</td>\n",
       "    </tr>\n",
       "    <tr>\n",
       "      <th id=\"T_ac6fa_level0_row9\" class=\"row_heading level0 row9\" >C006902</th>\n",
       "      <td id=\"T_ac6fa_row9_col0\" class=\"data row9 col0\" >15977.250000</td>\n",
       "      <td id=\"T_ac6fa_row9_col1\" class=\"data row9 col1\" >128</td>\n",
       "    </tr>\n",
       "  </tbody>\n",
       "</table>\n"
      ],
      "text/plain": [
       "<pandas.io.formats.style.Styler at 0x250f9080590>"
      ]
     },
     "metadata": {},
     "output_type": "display_data"
    }
   ],
   "source": [
    "# 1. TOP CUSTOMERS by total spent\n",
    "top_customers = df.groupby('coustomer_key').agg(\n",
    "    total_spent=('total_price', 'sum'),\n",
    "    purchase_count=('payment_key', 'count')\n",
    ").sort_values('total_spent', ascending=False).head(10)\n",
    "\n",
    "print(\"\\n🏆 Top 10 Customers by Spending:\")\n",
    "display(top_customers.style.background_gradient(cmap='Blues'))"
   ]
  },
  {
   "cell_type": "code",
   "execution_count": 355,
   "id": "b6d7fe29",
   "metadata": {},
   "outputs": [
    {
     "name": "stdout",
     "output_type": "stream",
     "text": [
      "\n",
      "🏆 Top 10 Customers by Spending:\n"
     ]
    },
    {
     "data": {
      "text/html": [
       "<style type=\"text/css\">\n",
       "#T_8312e_row0_col0 {\n",
       "  background-color: #4997c9;\n",
       "  color: #f1f1f1;\n",
       "}\n",
       "#T_8312e_row0_col1, #T_8312e_row1_col0 {\n",
       "  background-color: #08306b;\n",
       "  color: #f1f1f1;\n",
       "}\n",
       "#T_8312e_row1_col1 {\n",
       "  background-color: #7ab6d9;\n",
       "  color: #000000;\n",
       "}\n",
       "#T_8312e_row2_col0 {\n",
       "  background-color: #7fb9da;\n",
       "  color: #000000;\n",
       "}\n",
       "#T_8312e_row2_col1 {\n",
       "  background-color: #b4d3e9;\n",
       "  color: #000000;\n",
       "}\n",
       "#T_8312e_row3_col0 {\n",
       "  background-color: #c9ddf0;\n",
       "  color: #000000;\n",
       "}\n",
       "#T_8312e_row3_col1, #T_8312e_row6_col0 {\n",
       "  background-color: #caddf0;\n",
       "  color: #000000;\n",
       "}\n",
       "#T_8312e_row4_col0 {\n",
       "  background-color: #74b3d8;\n",
       "  color: #000000;\n",
       "}\n",
       "#T_8312e_row4_col1, #T_8312e_row5_col1, #T_8312e_row6_col1, #T_8312e_row7_col1 {\n",
       "  background-color: #e8f1fa;\n",
       "  color: #000000;\n",
       "}\n",
       "#T_8312e_row5_col0 {\n",
       "  background-color: #d0e2f2;\n",
       "  color: #000000;\n",
       "}\n",
       "#T_8312e_row7_col0 {\n",
       "  background-color: #9ac8e0;\n",
       "  color: #000000;\n",
       "}\n",
       "#T_8312e_row8_col0 {\n",
       "  background-color: #1f6eb3;\n",
       "  color: #f1f1f1;\n",
       "}\n",
       "#T_8312e_row8_col1, #T_8312e_row9_col0, #T_8312e_row9_col1 {\n",
       "  background-color: #f7fbff;\n",
       "  color: #000000;\n",
       "}\n",
       "</style>\n",
       "<table id=\"T_8312e\">\n",
       "  <thead>\n",
       "    <tr>\n",
       "      <th class=\"blank level0\" >&nbsp;</th>\n",
       "      <th id=\"T_8312e_level0_col0\" class=\"col_heading level0 col0\" >total_spent</th>\n",
       "      <th id=\"T_8312e_level0_col1\" class=\"col_heading level0 col1\" >purchase_count</th>\n",
       "    </tr>\n",
       "    <tr>\n",
       "      <th class=\"index_name level0\" >coustomer_key</th>\n",
       "      <th class=\"blank col0\" >&nbsp;</th>\n",
       "      <th class=\"blank col1\" >&nbsp;</th>\n",
       "    </tr>\n",
       "  </thead>\n",
       "  <tbody>\n",
       "    <tr>\n",
       "      <th id=\"T_8312e_level0_row0\" class=\"row_heading level0 row0\" >C006906</th>\n",
       "      <td id=\"T_8312e_row0_col0\" class=\"data row0 col0\" >15922.000000</td>\n",
       "      <td id=\"T_8312e_row0_col1\" class=\"data row0 col1\" >156</td>\n",
       "    </tr>\n",
       "    <tr>\n",
       "      <th id=\"T_8312e_level0_row1\" class=\"row_heading level0 row1\" >C005316</th>\n",
       "      <td id=\"T_8312e_row1_col0\" class=\"data row1 col0\" >16853.250000</td>\n",
       "      <td id=\"T_8312e_row1_col1\" class=\"data row1 col1\" >149</td>\n",
       "    </tr>\n",
       "    <tr>\n",
       "      <th id=\"T_8312e_level0_row2\" class=\"row_heading level0 row2\" >C008798</th>\n",
       "      <td id=\"T_8312e_row2_col0\" class=\"data row2 col0\" >15567.500000</td>\n",
       "      <td id=\"T_8312e_row2_col1\" class=\"data row2 col1\" >147</td>\n",
       "    </tr>\n",
       "    <tr>\n",
       "      <th id=\"T_8312e_level0_row3\" class=\"row_heading level0 row3\" >C001299</th>\n",
       "      <td id=\"T_8312e_row3_col0\" class=\"data row3 col0\" >15053.750000</td>\n",
       "      <td id=\"T_8312e_row3_col1\" class=\"data row3 col1\" >146</td>\n",
       "    </tr>\n",
       "    <tr>\n",
       "      <th id=\"T_8312e_level0_row4\" class=\"row_heading level0 row4\" >C000152</th>\n",
       "      <td id=\"T_8312e_row4_col0\" class=\"data row4 col0\" >15624.500000</td>\n",
       "      <td id=\"T_8312e_row4_col1\" class=\"data row4 col1\" >144</td>\n",
       "    </tr>\n",
       "    <tr>\n",
       "      <th id=\"T_8312e_level0_row5\" class=\"row_heading level0 row5\" >C002278</th>\n",
       "      <td id=\"T_8312e_row5_col0\" class=\"data row5 col0\" >14962.000000</td>\n",
       "      <td id=\"T_8312e_row5_col1\" class=\"data row5 col1\" >144</td>\n",
       "    </tr>\n",
       "    <tr>\n",
       "      <th id=\"T_8312e_level0_row6\" class=\"row_heading level0 row6\" >C002002</th>\n",
       "      <td id=\"T_8312e_row6_col0\" class=\"data row6 col0\" >15047.500000</td>\n",
       "      <td id=\"T_8312e_row6_col1\" class=\"data row6 col1\" >144</td>\n",
       "    </tr>\n",
       "    <tr>\n",
       "      <th id=\"T_8312e_level0_row7\" class=\"row_heading level0 row7\" >C006321</th>\n",
       "      <td id=\"T_8312e_row7_col0\" class=\"data row7 col0\" >15403.250000</td>\n",
       "      <td id=\"T_8312e_row7_col1\" class=\"data row7 col1\" >144</td>\n",
       "    </tr>\n",
       "    <tr>\n",
       "      <th id=\"T_8312e_level0_row8\" class=\"row_heading level0 row8\" >C007553</th>\n",
       "      <td id=\"T_8312e_row8_col0\" class=\"data row8 col0\" >16288.750000</td>\n",
       "      <td id=\"T_8312e_row8_col1\" class=\"data row8 col1\" >143</td>\n",
       "    </tr>\n",
       "    <tr>\n",
       "      <th id=\"T_8312e_level0_row9\" class=\"row_heading level0 row9\" >C003361</th>\n",
       "      <td id=\"T_8312e_row9_col0\" class=\"data row9 col0\" >14502.250000</td>\n",
       "      <td id=\"T_8312e_row9_col1\" class=\"data row9 col1\" >143</td>\n",
       "    </tr>\n",
       "  </tbody>\n",
       "</table>\n"
      ],
      "text/plain": [
       "<pandas.io.formats.style.Styler at 0x250d335da50>"
      ]
     },
     "metadata": {},
     "output_type": "display_data"
    }
   ],
   "source": [
    "# 1. TOP CUSTOMERS by  purchase count\n",
    "top_customers = df.groupby('coustomer_key').agg(\n",
    "    total_spent=('total_price', 'sum'),\n",
    "    purchase_count=('payment_key', 'count')\n",
    ").sort_values('purchase_count', ascending=False).head(10)\n",
    "\n",
    "print(\"\\n🏆 Top 10 Customers by Spending:\")\n",
    "display(top_customers.style.background_gradient(cmap='Blues'))"
   ]
  },
  {
   "cell_type": "code",
   "execution_count": null,
   "id": "acd8b84c",
   "metadata": {},
   "outputs": [
    {
     "name": "stdout",
     "output_type": "stream",
     "text": [
      "🔄 Found 1852 frequent buyers (top 20% by purchase frequency)\n"
     ]
    },
    {
     "data": {
      "text/html": [
       "<style type=\"text/css\">\n",
       "</style>\n",
       "<table id=\"T_6b35b\">\n",
       "  <thead>\n",
       "    <tr>\n",
       "      <th class=\"blank level0\" >&nbsp;</th>\n",
       "      <th id=\"T_6b35b_level0_col0\" class=\"col_heading level0 col0\" >first_purchase</th>\n",
       "      <th id=\"T_6b35b_level0_col1\" class=\"col_heading level0 col1\" >last_purchase</th>\n",
       "      <th id=\"T_6b35b_level0_col2\" class=\"col_heading level0 col2\" >purchase_count</th>\n",
       "      <th id=\"T_6b35b_level0_col3\" class=\"col_heading level0 col3\" >total_spent</th>\n",
       "      <th id=\"T_6b35b_level0_col4\" class=\"col_heading level0 col4\" >days_as_customer</th>\n",
       "      <th id=\"T_6b35b_level0_col5\" class=\"col_heading level0 col5\" >purchase_frequency</th>\n",
       "    </tr>\n",
       "    <tr>\n",
       "      <th class=\"index_name level0\" >coustomer_key</th>\n",
       "      <th class=\"blank col0\" >&nbsp;</th>\n",
       "      <th class=\"blank col1\" >&nbsp;</th>\n",
       "      <th class=\"blank col2\" >&nbsp;</th>\n",
       "      <th class=\"blank col3\" >&nbsp;</th>\n",
       "      <th class=\"blank col4\" >&nbsp;</th>\n",
       "      <th class=\"blank col5\" >&nbsp;</th>\n",
       "    </tr>\n",
       "  </thead>\n",
       "  <tbody>\n",
       "    <tr>\n",
       "      <th id=\"T_6b35b_level0_row0\" class=\"row_heading level0 row0\" >C006906</th>\n",
       "      <td id=\"T_6b35b_row0_col0\" class=\"data row0 col0\" >2014-01-28</td>\n",
       "      <td id=\"T_6b35b_row0_col1\" class=\"data row0 col1\" >2021-01-04</td>\n",
       "      <td id=\"T_6b35b_row0_col2\" class=\"data row0 col2\" >156</td>\n",
       "      <td id=\"T_6b35b_row0_col3\" class=\"data row0 col3\" >$15,922.00</td>\n",
       "      <td id=\"T_6b35b_row0_col4\" class=\"data row0 col4\" >2532</td>\n",
       "      <td id=\"T_6b35b_row0_col5\" class=\"data row0 col5\" >0.06 purchases/day</td>\n",
       "    </tr>\n",
       "    <tr>\n",
       "      <th id=\"T_6b35b_level0_row1\" class=\"row_heading level0 row1\" >C005316</th>\n",
       "      <td id=\"T_6b35b_row1_col0\" class=\"data row1 col0\" >2014-01-28</td>\n",
       "      <td id=\"T_6b35b_row1_col1\" class=\"data row1 col1\" >2021-01-13</td>\n",
       "      <td id=\"T_6b35b_row1_col2\" class=\"data row1 col2\" >149</td>\n",
       "      <td id=\"T_6b35b_row1_col3\" class=\"data row1 col3\" >$16,853.25</td>\n",
       "      <td id=\"T_6b35b_row1_col4\" class=\"data row1 col4\" >2542</td>\n",
       "      <td id=\"T_6b35b_row1_col5\" class=\"data row1 col5\" >0.06 purchases/day</td>\n",
       "    </tr>\n",
       "    <tr>\n",
       "      <th id=\"T_6b35b_level0_row2\" class=\"row_heading level0 row2\" >C008798</th>\n",
       "      <td id=\"T_6b35b_row2_col0\" class=\"data row2 col0\" >2014-02-04</td>\n",
       "      <td id=\"T_6b35b_row2_col1\" class=\"data row2 col1\" >2021-01-16</td>\n",
       "      <td id=\"T_6b35b_row2_col2\" class=\"data row2 col2\" >147</td>\n",
       "      <td id=\"T_6b35b_row2_col3\" class=\"data row2 col3\" >$15,567.50</td>\n",
       "      <td id=\"T_6b35b_row2_col4\" class=\"data row2 col4\" >2538</td>\n",
       "      <td id=\"T_6b35b_row2_col5\" class=\"data row2 col5\" >0.06 purchases/day</td>\n",
       "    </tr>\n",
       "    <tr>\n",
       "      <th id=\"T_6b35b_level0_row3\" class=\"row_heading level0 row3\" >C001299</th>\n",
       "      <td id=\"T_6b35b_row3_col0\" class=\"data row3 col0\" >2014-02-13</td>\n",
       "      <td id=\"T_6b35b_row3_col1\" class=\"data row3 col1\" >2021-01-16</td>\n",
       "      <td id=\"T_6b35b_row3_col2\" class=\"data row3 col2\" >146</td>\n",
       "      <td id=\"T_6b35b_row3_col3\" class=\"data row3 col3\" >$15,053.75</td>\n",
       "      <td id=\"T_6b35b_row3_col4\" class=\"data row3 col4\" >2528</td>\n",
       "      <td id=\"T_6b35b_row3_col5\" class=\"data row3 col5\" >0.06 purchases/day</td>\n",
       "    </tr>\n",
       "    <tr>\n",
       "      <th id=\"T_6b35b_level0_row4\" class=\"row_heading level0 row4\" >C000152</th>\n",
       "      <td id=\"T_6b35b_row4_col0\" class=\"data row4 col0\" >2014-02-13</td>\n",
       "      <td id=\"T_6b35b_row4_col1\" class=\"data row4 col1\" >2021-01-16</td>\n",
       "      <td id=\"T_6b35b_row4_col2\" class=\"data row4 col2\" >144</td>\n",
       "      <td id=\"T_6b35b_row4_col3\" class=\"data row4 col3\" >$15,624.50</td>\n",
       "      <td id=\"T_6b35b_row4_col4\" class=\"data row4 col4\" >2528</td>\n",
       "      <td id=\"T_6b35b_row4_col5\" class=\"data row4 col5\" >0.06 purchases/day</td>\n",
       "    </tr>\n",
       "    <tr>\n",
       "      <th id=\"T_6b35b_level0_row5\" class=\"row_heading level0 row5\" >C002278</th>\n",
       "      <td id=\"T_6b35b_row5_col0\" class=\"data row5 col0\" >2014-01-21</td>\n",
       "      <td id=\"T_6b35b_row5_col1\" class=\"data row5 col1\" >2021-01-15</td>\n",
       "      <td id=\"T_6b35b_row5_col2\" class=\"data row5 col2\" >144</td>\n",
       "      <td id=\"T_6b35b_row5_col3\" class=\"data row5 col3\" >$14,962.00</td>\n",
       "      <td id=\"T_6b35b_row5_col4\" class=\"data row5 col4\" >2550</td>\n",
       "      <td id=\"T_6b35b_row5_col5\" class=\"data row5 col5\" >0.06 purchases/day</td>\n",
       "    </tr>\n",
       "    <tr>\n",
       "      <th id=\"T_6b35b_level0_row6\" class=\"row_heading level0 row6\" >C002002</th>\n",
       "      <td id=\"T_6b35b_row6_col0\" class=\"data row6 col0\" >2014-01-22</td>\n",
       "      <td id=\"T_6b35b_row6_col1\" class=\"data row6 col1\" >2021-01-20</td>\n",
       "      <td id=\"T_6b35b_row6_col2\" class=\"data row6 col2\" >144</td>\n",
       "      <td id=\"T_6b35b_row6_col3\" class=\"data row6 col3\" >$15,047.50</td>\n",
       "      <td id=\"T_6b35b_row6_col4\" class=\"data row6 col4\" >2555</td>\n",
       "      <td id=\"T_6b35b_row6_col5\" class=\"data row6 col5\" >0.06 purchases/day</td>\n",
       "    </tr>\n",
       "    <tr>\n",
       "      <th id=\"T_6b35b_level0_row7\" class=\"row_heading level0 row7\" >C006321</th>\n",
       "      <td id=\"T_6b35b_row7_col0\" class=\"data row7 col0\" >2014-03-08</td>\n",
       "      <td id=\"T_6b35b_row7_col1\" class=\"data row7 col1\" >2020-12-15</td>\n",
       "      <td id=\"T_6b35b_row7_col2\" class=\"data row7 col2\" >144</td>\n",
       "      <td id=\"T_6b35b_row7_col3\" class=\"data row7 col3\" >$15,403.25</td>\n",
       "      <td id=\"T_6b35b_row7_col4\" class=\"data row7 col4\" >2473</td>\n",
       "      <td id=\"T_6b35b_row7_col5\" class=\"data row7 col5\" >0.06 purchases/day</td>\n",
       "    </tr>\n",
       "    <tr>\n",
       "      <th id=\"T_6b35b_level0_row8\" class=\"row_heading level0 row8\" >C007553</th>\n",
       "      <td id=\"T_6b35b_row8_col0\" class=\"data row8 col0\" >2014-02-01</td>\n",
       "      <td id=\"T_6b35b_row8_col1\" class=\"data row8 col1\" >2021-01-10</td>\n",
       "      <td id=\"T_6b35b_row8_col2\" class=\"data row8 col2\" >143</td>\n",
       "      <td id=\"T_6b35b_row8_col3\" class=\"data row8 col3\" >$16,288.75</td>\n",
       "      <td id=\"T_6b35b_row8_col4\" class=\"data row8 col4\" >2535</td>\n",
       "      <td id=\"T_6b35b_row8_col5\" class=\"data row8 col5\" >0.06 purchases/day</td>\n",
       "    </tr>\n",
       "    <tr>\n",
       "      <th id=\"T_6b35b_level0_row9\" class=\"row_heading level0 row9\" >C003361</th>\n",
       "      <td id=\"T_6b35b_row9_col0\" class=\"data row9 col0\" >2014-03-03</td>\n",
       "      <td id=\"T_6b35b_row9_col1\" class=\"data row9 col1\" >2021-01-06</td>\n",
       "      <td id=\"T_6b35b_row9_col2\" class=\"data row9 col2\" >143</td>\n",
       "      <td id=\"T_6b35b_row9_col3\" class=\"data row9 col3\" >$14,502.25</td>\n",
       "      <td id=\"T_6b35b_row9_col4\" class=\"data row9 col4\" >2501</td>\n",
       "      <td id=\"T_6b35b_row9_col5\" class=\"data row9 col5\" >0.06 purchases/day</td>\n",
       "    </tr>\n",
       "  </tbody>\n",
       "</table>\n"
      ],
      "text/plain": [
       "<pandas.io.formats.style.Styler at 0x250f985da50>"
      ]
     },
     "metadata": {},
     "output_type": "display_data"
    }
   ],
   "source": [
    "# FREQUENT BUYER ANALYSIS\n",
    "frequent_buyers = df.groupby('coustomer_key').agg(\n",
    "    first_purchase=('date', 'min'),\n",
    "    last_purchase=('date', 'max'),\n",
    "    purchase_count=('payment_key', 'count'),\n",
    "    total_spent=('total_price', 'sum')\n",
    ").sort_values('purchase_count', ascending=False)\n",
    "\n",
    "# Calculate days as customer\n",
    "frequent_buyers['days_as_customer'] = (frequent_buyers['last_purchase'] - frequent_buyers['first_purchase']).dt.days\n",
    "frequent_buyers['purchase_frequency'] = frequent_buyers['purchase_count'] / frequent_buyers['days_as_customer'].replace(0, 1)  \n",
    "\n",
    "# Filter for frequent buyers (top 20% by purchase count)\n",
    "threshold = frequent_buyers['purchase_count'].quantile(0.8)\n",
    "frequent_customers = frequent_buyers[frequent_buyers['purchase_count'] >= threshold]\n",
    "\n",
    "print(f\"🔄 Found {len(frequent_customers)} frequent buyers (top 20% by purchase frequency)\")\n",
    "display(frequent_customers.head(10).style.format({\n",
    "    'first_purchase': '{:%Y-%m-%d}',\n",
    "    'last_purchase': '{:%Y-%m-%d}',\n",
    "    'total_spent': '${:,.2f}',\n",
    "    'purchase_frequency': '{:.2f} purchases/day'\n",
    "}))\n"
   ]
  },
  {
   "cell_type": "code",
   "execution_count": 361,
   "id": "624422cc",
   "metadata": {},
   "outputs": [
    {
     "data": {
      "image/png": "[encoded data removed]",
      "text/plain": [
       "<Figure size 1400x600 with 1 Axes>"
      ]
     },
     "metadata": {},
     "output_type": "display_data"
    }
   ],
   "source": [
    "# Visualization\n",
    "plt.figure(figsize=(14, 6))\n",
    "\n",
    "# Top 10 frequent buyers timeline\n",
    "top_10 = frequent_customers.head(10).reset_index()\n",
    "plt.subplot(1, 2, 1)\n",
    "for i, row in top_10.iterrows():\n",
    "    plt.plot([row['first_purchase'], row['last_purchase']], [i, i], \n",
    "             marker='o', label=row['coustomer_key'])\n",
    "plt.yticks(range(len(top_10)), top_10['coustomer_key'])\n",
    "plt.title('Top 10 Frequent Buyers: Purchase Timeline')\n",
    "plt.xlabel('Date')\n",
    "plt.grid(True, alpha=0.3)"
   ]
  },
  {
   "cell_type": "code",
   "execution_count": 360,
   "id": "8e1a657e",
   "metadata": {},
   "outputs": [
    {
     "data": {
      "image/png": "[encoded data removed]",
      "text/plain": [
       "<Figure size 1400x600 with 1 Axes>"
      ]
     },
     "metadata": {},
     "output_type": "display_data"
    }
   ],
   "source": [
    "# Visualization\n",
    "plt.figure(figsize=(14, 6))\n",
    "\n",
    "# Purchase frequency distribution\n",
    "plt.subplot(1, 2, 2)\n",
    "sns.histplot(frequent_customers['purchase_frequency'], bins=20, kde=True)\n",
    "plt.title('Purchase Frequency Distribution (Frequent Buyers)')\n",
    "plt.xlabel('Purchases per Day')\n",
    "plt.ylabel('Number of Customers')\n",
    "\n",
    "plt.tight_layout()\n",
    "plt.show()"
   ]
  }
 ],
 "metadata": {
  "kernelspec": {
   "display_name": "Python 3",
   "language": "python",
   "name": "python3"
  },
  "language_info": {
   "codemirror_mode": {
    "name": "ipython",
    "version": 3
   },
   "file_extension": ".py",
   "mimetype": "text/x-python",
   "name": "python",
   "nbconvert_exporter": "python",
   "pygments_lexer": "ipython3",
   "version": "3.11.4"
  }
 },
 "nbformat": 4,
 "nbformat_minor": 5
}
