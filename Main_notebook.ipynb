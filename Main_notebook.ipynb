{
 "cells": [
  {
   "cell_type": "markdown",
   "id": "c3c1b4fa",
   "metadata": {},
   "source": [
    "# <span style=\"color:magenta; font-weight:bold\">Retail Sales Data Analysis Notebook  </span>\n"
   ]
  },
  {
   "cell_type": "markdown",
   "id": "054cf0cf",
   "metadata": {},
   "source": [
    "#### **Objective:** Understand the dataset, explore relationships between tables, and plan analysis tasks.\n",
    "---"
   ]
  },
  {
   "cell_type": "markdown",
   "id": "c383464e",
   "metadata": {},
   "source": [
    "  \n",
    "## <span style=\"color:#0076cd; font-weight:bold\">**1. Dataset Overview**</span> \n",
    "We have **6 CSV files**:  \n",
    "1. **Fact Table** (Main sales transactions)  \n",
    "2. **Customer Table** (Customer details)  \n",
    "3. **Item Table** (Product details)  \n",
    "4. **Store Table** (Store locations)  \n",
    "5. **Time Table** (Date/hour breakdown)  \n",
    "6. **Payment Table** (Payment methods)  \n",
    "\n",
    "These tables form a **star schema**, where the `fact_table` connects to all other tables using **foreign keys**.  \n",
    "\n",
    "---"
   ]
  },
  {
   "cell_type": "markdown",
   "id": "314c526d",
   "metadata": {},
   "source": [
    "\n",
    "## <span style=\"color:#0076cd; font-weight:bold\">2. Understanding Each CSV File</span>   \n",
    "\n"
   ]
  },
  {
   "cell_type": "markdown",
   "id": "cd8d9cb5",
   "metadata": {},
   "source": [
    "\n",
    "### <span style=\"color:lime; font-weight:bold\">📌 Fact Table (`fact_table.csv`)</span>  \n",
    "**Description:** Contains every sales transaction.  \n",
    "**Key Columns:**  \n",
    "- `payment_key`, `customer_key`, `time_key`, `item_key`, `store_key` (Foreign Keys)  \n",
    "- `quantity`, `unit_price`, `total_price` (Sales metrics)  \n",
    "\n",
    "**Role:**  \n",
    "- The **central table** that links to all other tables.  \n",
    "- Used to calculate sales, revenue, and trends.  \n",
    "\n",
    "---"
   ]
  },
  {
   "cell_type": "markdown",
   "id": "9bd9e562",
   "metadata": {},
   "source": [
    "### <span style=\"color:lime; font-weight:bold\">📌 Customer Table (`customer_table.csv`)</span>   \n",
    "**Description:** Stores customer information.  \n",
    "**Key Columns:**  \n",
    "- `customer_key` (Primary Key)  \n",
    "- `name`, `contact_no`, `nid` (Customer details)  \n",
    "\n",
    "**Role:**  \n",
    "- Helps analyze **who is buying** (e.g., repeat customers, high spenders).  \n",
    "\n",
    "---"
   ]
  },
  {
   "cell_type": "markdown",
   "id": "3ec899ba",
   "metadata": {},
   "source": [
    "### <span style=\"color:lime; font-weight:bold\">📌 Item Table (`item_table.csv`)</span>    \n",
    "**Description:** Contains product details.  \n",
    "**Key Columns:**  \n",
    "- `item_key` (Primary Key)  \n",
    "- `item_name`, `desc`, `unit_price`, `supplier`  \n",
    "\n",
    "**Role:**  \n",
    "- Identifies **best-selling products**, pricing trends, and supplier performance.  \n",
    "\n",
    "---"
   ]
  },
  {
   "cell_type": "markdown",
   "id": "6e695aab",
   "metadata": {},
   "source": [
    "### <span style=\"color:lime; font-weight:bold\">📌 Store Table (`store_table.csv`)</span>    \n",
    "**Description:** Lists store locations.  \n",
    "**Key Columns:**  \n",
    "- `store_key` (Primary Key)  \n",
    "- `division`, `district`, `upazila` (Location hierarchy)  \n",
    "\n",
    "**Role:**  \n",
    "- Analyzes **regional sales performance**.  \n",
    "\n",
    "---"
   ]
  },
  {
   "cell_type": "markdown",
   "id": "ca5f107a",
   "metadata": {},
   "source": [
    "### <span style=\"color:lime; font-weight:bold\">📌 Time Table (`time_table.csv`)</span>    \n",
    "**Description:** Breaks down timestamps.  \n",
    "**Key Columns:**  \n",
    "- `time_key` (Primary Key)  \n",
    "- `date`, `hour`, `day`, `month`, `year`  \n",
    "\n",
    "**Role:**  \n",
    "- Used for **time-based analysis** (daily, weekly, seasonal trends).  \n",
    "\n",
    "---"
   ]
  },
  {
   "cell_type": "markdown",
   "id": "780872fc",
   "metadata": {},
   "source": [
    "### <span style=\"color:lime; font-weight:bold\">📌 Payment Table (`payment_table.csv`)</span>    \n",
    "**Description:** Tracks payment methods.  \n",
    "**Key Columns:**  \n",
    "- `payment_key` (Primary Key)  \n",
    "- `trans_type` (Cash/Card), `bank_name`  \n",
    "\n",
    "**Role:**  \n",
    "- Analyzes **payment trends** (e.g., cash vs. card usage).  \n",
    "\n",
    "---"
   ]
  },
  {
   "cell_type": "markdown",
   "id": "7f6d029c",
   "metadata": {},
   "source": [
    "## <span style=\"color:#0076cd; font-weight:bold\">3. How Tables Are Connected</span>   \n",
    "The **Fact Table** links to all other tables:  \n",
    "\n",
    "```\n",
    "fact_table\n",
    "├── customer_key → customer_table → (name, contact_no, nid) \n",
    "├── item_key     → item_dim     → (item_name, desc, unit_price, supplier)\n",
    "├── store_key    → store_dim    → (division, district, upazila)\n",
    "├── time_key     → time_dim     → (date, hour, day, month, year)\n",
    "└── payment_key  → Trans_dim  → (trans_type, bank_name)\n",
    "```"
   ]
  },
  {
   "cell_type": "markdown",
   "id": "e7999836",
   "metadata": {},
   "source": [
    "## <span style=\"color:#0076cd; font-weight:bold\">4. Planned Analysis Tasks</span>     \n",
    "\n",
    "### **📊 Task 1: Sales Performance Dashboard**  \n",
    "- **Tables Needed:** `fact_table`, `time_table`, `item_table`, `store_table` \n",
    "\n",
    "### **👥 Task 2: Customer Behavior Analysis**  \n",
    "- **Tables Needed:** `fact_table`, `customer_table`, `time_table`  \n",
    "\n",
    "### **📦 Task 3: Product & Inventory Insights**  \n",
    "- **Tables Needed:** `fact_table`, `item_table`, `time_table`  \n",
    "\n",
    "### **🏪 Task 4: Store & Location Analysis**  \n",
    "- **Tables Needed:** `fact_table`, `store_table`, `time_table`  \n",
    "\n",
    "### **💳 Task 5: Payment Method Trends**  \n",
    "- **Tables Needed:** `fact_table`, `payment_table`  \n",
    "\n",
    "---"
   ]
  },
  {
   "cell_type": "markdown",
   "id": "875404e5",
   "metadata": {},
   "source": [
    "## <span style=\"color:#0076cd; font-weight:bold\">5. Next Steps</span>     \n",
    "1. Load data using Pandas  \n",
    "2. Merge tables  \n",
    "3. Run analysis  \n",
    "4. Visualize results  "
   ]
  }
 ],
 "metadata": {
  "language_info": {
   "name": "python"
  }
 },
 "nbformat": 4,
 "nbformat_minor": 5
}
